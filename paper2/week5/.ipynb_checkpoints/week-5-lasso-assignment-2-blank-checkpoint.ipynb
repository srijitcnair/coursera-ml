{
 "cells": [
  {
   "cell_type": "markdown",
   "metadata": {},
   "source": [
    "# Regression Week 5: LASSO (coordinate descent)"
   ]
  },
  {
   "cell_type": "markdown",
   "metadata": {},
   "source": [
    "In this notebook, you will implement your very own LASSO solver via coordinate descent. You will:\n",
    "* Write a function to normalize features\n",
    "* Implement coordinate descent for LASSO\n",
    "* Explore effects of L1 penalty"
   ]
  },
  {
   "cell_type": "markdown",
   "metadata": {},
   "source": [
    "# Fire up graphlab create"
   ]
  },
  {
   "cell_type": "markdown",
   "metadata": {},
   "source": [
    "Make sure you have the latest version of graphlab (>= 1.7)"
   ]
  },
  {
   "cell_type": "code",
   "execution_count": 1,
   "metadata": {
    "collapsed": false
   },
   "outputs": [
    {
     "name": "stderr",
     "output_type": "stream",
     "text": [
      "/usr/local/lib/python2.7/dist-packages/requests/packages/urllib3/util/ssl_.py:315: SNIMissingWarning: An HTTPS request has been made, but the SNI (Subject Name Indication) extension to TLS is not available on this platform. This may cause the server to present an incorrect TLS certificate, which can cause validation failures. For more information, see https://urllib3.readthedocs.org/en/latest/security.html#snimissingwarning.\n",
      "  SNIMissingWarning\n",
      "/usr/local/lib/python2.7/dist-packages/requests/packages/urllib3/util/ssl_.py:120: InsecurePlatformWarning: A true SSLContext object is not available. This prevents urllib3 from configuring SSL appropriately and may cause certain SSL connections to fail. For more information, see https://urllib3.readthedocs.org/en/latest/security.html#insecureplatformwarning.\n",
      "  InsecurePlatformWarning\n",
      "[WARNING] graphlab.product_key: Unable to write current GraphLab Create license to /home/srijit/.graphlab/config. Ensure that this user account                         has write permission to /home/srijit/.graphlab/config to save the license for offline use.\n",
      "[INFO] graphlab.cython.cy_server: GraphLab Create v2.1 started. Logging: /tmp/graphlab_server_1479384116.log\n"
     ]
    },
    {
     "name": "stdout",
     "output_type": "stream",
     "text": [
      "This non-commercial license of GraphLab Create for academic use is assigned to srijitcnair@hotmail.com and will expire on September 03, 2017.\n"
     ]
    },
    {
     "name": "stderr",
     "output_type": "stream",
     "text": [
      "[WARNING] graphlab.deploy._session: Unable to create session in specified location: '/home/srijit/.graphlab/artifacts'. Using: '/var/tmp/graphlab-srijit/4406/tmp_session_9ff812b5-7ff2-4891-8e81-f14ba054f4df'\n"
     ]
    }
   ],
   "source": [
    "import graphlab\n",
    "import numpy as np"
   ]
  },
  {
   "cell_type": "markdown",
   "metadata": {},
   "source": [
    "# Load in house sales data\n",
    "\n",
    "Dataset is from house sales in King County, the region where the city of Seattle, WA is located."
   ]
  },
  {
   "cell_type": "code",
   "execution_count": 2,
   "metadata": {
    "collapsed": false
   },
   "outputs": [],
   "source": [
    "sales = graphlab.SFrame('kc_house_data.gl/')\n",
    "# In the dataset, 'floors' was defined with type string, \n",
    "# so we'll convert them to int, before using it below\n",
    "sales['floors'] = sales['floors'].astype(int) "
   ]
  },
  {
   "cell_type": "markdown",
   "metadata": {},
   "source": [
    "If we want to do any \"feature engineering\" like creating new features or adjusting existing ones we should do this directly using the SFrames as seen in the first notebook of Week 2. For this notebook, however, we will work with the existing features."
   ]
  },
  {
   "cell_type": "markdown",
   "metadata": {},
   "source": [
    "# Import useful functions from previous notebook"
   ]
  },
  {
   "cell_type": "markdown",
   "metadata": {},
   "source": [
    "As in Week 2, we convert the SFrame into a 2D Numpy array. Copy and paste `get_num_data()` from the second notebook of Week 2."
   ]
  },
  {
   "cell_type": "code",
   "execution_count": 3,
   "metadata": {
    "collapsed": true
   },
   "outputs": [],
   "source": [
    "def get_numpy_data(data_sframe, features, output):\n",
    "    data_sframe['constant'] = 1 # add a constant column to an SFrame\n",
    "    # prepend variable 'constant' to the features list\n",
    "    features = ['constant'] + features\n",
    "    # select the columns of data_SFrame given by the ‘features’ list into the SFrame ‘features_sframe’\n",
    "    features_sframe = data_sframe[features]\n",
    "    # this will convert the features_sframe into a numpy matrix with GraphLab Create >= 1.7!!\n",
    "    features_matrix = features_sframe.to_numpy()\n",
    "    # assign the column of data_sframe associated with the target to the variable ‘output_sarray’\n",
    "    output_sarray = data_sframe[output]\n",
    "    # this will convert the SArray into a numpy array:\n",
    "    output_array = output_sarray.to_numpy() # GraphLab Create>= 1.7!!\n",
    "    return(features_matrix, output_array)"
   ]
  },
  {
   "cell_type": "markdown",
   "metadata": {},
   "source": [
    "Also, copy and paste the `predict_output()` function to compute the predictions for an entire matrix of features given the matrix and the weights:"
   ]
  },
  {
   "cell_type": "code",
   "execution_count": 4,
   "metadata": {
    "collapsed": true
   },
   "outputs": [],
   "source": [
    "def predict_output(feature_matrix, weights):\n",
    "    predictions = np.dot(feature_matrix,weights)\n",
    "    return(predictions)"
   ]
  },
  {
   "cell_type": "markdown",
   "metadata": {},
   "source": [
    "# Normalize features\n",
    "In the house dataset, features vary wildly in their relative magnitude: `sqft_living` is very large overall compared to `bedrooms`, for instance. As a result, weight for `sqft_living` would be much smaller than weight for `bedrooms`. This is problematic because \"small\" weights are dropped first as `l1_penalty` goes up. \n",
    "\n",
    "To give equal considerations for all features, we need to **normalize features** as discussed in the lectures: we divide each feature by its 2-norm so that the transformed feature has norm 1.\n",
    "\n",
    "Let's see how we can do this normalization easily with Numpy: let us first consider a small matrix."
   ]
  },
  {
   "cell_type": "code",
   "execution_count": 5,
   "metadata": {
    "collapsed": false
   },
   "outputs": [
    {
     "name": "stdout",
     "output_type": "stream",
     "text": [
      "[[  3.   5.   8.]\n",
      " [  4.  12.  15.]]\n"
     ]
    }
   ],
   "source": [
    "X = np.array([[3.,5.,8.],[4.,12.,15.]])\n",
    "print X"
   ]
  },
  {
   "cell_type": "markdown",
   "metadata": {},
   "source": [
    "Numpy provides a shorthand for computing 2-norms of each column:"
   ]
  },
  {
   "cell_type": "code",
   "execution_count": 7,
   "metadata": {
    "collapsed": false
   },
   "outputs": [
    {
     "name": "stdout",
     "output_type": "stream",
     "text": [
      "[  5.  13.  17.]\n"
     ]
    }
   ],
   "source": [
    "norms = np.linalg.norm(X, axis=0) # gives [norm(X[:,0]), norm(X[:,1]), norm(X[:,2])]\n",
    "print norms"
   ]
  },
  {
   "cell_type": "markdown",
   "metadata": {},
   "source": [
    "To normalize, apply element-wise division:"
   ]
  },
  {
   "cell_type": "code",
   "execution_count": 8,
   "metadata": {
    "collapsed": false
   },
   "outputs": [
    {
     "name": "stdout",
     "output_type": "stream",
     "text": [
      "[[ 0.6         0.38461538  0.47058824]\n",
      " [ 0.8         0.92307692  0.88235294]]\n"
     ]
    }
   ],
   "source": [
    "print X / norms # gives [X[:,0]/norm(X[:,0]), X[:,1]/norm(X[:,1]), X[:,2]/norm(X[:,2])]"
   ]
  },
  {
   "cell_type": "markdown",
   "metadata": {},
   "source": [
    "Using the shorthand we just covered, write a short function called `normalize_features(feature_matrix)`, which normalizes columns of a given feature matrix. The function should return a pair `(normalized_features, norms)`, where the second item contains the norms of original features. As discussed in the lectures, we will use these norms to normalize the test data in the same way as we normalized the training data. "
   ]
  },
  {
   "cell_type": "code",
   "execution_count": 9,
   "metadata": {
    "collapsed": true
   },
   "outputs": [],
   "source": [
    "def normalize_features(feature_matrix):\n",
    "    norms = np.linalg.norm(feature_matrix, axis=0)\n",
    "    normalized = feature_matrix/norms\n",
    "    return (normalized, norms)"
   ]
  },
  {
   "cell_type": "markdown",
   "metadata": {},
   "source": [
    "To test the function, run the following:"
   ]
  },
  {
   "cell_type": "code",
   "execution_count": 10,
   "metadata": {
    "collapsed": false
   },
   "outputs": [
    {
     "name": "stdout",
     "output_type": "stream",
     "text": [
      "[[ 0.6  0.6  0.6]\n",
      " [ 0.8  0.8  0.8]]\n",
      "[  5.  10.  15.]\n"
     ]
    }
   ],
   "source": [
    "features, norms = normalize_features(np.array([[3.,6.,9.],[4.,8.,12.]]))\n",
    "print features\n",
    "# should print\n",
    "# [[ 0.6  0.6  0.6]\n",
    "#  [ 0.8  0.8  0.8]]\n",
    "print norms\n",
    "# should print\n",
    "# [5.  10.  15.]"
   ]
  },
  {
   "cell_type": "markdown",
   "metadata": {},
   "source": [
    "# Implementing Coordinate Descent with normalized features"
   ]
  },
  {
   "cell_type": "markdown",
   "metadata": {},
   "source": [
    "We seek to obtain a sparse set of weights by minimizing the LASSO cost function\n",
    "```\n",
    "SUM[ (prediction - output)^2 ] + lambda*( |w[1]| + ... + |w[k]|).\n",
    "```\n",
    "(By convention, we do not include `w[0]` in the L1 penalty term. We never want to push the intercept to zero.)\n",
    "\n",
    "The absolute value sign makes the cost function non-differentiable, so simple gradient descent is not viable (you would need to implement a method called subgradient descent). Instead, we will use **coordinate descent**: at each iteration, we will fix all weights but weight `i` and find the value of weight `i` that minimizes the objective. That is, we look for\n",
    "```\n",
    "argmin_{w[i]} [ SUM[ (prediction - output)^2 ] + lambda*( |w[1]| + ... + |w[k]|) ]\n",
    "```\n",
    "where all weights other than `w[i]` are held to be constant. We will optimize one `w[i]` at a time, circling through the weights multiple times.  \n",
    "  1. Pick a coordinate `i`\n",
    "  2. Compute `w[i]` that minimizes the cost function `SUM[ (prediction - output)^2 ] + lambda*( |w[1]| + ... + |w[k]|)`\n",
    "  3. Repeat Steps 1 and 2 for all coordinates, multiple times"
   ]
  },
  {
   "cell_type": "markdown",
   "metadata": {},
   "source": [
    "For this notebook, we use **cyclical coordinate descent with normalized features**, where we cycle through coordinates 0 to (d-1) in order, and assume the features were normalized as discussed above. The formula for optimizing each coordinate is as follows:\n",
    "```\n",
    "       ┌ (ro[i] + lambda/2)     if ro[i] < -lambda/2\n",
    "w[i] = ├ 0                      if -lambda/2 <= ro[i] <= lambda/2\n",
    "       └ (ro[i] - lambda/2)     if ro[i] > lambda/2\n",
    "```\n",
    "where\n",
    "```\n",
    "ro[i] = SUM[ [feature_i]*(output - prediction + w[i]*[feature_i]) ].\n",
    "```\n",
    "\n",
    "Note that we do not regularize the weight of the constant feature (intercept) `w[0]`, so, for this weight, the update is simply:\n",
    "```\n",
    "w[0] = ro[i]\n",
    "```"
   ]
  },
  {
   "cell_type": "markdown",
   "metadata": {},
   "source": [
    "## Effect of L1 penalty"
   ]
  },
  {
   "cell_type": "markdown",
   "metadata": {},
   "source": [
    "Let us consider a simple model with 2 features:"
   ]
  },
  {
   "cell_type": "code",
   "execution_count": 13,
   "metadata": {
    "collapsed": true
   },
   "outputs": [],
   "source": [
    "simple_features = ['sqft_living', 'bedrooms']\n",
    "my_output = 'price'\n",
    "(simple_feature_matrix, output) = get_numpy_data(sales, simple_features, my_output)"
   ]
  },
  {
   "cell_type": "markdown",
   "metadata": {},
   "source": [
    "Don't forget to normalize features:"
   ]
  },
  {
   "cell_type": "code",
   "execution_count": 14,
   "metadata": {
    "collapsed": true
   },
   "outputs": [],
   "source": [
    "simple_feature_matrix, norms = normalize_features(simple_feature_matrix)"
   ]
  },
  {
   "cell_type": "markdown",
   "metadata": {},
   "source": [
    "We assign some random set of initial weights and inspect the values of `ro[i]`:"
   ]
  },
  {
   "cell_type": "code",
   "execution_count": 15,
   "metadata": {
    "collapsed": false
   },
   "outputs": [],
   "source": [
    "weights = np.array([1., 4., 1.])"
   ]
  },
  {
   "cell_type": "markdown",
   "metadata": {},
   "source": [
    "Use `predict_output()` to make predictions on this data."
   ]
  },
  {
   "cell_type": "code",
   "execution_count": 16,
   "metadata": {
    "collapsed": false
   },
   "outputs": [
    {
     "data": {
      "text/plain": [
       "array([ 0.02675867,  0.04339256,  0.01990703, ...,  0.02289873,\n",
       "        0.03178473,  0.02289873])"
      ]
     },
     "execution_count": 16,
     "metadata": {},
     "output_type": "execute_result"
    }
   ],
   "source": [
    "prediction = predict_output(simple_feature_matrix, weights)\n",
    "prediction"
   ]
  },
  {
   "cell_type": "markdown",
   "metadata": {},
   "source": [
    "Compute the values of `ro[i]` for each feature in this simple model, using the formula given above, using the formula:\n",
    "```\n",
    "ro[i] = SUM[ [feature_i]*(output - prediction + w[i]*[feature_i]) ]\n",
    "```\n",
    "\n",
    "*Hint: You can get a Numpy vector for feature_i using:*\n",
    "```\n",
    "simple_feature_matrix[:,i]\n",
    "```"
   ]
  },
  {
   "cell_type": "code",
   "execution_count": 103,
   "metadata": {
    "collapsed": false
   },
   "outputs": [],
   "source": [
    "def calcRo(feature_column, weight, output, prediction):\n",
    "    ro = np.sum( np.dot(feature_column , (output - prediction + (weight * feature_column) ) ))\n",
    "    return ro\n",
    "\n",
    "def calcRoAll(feature_matrix, output, weights):\n",
    "    ro = np.zeros(len(weights))\n",
    "    prediction = predict_output(feature_matrix, weights)\n",
    "    for i in xrange(len(weights)): \n",
    "        feature_col = feature_matrix[:,i]\n",
    "        ro[i] = calcRo(feature_col, weights[i], output, prediction)\n",
    "    return ro\n",
    "\n",
    "ros = calcRoAll(simple_feature_matrix, output, weights)"
   ]
  },
  {
   "cell_type": "markdown",
   "metadata": {},
   "source": [
    "***QUIZ QUESTION***\n",
    "\n",
    "Recall that, whenever `ro[i]` falls between `-l1_penalty/2` and `l1_penalty/2`, the corresponding weight `w[i]` is sent to zero. Now suppose we were to take one step of coordinate descent on either feature 1 or feature 2. What range of values of `l1_penalty` **would not** set `w[1]` zero, but **would** set `w[2]` to zero, if we were to take a step in that coordinate? "
   ]
  },
  {
   "cell_type": "code",
   "execution_count": 104,
   "metadata": {
    "collapsed": false
   },
   "outputs": [
    {
     "data": {
      "text/plain": [
       "array([ -5.67817604e+15,  -1.88542280e+15,  -2.04881208e+16])"
      ]
     },
     "execution_count": 104,
     "metadata": {},
     "output_type": "execute_result"
    }
   ],
   "source": [
    "ros * 2"
   ]
  },
  {
   "cell_type": "markdown",
   "metadata": {},
   "source": [
    "***QUIZ QUESTION***\n",
    "\n",
    "What range of values of `l1_penalty` would set **both** `w[1]` and `w[2]` to zero, if we were to take a step in that coordinate? "
   ]
  },
  {
   "cell_type": "code",
   "execution_count": null,
   "metadata": {
    "collapsed": false
   },
   "outputs": [],
   "source": []
  },
  {
   "cell_type": "markdown",
   "metadata": {},
   "source": [
    "So we can say that `ro[i]` quantifies the significance of the i-th feature: the larger `ro[i]` is, the more likely it is for the i-th feature to be retained."
   ]
  },
  {
   "cell_type": "markdown",
   "metadata": {},
   "source": [
    "## Single Coordinate Descent Step"
   ]
  },
  {
   "cell_type": "markdown",
   "metadata": {},
   "source": [
    "Using the formula above, implement coordinate descent that minimizes the cost function over a single feature i. Note that the intercept (weight 0) is not regularized. The function should accept feature matrix, output, current weights, l1 penalty, and index of feature to optimize over. The function should return new weight for feature i."
   ]
  },
  {
   "cell_type": "code",
   "execution_count": 105,
   "metadata": {
    "collapsed": true
   },
   "outputs": [],
   "source": [
    "def lasso_coordinate_descent_step(i, feature_matrix, output, weights, l1_penalty):\n",
    "    # compute prediction\n",
    "    prediction = predict_output(feature_matrix, weights)\n",
    "    feature_col = feature_matrix[:,i]\n",
    "    ro_i = calcRo(feature_col, weights[i], output, prediction)\n",
    "\n",
    "    if i == 0: # intercept -- do not regularize\n",
    "        new_weight_i = ro_i \n",
    "    elif ro_i < -l1_penalty/2.:\n",
    "        new_weight_i = ro_i + l1_penalty/2.\n",
    "    elif ro_i > l1_penalty/2.:\n",
    "        new_weight_i = ro_i - l1_penalty/2.\n",
    "    else:\n",
    "        new_weight_i = 0.\n",
    "    \n",
    "    return new_weight_i"
   ]
  },
  {
   "cell_type": "markdown",
   "metadata": {},
   "source": [
    "To test the function, run the following cell:"
   ]
  },
  {
   "cell_type": "code",
   "execution_count": 106,
   "metadata": {
    "collapsed": false
   },
   "outputs": [
    {
     "name": "stdout",
     "output_type": "stream",
     "text": [
      "0.425558846691\n"
     ]
    }
   ],
   "source": [
    "# should print 0.425558846691\n",
    "import math\n",
    "print lasso_coordinate_descent_step(1, np.array([[3./math.sqrt(13),1./math.sqrt(10)],[2./math.sqrt(13),3./math.sqrt(10)]]), \n",
    "                                   np.array([1., 1.]), np.array([1., 4.]), 0.1)"
   ]
  },
  {
   "cell_type": "markdown",
   "metadata": {
    "collapsed": true
   },
   "source": [
    "## Cyclical coordinate descent "
   ]
  },
  {
   "cell_type": "markdown",
   "metadata": {},
   "source": [
    "Now that we have a function that optimizes the cost function over a single coordinate, let us implement cyclical coordinate descent where we optimize coordinates 0, 1, ..., (d-1) in order and repeat.\n",
    "\n",
    "When do we know to stop? Each time we scan all the coordinates (features) once, we measure the change in weight for each coordinate. If no coordinate changes by more than a specified threshold, we stop."
   ]
  },
  {
   "cell_type": "markdown",
   "metadata": {},
   "source": [
    "For each iteration:\n",
    "1. As you loop over features in order and perform coordinate descent, measure how much each coordinate changes.\n",
    "2. After the loop, if the maximum change across all coordinates is falls below the tolerance, stop. Otherwise, go back to step 1.\n",
    "\n",
    "Return weights\n",
    "\n",
    "**IMPORTANT: when computing a new weight for coordinate i, make sure to incorporate the new weights for coordinates 0, 1, ..., i-1. One good way is to update your weights variable in-place. See following pseudocode for illustration.**\n",
    "```\n",
    "for i in range(len(weights)):\n",
    "    old_weights_i = weights[i] # remember old value of weight[i], as it will be overwritten\n",
    "    # the following line uses new values for weight[0], weight[1], ..., weight[i-1]\n",
    "    #     and old values for weight[i], ..., weight[d-1]\n",
    "    weights[i] = lasso_coordinate_descent_step(i, feature_matrix, output, weights, l1_penalty)\n",
    "    \n",
    "    # use old_weights_i to compute change in coordinate\n",
    "    ...\n",
    "```"
   ]
  },
  {
   "cell_type": "code",
   "execution_count": 107,
   "metadata": {
    "collapsed": false
   },
   "outputs": [],
   "source": [
    "def calc_rss(actual, predicted):\n",
    "    error = predicted - actual\n",
    "    rss = (error ** 2).sum()\n",
    "    return rss\n",
    "\n",
    "def lasso_cyclical_coordinate_descent(feature_matrix, output, initial_weights, l1_penalty, tolerance):\n",
    "    weights = initial_weights    \n",
    "    max_iterations = 100\n",
    "    num_iterations = 0\n",
    "    converged = False\n",
    "    \n",
    "    while not converged:\n",
    "        max_wt_change = -1e20\n",
    "        for i in xrange(len(weights)): \n",
    "            old_w_i = weights[i]\n",
    "            new_w_i = lasso_coordinate_descent_step(i, feature_matrix, output, weights, l1_penalty)\n",
    "            weights[i] = new_w_i\n",
    "            wt_change = np.abs( old_w_i - new_w_i)            \n",
    "            if(wt_change > max_wt_change):\n",
    "                max_wt_change = wt_change\n",
    "\n",
    "        num_iterations = num_iterations + 1\n",
    "        #print \"Max wt change: %f \" %(max_wt_change)\n",
    "        if(num_iterations >= max_iterations):\n",
    "            print \"Max iterations reached, exiting\"\n",
    "            converged = True\n",
    "        if(max_wt_change <= tolerance):\n",
    "            print \"Converged, exiting\"\n",
    "            converged = True\n",
    "    return weights"
   ]
  },
  {
   "cell_type": "markdown",
   "metadata": {},
   "source": [
    "Using the following parameters, learn the weights on the sales dataset. "
   ]
  },
  {
   "cell_type": "code",
   "execution_count": 108,
   "metadata": {
    "collapsed": false
   },
   "outputs": [],
   "source": [
    "simple_features = ['sqft_living', 'bedrooms']\n",
    "my_output = 'price'\n",
    "initial_weights = np.zeros(3)\n",
    "l1_penalty = 1e7\n",
    "tolerance = 1.0\n"
   ]
  },
  {
   "cell_type": "markdown",
   "metadata": {},
   "source": [
    "First create a normalized version of the feature matrix, `normalized_simple_feature_matrix`."
   ]
  },
  {
   "cell_type": "code",
   "execution_count": 109,
   "metadata": {
    "collapsed": true
   },
   "outputs": [],
   "source": [
    "(simple_feature_matrix, output) = get_numpy_data(sales, simple_features, my_output)\n",
    "(normalized_simple_feature_matrix, simple_norms) = normalize_features(simple_feature_matrix) # normalize features"
   ]
  },
  {
   "cell_type": "markdown",
   "metadata": {},
   "source": [
    "Then, run your implementation of LASSO coordinate descent:"
   ]
  },
  {
   "cell_type": "code",
   "execution_count": 110,
   "metadata": {
    "collapsed": false
   },
   "outputs": [
    {
     "name": "stdout",
     "output_type": "stream",
     "text": [
      "Max wt change: 79400304.658051 \n",
      "Max wt change: 9138168.366497 \n",
      "Max wt change: 8194809.409370 \n",
      "Max wt change: 6598905.038274 \n",
      "Max wt change: 5522173.194295 \n",
      "Max wt change: 4621129.810313 \n",
      "Max wt change: 3867108.106249 \n",
      "Max wt change: 3236118.810607 \n",
      "Max wt change: 2708086.939551 \n",
      "Max wt change: 2266213.109399 \n",
      "Max wt change: 1896439.062647 \n",
      "Max wt change: 1587000.403192 \n",
      "Max wt change: 1328052.310953 \n",
      "Max wt change: 1111356.328002 \n",
      "Max wt change: 930018.251242 \n",
      "Max wt change: 778268.792690 \n",
      "Max wt change: 651280.029038 \n",
      "Max wt change: 545011.800818 \n",
      "Max wt change: 456083.174344 \n",
      "Max wt change: 381664.876995 \n",
      "Max wt change: 319389.283634 \n",
      "Max wt change: 267275.090398 \n",
      "Max wt change: 223664.279321 \n",
      "Max wt change: 187169.368346 \n",
      "Max wt change: 156629.268444 \n",
      "Max wt change: 131072.343461 \n",
      "Max wt change: 109685.497424 \n",
      "Max wt change: 91788.305811 \n",
      "Max wt change: 76811.367789 \n",
      "Max wt change: 64278.190664 \n",
      "Max wt change: 53790.030225 \n",
      "Max wt change: 45013.204662 \n",
      "Max wt change: 37668.478441 \n",
      "Max wt change: 31522.178409 \n",
      "Max wt change: 26378.759450 \n",
      "Max wt change: 22074.583205 \n",
      "Max wt change: 18472.711904 \n",
      "Max wt change: 15458.551670 \n",
      "Max wt change: 12936.206713 \n",
      "Max wt change: 10825.428391 \n",
      "Max wt change: 9059.062091 \n",
      "Max wt change: 7580.910705 \n",
      "Max wt change: 6343.946707 \n",
      "Max wt change: 5308.815969 \n",
      "Max wt change: 4442.585712 \n",
      "Max wt change: 3717.696738 \n",
      "Max wt change: 3111.086635 \n",
      "Max wt change: 2603.456046 \n",
      "Max wt change: 2178.654657 \n",
      "Max wt change: 1823.167371 \n",
      "Max wt change: 1525.684326 \n",
      "Max wt change: 1276.741070 \n",
      "Max wt change: 1068.417453 \n",
      "Max wt change: 894.085638 \n",
      "Max wt change: 748.199241 \n",
      "Max wt change: 626.116874 \n",
      "Max wt change: 523.954474 \n",
      "Max wt change: 438.461735 \n",
      "Max wt change: 366.918697 \n",
      "Max wt change: 307.049212 \n",
      "Max wt change: 256.948527 \n",
      "Max wt change: 215.022683 \n",
      "Max wt change: 179.937806 \n",
      "Max wt change: 150.577668 \n",
      "Max wt change: 126.008172 \n",
      "Max wt change: 105.447638 \n",
      "Max wt change: 88.241930 \n",
      "Max wt change: 73.843648 \n",
      "Max wt change: 61.794710 \n",
      "Max wt change: 51.711774 \n",
      "Max wt change: 43.274053 \n",
      "Max wt change: 36.213102 \n",
      "Max wt change: 30.304273 \n",
      "Max wt change: 25.359578 \n",
      "Max wt change: 21.221700 \n",
      "Max wt change: 17.758992 \n",
      "Max wt change: 14.861288 \n",
      "Max wt change: 12.436397 \n",
      "Max wt change: 10.407172 \n",
      "Max wt change: 8.709052 \n",
      "Max wt change: 7.288011 \n",
      "Max wt change: 6.098839 \n",
      "Max wt change: 5.103702 \n",
      "Max wt change: 4.270940 \n",
      "Max wt change: 3.574058 \n",
      "Max wt change: 2.990885 \n",
      "Max wt change: 2.502867 \n",
      "Max wt change: 2.094479 \n",
      "Max wt change: 1.752726 \n",
      "Max wt change: 1.466737 \n",
      "Max wt change: 1.227412 \n",
      "Max wt change: 1.027138 \n",
      "Max wt change: 0.859541 \n",
      "Converged, exiting\n",
      "weights: [ 21624998.36636352  63157246.78545319         0.        ]\n"
     ]
    },
    {
     "data": {
      "text/plain": [
       "1630492481484497.8"
      ]
     },
     "execution_count": 110,
     "metadata": {},
     "output_type": "execute_result"
    }
   ],
   "source": [
    "weights = lasso_cyclical_coordinate_descent(normalized_simple_feature_matrix, output,\n",
    "                                            initial_weights, l1_penalty, tolerance)\n",
    "print \"weights:\", weights\n",
    "\n",
    "prediction = predict_output(normalized_simple_feature_matrix, weights)\n",
    "\n",
    "calc_rss(output, prediction)"
   ]
  },
  {
   "cell_type": "markdown",
   "metadata": {},
   "source": [
    "***QUIZ QUESTIONS***\n",
    "1. What is the RSS of the learned model on the normalized dataset? (Hint: use the normalized feature matrix when you make predictions.)\n",
    "2. Which features had weight zero at convergence?"
   ]
  },
  {
   "cell_type": "markdown",
   "metadata": {},
   "source": [
    "# Evaluating LASSO fit with more features"
   ]
  },
  {
   "cell_type": "markdown",
   "metadata": {},
   "source": [
    "Let us split the sales dataset into training and test sets."
   ]
  },
  {
   "cell_type": "code",
   "execution_count": 111,
   "metadata": {
    "collapsed": true
   },
   "outputs": [],
   "source": [
    "train_data,test_data = sales.random_split(.8,seed=0)"
   ]
  },
  {
   "cell_type": "markdown",
   "metadata": {},
   "source": [
    "Let us consider the following set of features."
   ]
  },
  {
   "cell_type": "code",
   "execution_count": 112,
   "metadata": {
    "collapsed": false
   },
   "outputs": [],
   "source": [
    "all_features = ['bedrooms',\n",
    "                'bathrooms',\n",
    "                'sqft_living',\n",
    "                'sqft_lot',\n",
    "                'floors',\n",
    "                'waterfront', \n",
    "                'view', \n",
    "                'condition', \n",
    "                'grade',\n",
    "                'sqft_above',\n",
    "                'sqft_basement',\n",
    "                'yr_built', \n",
    "                'yr_renovated']\n"
   ]
  },
  {
   "cell_type": "markdown",
   "metadata": {},
   "source": [
    "First, create a normalized feature matrix from the TRAINING data with these features.  (Make you store the norms for the normalization, since we'll use them later)"
   ]
  },
  {
   "cell_type": "code",
   "execution_count": 113,
   "metadata": {
    "collapsed": true
   },
   "outputs": [],
   "source": [
    "my_output = 'price'\n",
    "(all_train_data, output) = get_numpy_data(sales, all_features, my_output)\n",
    "(all_normalized_train_data, all_norms) = normalize_features(all_train_data)\n",
    "\n"
   ]
  },
  {
   "cell_type": "markdown",
   "metadata": {},
   "source": [
    "First, learn the weights with `l1_penalty=1e7`, on the training data. Initialize weights to all zeros, and set the `tolerance=1`.  Call resulting weights `weights1e7`, you will need them later."
   ]
  },
  {
   "cell_type": "code",
   "execution_count": 114,
   "metadata": {
    "collapsed": false
   },
   "outputs": [
    {
     "name": "stdout",
     "output_type": "stream",
     "text": [
      "Max wt change: 79400304.658051 \n",
      "Max wt change: 5024423.989266 \n",
      "Max wt change: 5008022.348609 \n",
      "Max wt change: 4996955.120337 \n",
      "Max wt change: 4988079.048176 \n",
      "Max wt change: 4978035.047359 \n",
      "Max wt change: 4971369.557393 \n",
      "Max wt change: 4967200.918126 \n",
      "Max wt change: 4962577.515142 \n",
      "Max wt change: 4957534.135888 \n",
      "Max wt change: 2859631.875054 \n",
      "Max wt change: 2621198.426894 \n",
      "Max wt change: 2452797.889365 \n",
      "Max wt change: 2293213.864377 \n",
      "Max wt change: 2142223.269456 \n",
      "Max wt change: 1999578.168232 \n",
      "Max wt change: 569574.907794 \n",
      "Max wt change: 269108.569215 \n",
      "Max wt change: 232054.526882 \n",
      "Max wt change: 196688.671035 \n",
      "Max wt change: 166199.972171 \n",
      "Max wt change: 140344.995710 \n",
      "Max wt change: 118494.053052 \n",
      "Max wt change: 100041.504132 \n",
      "Max wt change: 84461.731181 \n",
      "Max wt change: 71308.087906 \n",
      "Max wt change: 60202.894133 \n",
      "Max wt change: 50827.165455 \n",
      "Max wt change: 42911.569309 \n",
      "Max wt change: 36228.712529 \n",
      "Max wt change: 30586.614052 \n",
      "Max wt change: 25823.190875 \n",
      "Max wt change: 21801.602025 \n",
      "Max wt change: 18406.317529 \n",
      "Max wt change: 15539.799533 \n",
      "Max wt change: 13119.700296 \n",
      "Max wt change: 11076.496546 \n",
      "Max wt change: 9351.492257 \n",
      "Max wt change: 7895.132461 \n",
      "Max wt change: 6665.579660 \n",
      "Max wt change: 5627.511942 \n",
      "Max wt change: 4751.108270 \n",
      "Max wt change: 4011.191808 \n",
      "Max wt change: 3386.506642 \n",
      "Max wt change: 2859.107165 \n",
      "Max wt change: 2413.842537 \n",
      "Max wt change: 2037.921441 \n",
      "Max wt change: 1720.544623 \n",
      "Max wt change: 1452.594659 \n",
      "Max wt change: 1226.374030 \n",
      "Max wt change: 1035.383994 \n",
      "Max wt change: 874.137898 \n",
      "Max wt change: 738.003551 \n",
      "Max wt change: 623.070161 \n",
      "Max wt change: 526.035987 \n",
      "Max wt change: 444.113483 \n",
      "Max wt change: 374.949225 \n",
      "Max wt change: 316.556301 \n",
      "Max wt change: 267.257231 \n",
      "Max wt change: 225.635779 \n",
      "Max wt change: 190.496267 \n",
      "Max wt change: 160.829226 \n",
      "Max wt change: 135.782398 \n",
      "Max wt change: 114.636251 \n",
      "Max wt change: 96.783311 \n",
      "Max wt change: 81.710710 \n",
      "Max wt change: 68.985447 \n",
      "Max wt change: 58.241960 \n",
      "Max wt change: 49.171617 \n",
      "Max wt change: 41.513848 \n",
      "Max wt change: 35.048666 \n",
      "Max wt change: 29.590343 \n",
      "Max wt change: 24.982075 \n",
      "Max wt change: 21.091477 \n",
      "Max wt change: 17.806784 \n",
      "Max wt change: 15.033635 \n",
      "Max wt change: 12.692363 \n",
      "Max wt change: 10.715711 \n",
      "Max wt change: 9.046894 \n",
      "Max wt change: 7.637971 \n",
      "Max wt change: 6.448468 \n",
      "Max wt change: 5.444212 \n",
      "Max wt change: 4.596355 \n",
      "Max wt change: 3.880539 \n",
      "Max wt change: 3.276201 \n",
      "Max wt change: 2.765981 \n",
      "Max wt change: 2.335218 \n",
      "Max wt change: 1.971542 \n",
      "Max wt change: 1.664503 \n",
      "Max wt change: 1.405280 \n",
      "Max wt change: 1.186429 \n",
      "Max wt change: 1.001660 \n",
      "Max wt change: 0.845665 \n",
      "Converged, exiting\n",
      "weights1e7: [ 24964803.20411231         0.                 0.          56397533.12096906\n",
      "         0.                 0.           3689656.60016713\n",
      "   8630251.00033792         0.                 0.                 0.\n",
      "         0.                 0.                 0.        ]\n"
     ]
    }
   ],
   "source": [
    "initial_weights = np.zeros(all_normalized_train_data.shape[1])\n",
    "l1_penalty = 1e7\n",
    "tolerance = 1.0\n",
    "\n",
    "weights1e7 = lasso_cyclical_coordinate_descent(all_normalized_train_data, output,\n",
    "                                            initial_weights, l1_penalty, tolerance)\n",
    "\n",
    "print \"weights1e7:\", weights1e7"
   ]
  },
  {
   "cell_type": "markdown",
   "metadata": {},
   "source": [
    "***QUIZ QUESTION***\n",
    "\n",
    "What features had non-zero weight in this case?"
   ]
  },
  {
   "cell_type": "markdown",
   "metadata": {
    "collapsed": true
   },
   "source": [
    "Next, learn the weights with `l1_penalty=1e8`, on the training data. Initialize weights to all zeros, and set the `tolerance=1`.  Call resulting weights `weights1e8`, you will need them later."
   ]
  },
  {
   "cell_type": "code",
   "execution_count": 115,
   "metadata": {
    "collapsed": false
   },
   "outputs": [
    {
     "name": "stdout",
     "output_type": "stream",
     "text": [
      "Max wt change: 79400304.658051 \n",
      "Max wt change: 0.000000 \n",
      "Converged, exiting\n",
      "weights1e8: [ 79400304.65805142         0.                 0.                 0.\n",
      "         0.                 0.                 0.                 0.\n",
      "         0.                 0.                 0.                 0.\n",
      "         0.                 0.        ]\n"
     ]
    }
   ],
   "source": [
    "\n",
    "initial_weights = np.zeros(all_normalized_train_data.shape[1])\n",
    "l1_penalty = 1e8\n",
    "tolerance = 1.0\n",
    "\n",
    "weights1e8 = lasso_cyclical_coordinate_descent(all_normalized_train_data, output,\n",
    "                                            initial_weights, l1_penalty, tolerance)\n",
    "\n",
    "print \"weights1e8:\", weights1e8"
   ]
  },
  {
   "cell_type": "markdown",
   "metadata": {},
   "source": [
    "***QUIZ QUESTION***\n",
    "\n",
    "What features had non-zero weight in this case?"
   ]
  },
  {
   "cell_type": "markdown",
   "metadata": {},
   "source": [
    "Finally, learn the weights with `l1_penalty=1e4`, on the training data. Initialize weights to all zeros, and set the `tolerance=5e5`.  Call resulting weights `weights1e4`, you will need them later.  (This case will take quite a bit longer to converge than the others above.)"
   ]
  },
  {
   "cell_type": "code",
   "execution_count": 116,
   "metadata": {
    "collapsed": false
   },
   "outputs": [
    {
     "name": "stdout",
     "output_type": "stream",
     "text": [
      "Max wt change: 79400304.658051 \n",
      "Max wt change: 9318832.099839 \n",
      "Max wt change: 7552311.983722 \n",
      "Max wt change: 6191160.408250 \n",
      "Max wt change: 5080403.478684 \n",
      "Max wt change: 4166270.737086 \n",
      "Max wt change: 3414494.213645 \n",
      "Max wt change: 2797805.713559 \n",
      "Max wt change: 2293472.925497 \n",
      "Max wt change: 1882420.829681 \n",
      "Max wt change: 1548651.459871 \n",
      "Max wt change: 1414134.015177 \n",
      "Max wt change: 1370681.205324 \n",
      "Max wt change: 1338445.864760 \n",
      "Max wt change: 1314621.187741 \n",
      "Max wt change: 1296977.468739 \n",
      "Max wt change: 1283756.086916 \n",
      "Max wt change: 1273326.886806 \n",
      "Max wt change: 1264886.757122 \n",
      "Max wt change: 1257630.732652 \n",
      "Max wt change: 1250945.933084 \n",
      "Max wt change: 1244380.052442 \n",
      "Max wt change: 1237607.890823 \n",
      "Max wt change: 1230404.216856 \n",
      "Max wt change: 1222621.806572 \n",
      "Max wt change: 1214173.695702 \n",
      "Max wt change: 1205018.883871 \n",
      "Max wt change: 1195150.870034 \n",
      "Max wt change: 1184588.507425 \n",
      "Max wt change: 1173368.754414 \n",
      "Max wt change: 1161540.970455 \n",
      "Max wt change: 1149162.466861 \n",
      "Max wt change: 1136295.072724 \n",
      "Max wt change: 1123002.518486 \n",
      "Max wt change: 1109348.474833 \n",
      "Max wt change: 1095395.113888 \n",
      "Max wt change: 1081202.084015 \n",
      "Max wt change: 1066825.809685 \n",
      "Max wt change: 1052319.044621 \n",
      "Max wt change: 1037730.620115 \n",
      "Max wt change: 1023105.341881 \n",
      "Max wt change: 1008483.997997 \n",
      "Max wt change: 993903.448235 \n",
      "Max wt change: 979396.771207 \n",
      "Max wt change: 964993.450893 \n",
      "Max wt change: 950050.835082 \n",
      "Max wt change: 935824.911043 \n",
      "Max wt change: 921853.560584 \n",
      "Max wt change: 908094.003992 \n",
      "Max wt change: 894546.474944 \n",
      "Max wt change: 881218.116905 \n",
      "Max wt change: 868117.063307 \n",
      "Max wt change: 855250.847769 \n",
      "Max wt change: 842625.915210 \n",
      "Max wt change: 830247.513865 \n",
      "Max wt change: 818119.725416 \n",
      "Max wt change: 806245.542716 \n",
      "Max wt change: 794626.961299 \n",
      "Max wt change: 783265.072196 \n",
      "Max wt change: 772160.151347 \n",
      "Max wt change: 761311.743901 \n",
      "Max wt change: 750511.245105 \n",
      "Max wt change: 739743.400807 \n",
      "Max wt change: 729258.951460 \n",
      "Max wt change: 719076.015565 \n",
      "Max wt change: 709087.575835 \n",
      "Max wt change: 699406.489144 \n",
      "Max wt change: 690015.240001 \n",
      "Max wt change: 680899.669750 \n",
      "Max wt change: 672046.961391 \n",
      "Max wt change: 663445.655204 \n",
      "Max wt change: 655085.541268 \n",
      "Max wt change: 646957.481206 \n",
      "Max wt change: 639053.225710 \n",
      "Max wt change: 631365.252460 \n",
      "Max wt change: 623886.629847 \n",
      "Max wt change: 616610.905244 \n",
      "Max wt change: 609532.014592 \n",
      "Max wt change: 602644.209954 \n",
      "Max wt change: 595942.001865 \n",
      "Max wt change: 589420.113868 \n",
      "Max wt change: 583073.446948 \n",
      "Max wt change: 576897.051976 \n",
      "Max wt change: 570886.108643 \n",
      "Max wt change: 565035.909551 \n",
      "Max wt change: 559341.848442 \n",
      "Max wt change: 553799.411676 \n",
      "Max wt change: 548404.172244 \n",
      "Max wt change: 543151.785767 \n",
      "Max wt change: 538037.987974 \n",
      "Max wt change: 533058.593319 \n",
      "Max wt change: 528209.494416 \n",
      "Max wt change: 523486.662045 \n",
      "Max wt change: 518886.145562 \n",
      "Max wt change: 514404.073537 \n",
      "Max wt change: 510036.654528 \n",
      "Max wt change: 505780.177887 \n",
      "Max wt change: 501631.014536 \n",
      "Max wt change: 497585.617672 \n",
      "Converged, exiting\n",
      "weights1e4: [  8.75895325e+07  -2.24790006e+07   1.57236295e+07   1.05393774e+08\n",
      "  -2.57043643e+06  -8.65548772e+06   6.95591317e+06   8.21787482e+06\n",
      "   5.62865025e+06   2.26789845e+07  -2.00465047e+07  -7.25618289e+06\n",
      "  -9.82714585e+07   3.23616425e+06]\n"
     ]
    }
   ],
   "source": [
    "\n",
    "initial_weights = np.zeros(all_normalized_train_data.shape[1])\n",
    "l1_penalty = 1e4\n",
    "tolerance = 5e5\n",
    "\n",
    "weights1e4 = lasso_cyclical_coordinate_descent(all_normalized_train_data, output,\n",
    "                                            initial_weights, l1_penalty, tolerance)\n",
    "\n",
    "print \"weights1e4:\", weights1e4"
   ]
  },
  {
   "cell_type": "markdown",
   "metadata": {},
   "source": [
    "***QUIZ QUESTION***\n",
    "\n",
    "What features had non-zero weight in this case?"
   ]
  },
  {
   "cell_type": "markdown",
   "metadata": {},
   "source": [
    "## Rescaling learned weights"
   ]
  },
  {
   "cell_type": "markdown",
   "metadata": {},
   "source": [
    "Recall that we normalized our feature matrix, before learning the weights.  To use these weights on a test set, we must normalize the test data in the same way.\n",
    "\n",
    "Alternatively, we can rescale the learned weights to include the normalization, so we never have to worry about normalizing the test data: \n",
    "\n",
    "In this case, we must scale the resulting weights so that we can make predictions with *original* features:\n",
    " 1. Store the norms of the original features to a vector called `norms`:\n",
    "```\n",
    "features, norms = normalize_features(features)\n",
    "```\n",
    " 2. Run Lasso on the normalized features and obtain a `weights` vector\n",
    " 3. Compute the weights for the original features by performing element-wise division, i.e.\n",
    "```\n",
    "weights_normalized = weights / norms\n",
    "```\n",
    "Now, we can apply `weights_normalized` to the test data, without normalizing it!"
   ]
  },
  {
   "cell_type": "markdown",
   "metadata": {},
   "source": [
    "Create a normalized version of each of the weights learned above. (`weights1e4`, `weights1e7`, `weights1e8`)."
   ]
  },
  {
   "cell_type": "code",
   "execution_count": 117,
   "metadata": {
    "collapsed": false
   },
   "outputs": [
    {
     "name": "stdout",
     "output_type": "stream",
     "text": [
      "168.724928893\n"
     ]
    }
   ],
   "source": [
    "\n",
    "\n",
    "normalized_weights1e4 = weights1e4/all_norms\n",
    "normalized_weights1e7 = weights1e7/all_norms\n",
    "normalized_weights1e8 = weights1e8/all_norms\n",
    "\n",
    "print normalized_weights1e7[3]\n"
   ]
  },
  {
   "cell_type": "markdown",
   "metadata": {},
   "source": [
    "To check your results, if you call `normalized_weights1e7` the normalized version of `weights1e7`, then:\n",
    "```\n",
    "print normalized_weights1e7[3]\n",
    "```\n",
    "should return 161.31745624837794."
   ]
  },
  {
   "cell_type": "markdown",
   "metadata": {},
   "source": [
    "## Evaluating each of the learned models on the test data"
   ]
  },
  {
   "cell_type": "markdown",
   "metadata": {},
   "source": [
    "Let's now evaluate the three models on the test data:"
   ]
  },
  {
   "cell_type": "code",
   "execution_count": null,
   "metadata": {
    "collapsed": true
   },
   "outputs": [],
   "source": [
    "(test_feature_matrix, test_output) = get_numpy_data(test_data, all_features, 'price')"
   ]
  },
  {
   "cell_type": "markdown",
   "metadata": {},
   "source": [
    "Compute the RSS of each of the three normalized weights on the (unnormalized) `test_feature_matrix`:"
   ]
  },
  {
   "cell_type": "code",
   "execution_count": null,
   "metadata": {
    "collapsed": true
   },
   "outputs": [],
   "source": []
  },
  {
   "cell_type": "code",
   "execution_count": null,
   "metadata": {
    "collapsed": true
   },
   "outputs": [],
   "source": []
  },
  {
   "cell_type": "code",
   "execution_count": null,
   "metadata": {
    "collapsed": true
   },
   "outputs": [],
   "source": []
  },
  {
   "cell_type": "markdown",
   "metadata": {},
   "source": [
    "***QUIZ QUESTION***\n",
    "\n",
    "Which model performed best on the test data?"
   ]
  }
 ],
 "metadata": {
  "kernelspec": {
   "display_name": "Python 2",
   "language": "python",
   "name": "python2"
  },
  "language_info": {
   "codemirror_mode": {
    "name": "ipython",
    "version": 2
   },
   "file_extension": ".py",
   "mimetype": "text/x-python",
   "name": "python",
   "nbconvert_exporter": "python",
   "pygments_lexer": "ipython2",
   "version": "2.7.6"
  }
 },
 "nbformat": 4,
 "nbformat_minor": 0
}
