{
 "cells": [
  {
   "cell_type": "markdown",
   "metadata": {},
   "source": [
    "# Regression Week 4: Ridge Regression (gradient descent)"
   ]
  },
  {
   "cell_type": "markdown",
   "metadata": {},
   "source": [
    "In this notebook, you will implement ridge regression via gradient descent. You will:\n",
    "* Convert an SFrame into a Numpy array\n",
    "* Write a Numpy function to compute the derivative of the regression weights with respect to a single feature\n",
    "* Write gradient descent function to compute the regression weights given an initial weight vector, step size, tolerance, and L2 penalty"
   ]
  },
  {
   "cell_type": "markdown",
   "metadata": {},
   "source": [
    "# Fire up graphlab create"
   ]
  },
  {
   "cell_type": "markdown",
   "metadata": {},
   "source": [
    "Make sure you have the latest version of GraphLab Create (>= 1.7)"
   ]
  },
  {
   "cell_type": "code",
   "execution_count": 1,
   "metadata": {
    "collapsed": false
   },
   "outputs": [
    {
     "name": "stderr",
     "output_type": "stream",
     "text": [
      "/usr/local/lib/python2.7/dist-packages/requests/packages/urllib3/util/ssl_.py:315: SNIMissingWarning: An HTTPS request has been made, but the SNI (Subject Name Indication) extension to TLS is not available on this platform. This may cause the server to present an incorrect TLS certificate, which can cause validation failures. For more information, see https://urllib3.readthedocs.org/en/latest/security.html#snimissingwarning.\n",
      "  SNIMissingWarning\n",
      "/usr/local/lib/python2.7/dist-packages/requests/packages/urllib3/util/ssl_.py:120: InsecurePlatformWarning: A true SSLContext object is not available. This prevents urllib3 from configuring SSL appropriately and may cause certain SSL connections to fail. For more information, see https://urllib3.readthedocs.org/en/latest/security.html#insecureplatformwarning.\n",
      "  InsecurePlatformWarning\n",
      "[WARNING] graphlab.product_key: Unable to write current GraphLab Create license to /home/srijit/.graphlab/config. Ensure that this user account                         has write permission to /home/srijit/.graphlab/config to save the license for offline use.\n",
      "[INFO] graphlab.cython.cy_server: GraphLab Create v2.1 started. Logging: /tmp/graphlab_server_1478976362.log\n"
     ]
    },
    {
     "name": "stdout",
     "output_type": "stream",
     "text": [
      "This non-commercial license of GraphLab Create for academic use is assigned to srijitcnair@hotmail.com and will expire on September 03, 2017.\n"
     ]
    },
    {
     "name": "stderr",
     "output_type": "stream",
     "text": [
      "[WARNING] graphlab.deploy._session: Unable to create session in specified location: '/home/srijit/.graphlab/artifacts'. Using: '/var/tmp/graphlab-srijit/1281/tmp_session_24bffba5-f78e-457e-955e-7ad7128506b2'\n"
     ]
    }
   ],
   "source": [
    "import graphlab\n",
    "import numpy as np\n",
    "from sklearn import linear_model as lm"
   ]
  },
  {
   "cell_type": "markdown",
   "metadata": {},
   "source": [
    "# Load in house sales data\n",
    "\n",
    "Dataset is from house sales in King County, the region where the city of Seattle, WA is located."
   ]
  },
  {
   "cell_type": "code",
   "execution_count": 2,
   "metadata": {
    "collapsed": false
   },
   "outputs": [
    {
     "data": {
      "text/html": [
       "<pre>Finished parsing file /home/srijit/coursera/ml/paper2/week4/kc_house_train_data.csv</pre>"
      ],
      "text/plain": [
       "Finished parsing file /home/srijit/coursera/ml/paper2/week4/kc_house_train_data.csv"
      ]
     },
     "metadata": {},
     "output_type": "display_data"
    },
    {
     "data": {
      "text/html": [
       "<pre>Parsing completed. Parsed 100 lines in 0.06745 secs.</pre>"
      ],
      "text/plain": [
       "Parsing completed. Parsed 100 lines in 0.06745 secs."
      ]
     },
     "metadata": {},
     "output_type": "display_data"
    },
    {
     "data": {
      "text/html": [
       "<pre>Finished parsing file /home/srijit/coursera/ml/paper2/week4/kc_house_train_data.csv</pre>"
      ],
      "text/plain": [
       "Finished parsing file /home/srijit/coursera/ml/paper2/week4/kc_house_train_data.csv"
      ]
     },
     "metadata": {},
     "output_type": "display_data"
    },
    {
     "data": {
      "text/html": [
       "<pre>Parsing completed. Parsed 17384 lines in 0.0598 secs.</pre>"
      ],
      "text/plain": [
       "Parsing completed. Parsed 17384 lines in 0.0598 secs."
      ]
     },
     "metadata": {},
     "output_type": "display_data"
    },
    {
     "data": {
      "text/html": [
       "<pre>Finished parsing file /home/srijit/coursera/ml/paper2/week4/kc_house_test_data.csv</pre>"
      ],
      "text/plain": [
       "Finished parsing file /home/srijit/coursera/ml/paper2/week4/kc_house_test_data.csv"
      ]
     },
     "metadata": {},
     "output_type": "display_data"
    },
    {
     "data": {
      "text/html": [
       "<pre>Parsing completed. Parsed 100 lines in 0.01952 secs.</pre>"
      ],
      "text/plain": [
       "Parsing completed. Parsed 100 lines in 0.01952 secs."
      ]
     },
     "metadata": {},
     "output_type": "display_data"
    },
    {
     "data": {
      "text/html": [
       "<pre>Finished parsing file /home/srijit/coursera/ml/paper2/week4/kc_house_test_data.csv</pre>"
      ],
      "text/plain": [
       "Finished parsing file /home/srijit/coursera/ml/paper2/week4/kc_house_test_data.csv"
      ]
     },
     "metadata": {},
     "output_type": "display_data"
    },
    {
     "data": {
      "text/html": [
       "<pre>Parsing completed. Parsed 4229 lines in 0.019117 secs.</pre>"
      ],
      "text/plain": [
       "Parsing completed. Parsed 4229 lines in 0.019117 secs."
      ]
     },
     "metadata": {},
     "output_type": "display_data"
    }
   ],
   "source": [
    "sales = graphlab.SFrame('kc_house_data.gl/')\n",
    "dtype_dict = {'bathrooms':float, 'waterfront':int, 'sqft_above':int, 'sqft_living15':float, 'grade':int, 'yr_renovated':int, 'price':float, 'bedrooms':float, 'zipcode':str, 'long':float, 'sqft_lot15':float, 'sqft_living':float, 'floors':str, 'condition':int, 'lat':float, 'date':str, 'sqft_basement':int, 'yr_built':int, 'id':str, 'sqft_lot':int, 'view':int}\n",
    "\n",
    "train_data = graphlab.SFrame.read_csv('kc_house_train_data.csv/',column_type_hints=dtype_dict)\n",
    "test_data = graphlab.SFrame.read_csv('kc_house_test_data.csv/',column_type_hints=dtype_dict)"
   ]
  },
  {
   "cell_type": "markdown",
   "metadata": {},
   "source": [
    "If we want to do any \"feature engineering\" like creating new features or adjusting existing ones we should do this directly using the SFrames as seen in the first notebook of Week 2. For this notebook, however, we will work with the existing features."
   ]
  },
  {
   "cell_type": "markdown",
   "metadata": {},
   "source": [
    "# Import useful functions from previous notebook"
   ]
  },
  {
   "cell_type": "markdown",
   "metadata": {},
   "source": [
    "As in Week 2, we convert the SFrame into a 2D Numpy array. Copy and paste `get_numpy_data()` from the second notebook of Week 2."
   ]
  },
  {
   "cell_type": "code",
   "execution_count": 3,
   "metadata": {
    "collapsed": true
   },
   "outputs": [],
   "source": [
    "def get_numpy_data(data_sframe, features, output):\n",
    "    data_sframe['constant'] = 1 # add a constant column to an SFrame\n",
    "    # prepend variable 'constant' to the features list\n",
    "    features = ['constant'] + features\n",
    "    # select the columns of data_SFrame given by the ‘features’ list into the SFrame ‘features_sframe’\n",
    "    features_sframe = data_sframe[features]\n",
    "    # this will convert the features_sframe into a numpy matrix with GraphLab Create >= 1.7!!\n",
    "    features_matrix = features_sframe.to_numpy()\n",
    "    # assign the column of data_sframe associated with the target to the variable ‘output_sarray’\n",
    "    output_sarray = data_sframe[output]\n",
    "    # this will convert the SArray into a numpy array:\n",
    "    output_array = output_sarray.to_numpy() # GraphLab Create>= 1.7!!\n",
    "    return(features_matrix, output_array)"
   ]
  },
  {
   "cell_type": "markdown",
   "metadata": {},
   "source": [
    "Also, copy and paste the `predict_output()` function to compute the predictions for an entire matrix of features given the matrix and the weights:"
   ]
  },
  {
   "cell_type": "code",
   "execution_count": 7,
   "metadata": {
    "collapsed": true
   },
   "outputs": [],
   "source": [
    "def predict_output(feature_matrix, weights):\n",
    "    predictions = np.dot(feature_matrix,weights)\n",
    "    return(predictions)"
   ]
  },
  {
   "cell_type": "markdown",
   "metadata": {},
   "source": [
    "# Computing the Derivative"
   ]
  },
  {
   "cell_type": "markdown",
   "metadata": {},
   "source": [
    "We are now going to move to computing the derivative of the regression cost function. Recall that the cost function is the sum over the data points of the squared difference between an observed output and a predicted output, plus the L2 penalty term.\n",
    "```\n",
    "Cost(w)\n",
    "= SUM[ (prediction - output)^2 ]\n",
    "+ l2_penalty*(w[0]^2 + w[1]^2 + ... + w[k]^2).\n",
    "```\n",
    "\n",
    "Since the derivative of a sum is the sum of the derivatives, we can take the derivative of the first part (the RSS) as we did in the notebook for the unregularized case in Week 2 and add the derivative of the regularization part.  As we saw, the derivative of the RSS with respect to `w[i]` can be written as: \n",
    "```\n",
    "2*SUM[ error*[feature_i] ].\n",
    "```\n",
    "The derivative of the regularization term with respect to `w[i]` is:\n",
    "```\n",
    "2*l2_penalty*w[i].\n",
    "```\n",
    "Summing both, we get\n",
    "```\n",
    "2*SUM[ error*[feature_i] ] + 2*l2_penalty*w[i].\n",
    "```\n",
    "That is, the derivative for the weight for feature i is the sum (over data points) of 2 times the product of the error and the feature itself, plus `2*l2_penalty*w[i]`. \n",
    "\n",
    "**We will not regularize the constant.**  Thus, in the case of the constant, the derivative is just twice the sum of the errors (without the `2*l2_penalty*w[0]` term).\n",
    "\n",
    "Recall that twice the sum of the product of two vectors is just twice the dot product of the two vectors. Therefore the derivative for the weight for feature_i is just two times the dot product between the values of feature_i and the current errors, plus `2*l2_penalty*w[i]`.\n",
    "\n",
    "With this in mind complete the following derivative function which computes the derivative of the weight given the value of the feature (over all data points) and the errors (over all data points).  To decide when to we are dealing with the constant (so we don't regularize it) we added the extra parameter to the call `feature_is_constant` which you should set to `True` when computing the derivative of the constant and `False` otherwise."
   ]
  },
  {
   "cell_type": "code",
   "execution_count": 28,
   "metadata": {
    "collapsed": true
   },
   "outputs": [],
   "source": [
    "def feature_derivative_ridge(errors, feature, weight, l2_penalty, feature_is_constant):\n",
    "    # If feature_is_constant is True, derivative is twice the dot product of errors and feature\n",
    "    # Otherwise, derivative is twice the dot product plus 2*l2_penalty*weight\n",
    "    derivative = None\n",
    "    if feature_is_constant:        \n",
    "        derivative = 2 * np.dot(feature , errors)    \n",
    "    else:\n",
    "        derivative = 2 * np.dot(feature , errors) + 2 * l2_penalty * weight\n",
    "        \n",
    "    return derivative"
   ]
  },
  {
   "cell_type": "markdown",
   "metadata": {},
   "source": [
    "To test your feature derivartive run the following:"
   ]
  },
  {
   "cell_type": "code",
   "execution_count": 29,
   "metadata": {
    "collapsed": false
   },
   "outputs": [
    {
     "name": "stdout",
     "output_type": "stream",
     "text": [
      "-5.65541667824e+13\n",
      "-5.65541667824e+13\n",
      "\n",
      "-22446749336.0\n",
      "-22446749336.0\n"
     ]
    }
   ],
   "source": [
    "(example_features, example_output) = get_numpy_data(sales, ['sqft_living'], 'price') \n",
    "my_weights = np.array([1., 10.])\n",
    "test_predictions = predict_output(example_features, my_weights) \n",
    "errors = test_predictions - example_output # prediction errors\n",
    "\n",
    "# next two lines should print the same values\n",
    "print feature_derivative_ridge(errors, example_features[:,1], my_weights[1], 1, False)\n",
    "print np.sum(errors*example_features[:,1])*2+20.\n",
    "print ''\n",
    "\n",
    "# next two lines should print the same values\n",
    "print feature_derivative_ridge(errors, example_features[:,0], my_weights[0], 1, True)\n",
    "print np.sum(errors)*2."
   ]
  },
  {
   "cell_type": "markdown",
   "metadata": {},
   "source": [
    "# Gradient Descent"
   ]
  },
  {
   "cell_type": "markdown",
   "metadata": {},
   "source": [
    "Now we will write a function that performs a gradient descent. The basic premise is simple. Given a starting point we update the current weights by moving in the negative gradient direction. Recall that the gradient is the direction of *increase* and therefore the negative gradient is the direction of *decrease* and we're trying to *minimize* a cost function. \n",
    "\n",
    "The amount by which we move in the negative gradient *direction*  is called the 'step size'. We stop when we are 'sufficiently close' to the optimum. Unlike in Week 2, this time we will set a **maximum number of iterations** and take gradient steps until we reach this maximum number. If no maximum number is supplied, the maximum should be set 100 by default. (Use default parameter values in Python.)\n",
    "\n",
    "With this in mind, complete the following gradient descent function below using your derivative function above. For each step in the gradient descent, we update the weight for each feature before computing our stopping criteria."
   ]
  },
  {
   "cell_type": "code",
   "execution_count": 32,
   "metadata": {
    "collapsed": false
   },
   "outputs": [],
   "source": [
    "def ridge_regression_gradient_descent(feature_matrix, output, initial_weights, step_size, l2_penalty, max_iterations=100):\n",
    "    print 'Starting gradient descent with l2_penalty = ' + str(l2_penalty)\n",
    "    tolerance = 1e-3\n",
    "    converged = False\n",
    "    weights = np.array(initial_weights) # make sure it's a numpy array\n",
    "    iteration = 0 # iteration counter\n",
    "    print_frequency = 1  # for adjusting frequency of debugging output\n",
    "    \n",
    "    #while not reached maximum number of iterations:\n",
    "    while (not converged) and (iteration < max_iterations):\n",
    "        iteration += 1  # increment iteration counter\n",
    "        ### === code section for adjusting frequency of debugging output. ===\n",
    "        if iteration == 10:\n",
    "            print_frequency = 10\n",
    "        if iteration == 100:\n",
    "            print_frequency = 100\n",
    "        if iteration%print_frequency==0:\n",
    "            print('Iteration = ' + str(iteration))\n",
    "        ### === end code section ===\n",
    "        \n",
    "        # compute the predictions based on feature_matrix and weights using your predict_output() function\n",
    "        pred_output = predict_output(feature_matrix, weights)\n",
    "        # compute the errors as predictions - output\n",
    "        \n",
    "        errors = pred_output - output\n",
    "        # from time to time, print the value of the cost function\n",
    "        if iteration%print_frequency==0:\n",
    "            print 'Cost function = ', str(np.dot(errors,errors) + l2_penalty*(np.dot(weights,weights) - weights[0]**2))\n",
    "        \n",
    "        gradient_sum_squares = 0 # initialize the gradient\n",
    "        for i in xrange(len(weights)):            \n",
    "            d_wt = feature_derivative_ridge(errors, feature_matrix[:,i], weights[i], l2_penalty, i==0)\n",
    "            # update the weight based on step size and derivative:            \n",
    "            weights[i] =  weights[i] - (step_size * d_wt)\n",
    "            # add the squared derivative to the gradient magnitude\n",
    "            gradient_sum_squares += ( d_wt ** 2) \n",
    "            \n",
    "        iteration = iteration + 1\n",
    "        gradient_magnitude = np.sqrt(gradient_sum_squares)\n",
    "        \n",
    "        print \"%i iteration complete, error is %d\" %(iteration,gradient_magnitude)\n",
    "        if gradient_magnitude < tolerance:\n",
    "            converged = True\n",
    "                    \n",
    "            \n",
    "    print 'Done with gradient descent at iteration ', iteration\n",
    "    print 'Learned weights = ', str(weights)\n",
    "    return weights"
   ]
  },
  {
   "cell_type": "markdown",
   "metadata": {},
   "source": [
    "# Visualizing effect of L2 penalty"
   ]
  },
  {
   "cell_type": "markdown",
   "metadata": {},
   "source": [
    "The L2 penalty gets its name because it causes weights to have small L2 norms than otherwise. Let's see how large weights get penalized. Let us consider a simple model with 1 feature:"
   ]
  },
  {
   "cell_type": "code",
   "execution_count": 64,
   "metadata": {
    "collapsed": true
   },
   "outputs": [],
   "source": [
    "simple_features = ['sqft_living']\n",
    "my_output = 'price'"
   ]
  },
  {
   "cell_type": "markdown",
   "metadata": {},
   "source": [
    "Let us split the dataset into training set and test set. Make sure to use `seed=0`:"
   ]
  },
  {
   "cell_type": "code",
   "execution_count": 65,
   "metadata": {
    "collapsed": true
   },
   "outputs": [],
   "source": [
    "train_data,test_data = sales.random_split(.8,seed=0)"
   ]
  },
  {
   "cell_type": "markdown",
   "metadata": {},
   "source": [
    "In this part, we will only use `'sqft_living'` to predict `'price'`. Use the `get_numpy_data` function to get a Numpy versions of your data with only this feature, for both the `train_data` and the `test_data`. "
   ]
  },
  {
   "cell_type": "code",
   "execution_count": 66,
   "metadata": {
    "collapsed": true
   },
   "outputs": [],
   "source": [
    "(simple_feature_matrix, output) = get_numpy_data(train_data, simple_features, my_output)\n",
    "(simple_test_feature_matrix, test_output) = get_numpy_data(test_data, simple_features, my_output)"
   ]
  },
  {
   "cell_type": "markdown",
   "metadata": {},
   "source": [
    "Let's set the parameters for our optimization:"
   ]
  },
  {
   "cell_type": "code",
   "execution_count": 67,
   "metadata": {
    "collapsed": true
   },
   "outputs": [],
   "source": [
    "initial_weights = np.array([0., 0.])\n",
    "step_size = 1e-12\n",
    "max_iterations=1000"
   ]
  },
  {
   "cell_type": "markdown",
   "metadata": {},
   "source": [
    "First, let's consider no regularization.  Set the `l2_penalty` to `0.0` and run your ridge regression algorithm to learn the weights of your model.  Call your weights:\n",
    "\n",
    "`simple_weights_0_penalty`\n",
    "\n",
    "we'll use them later."
   ]
  },
  {
   "cell_type": "code",
   "execution_count": 68,
   "metadata": {
    "collapsed": false
   },
   "outputs": [
    {
     "name": "stdout",
     "output_type": "stream",
     "text": [
      "Starting gradient descent with l2_penalty = 0.0\n",
      "Iteration = 1\n",
      "Cost function =  7.43305185103e+15\n",
      "2 iteration complete, error is 47332517410705\n",
      "Iteration = 3\n",
      "Cost function =  5.39426721314e+15\n",
      "4 iteration complete, error is 38814797349705\n",
      "Iteration = 5\n",
      "Cost function =  4.0232377365e+15\n",
      "6 iteration complete, error is 31829883042808\n",
      "Iteration = 7\n",
      "Cost function =  3.10125618392e+15\n",
      "8 iteration complete, error is 26101938531242\n",
      "Iteration = 9\n",
      "Cost function =  2.48124764451e+15\n",
      "10 iteration complete, error is 21404765898078\n",
      "Iteration = 11\n",
      "Cost function =  2.06430807789e+15\n",
      "12 iteration complete, error is 17552872657672\n",
      "Iteration = 13\n",
      "Cost function =  1.78392709737e+15\n",
      "14 iteration complete, error is 14394146612455\n",
      "Iteration = 15\n",
      "Cost function =  1.59537820315e+15\n",
      "16 iteration complete, error is 11803848905385\n",
      "Iteration = 17\n",
      "Cost function =  1.46858399105e+15\n",
      "18 iteration complete, error is 9679688052250\n",
      "Iteration = 19\n",
      "Cost function =  1.38331819148e+15\n",
      "20 iteration complete, error is 7937780426170\n",
      "Iteration = 21\n",
      "Cost function =  1.32597916586e+15\n",
      "22 iteration complete, error is 6509337672840\n",
      "Iteration = 23\n",
      "Cost function =  1.28742016708e+15\n",
      "24 iteration complete, error is 5337950241748\n",
      "Iteration = 25\n",
      "Cost function =  1.2614902464e+15\n",
      "26 iteration complete, error is 4377359759355\n",
      "Iteration = 27\n",
      "Cost function =  1.24405305123e+15\n",
      "28 iteration complete, error is 3589632274712\n",
      "Iteration = 29\n",
      "Cost function =  1.2323269924e+15\n",
      "30 iteration complete, error is 2943660238544\n",
      "Iteration = 31\n",
      "Cost function =  1.22444152375e+15\n",
      "32 iteration complete, error is 2413934058592\n",
      "Iteration = 33\n",
      "Cost function =  1.21913875179e+15\n",
      "34 iteration complete, error is 1979534719631\n",
      "Iteration = 35\n",
      "Cost function =  1.21557277598e+15\n",
      "36 iteration complete, error is 1623307686488\n",
      "Iteration = 37\n",
      "Cost function =  1.21317475025e+15\n",
      "38 iteration complete, error is 1331185467293\n",
      "Iteration = 39\n",
      "Cost function =  1.2115621405e+15\n",
      "40 iteration complete, error is 1091632084814\n",
      "Iteration = 41\n",
      "Cost function =  1.21047770248e+15\n",
      "42 iteration complete, error is 895187517921\n",
      "Iteration = 43\n",
      "Cost function =  1.20974844619e+15\n",
      "44 iteration complete, error is 734094123060\n",
      "Iteration = 45\n",
      "Cost function =  1.20925804034e+15\n",
      "46 iteration complete, error is 601990283026\n",
      "Iteration = 47\n",
      "Cost function =  1.20892825517e+15\n",
      "48 iteration complete, error is 493659185161\n",
      "Iteration = 49\n",
      "Cost function =  1.20870648323e+15\n",
      "50 iteration complete, error is 404822808157\n",
      "Iteration = 51\n",
      "Cost function =  1.20855734736e+15\n",
      "52 iteration complete, error is 331972981955\n",
      "Iteration = 53\n",
      "Cost function =  1.20845705735e+15\n",
      "54 iteration complete, error is 272232849265\n",
      "Iteration = 55\n",
      "Cost function =  1.20838961492e+15\n",
      "56 iteration complete, error is 223243257767\n",
      "Iteration = 57\n",
      "Cost function =  1.20834426161e+15\n",
      "58 iteration complete, error is 183069596622\n",
      "Iteration = 59\n",
      "Cost function =  1.20831376268e+15\n",
      "60 iteration complete, error is 150125398214\n",
      "Iteration = 61\n",
      "Cost function =  1.20829325292e+15\n",
      "62 iteration complete, error is 123109688165\n",
      "Iteration = 63\n",
      "Cost function =  1.20827946061e+15\n",
      "64 iteration complete, error is 100955609537\n",
      "Iteration = 65\n",
      "Cost function =  1.20827018562e+15\n",
      "66 iteration complete, error is 82788292395\n",
      "Iteration = 67\n",
      "Cost function =  1.20826394841e+15\n",
      "68 iteration complete, error is 67890304984\n",
      "Iteration = 69\n",
      "Cost function =  1.20825975403e+15\n",
      "70 iteration complete, error is 55673322169\n",
      "Iteration = 71\n",
      "Cost function =  1.20825693339e+15\n",
      "72 iteration complete, error is 45654892338\n",
      "Iteration = 73\n",
      "Cost function =  1.20825503656e+15\n",
      "74 iteration complete, error is 37439385267\n",
      "Iteration = 75\n",
      "Cost function =  1.20825376097e+15\n",
      "76 iteration complete, error is 30702368590\n",
      "Iteration = 77\n",
      "Cost function =  1.20825290314e+15\n",
      "78 iteration complete, error is 25177795883\n",
      "Iteration = 79\n",
      "Cost function =  1.20825232625e+15\n",
      "80 iteration complete, error is 20647500423\n",
      "Iteration = 81\n",
      "Cost function =  1.20825193829e+15\n",
      "82 iteration complete, error is 16932579734\n",
      "Iteration = 83\n",
      "Cost function =  1.20825167737e+15\n",
      "84 iteration complete, error is 13886330679\n",
      "Iteration = 85\n",
      "Cost function =  1.20825150188e+15\n",
      "86 iteration complete, error is 11388456109\n",
      "Iteration = 87\n",
      "Cost function =  1.20825138385e+15\n",
      "88 iteration complete, error is 9340314287\n",
      "Iteration = 89\n",
      "Cost function =  1.20825130445e+15\n",
      "90 iteration complete, error is 7661023479\n",
      "Iteration = 91\n",
      "Cost function =  1.20825125103e+15\n",
      "92 iteration complete, error is 6284267872\n",
      "Iteration = 93\n",
      "Cost function =  1.20825121508e+15\n",
      "94 iteration complete, error is 5155678672\n",
      "Iteration = 95\n",
      "Cost function =  1.20825119089e+15\n",
      "96 iteration complete, error is 4230686922\n",
      "Iteration = 97\n",
      "Cost function =  1.20825117459e+15\n",
      "98 iteration complete, error is 3472763220\n",
      "Iteration = 99\n",
      "Cost function =  1.20825116361e+15\n",
      "100 iteration complete, error is 2851974712\n",
      "Done with gradient descent at iteration  100\n",
      "Learned weights =  [  9.22555576e-02   2.63011328e+02]\n"
     ]
    }
   ],
   "source": [
    "simple_weights_0_penalty = ridge_regression_gradient_descent(simple_feature_matrix,output, initial_weights, step_size, 0.0)"
   ]
  },
  {
   "cell_type": "markdown",
   "metadata": {},
   "source": [
    "Next, let's consider high regularization.  Set the `l2_penalty` to `1e11` and run your ridge regression algorithm to learn the weights of your model.  Call your weights:\n",
    "\n",
    "`simple_weights_high_penalty`\n",
    "\n",
    "we'll use them later."
   ]
  },
  {
   "cell_type": "code",
   "execution_count": 69,
   "metadata": {
    "collapsed": false
   },
   "outputs": [
    {
     "name": "stdout",
     "output_type": "stream",
     "text": [
      "Starting gradient descent with l2_penalty = 1e+11\n",
      "Iteration = 1\n",
      "Cost function =  7.43305185103e+15\n",
      "2 iteration complete, error is 47332517410705\n",
      "Iteration = 3\n",
      "Cost function =  5.61830389841e+15\n",
      "4 iteration complete, error is 29348295586969\n",
      "Iteration = 5\n",
      "Cost function =  4.92061327812e+15\n",
      "6 iteration complete, error is 18197267919843\n",
      "Iteration = 7\n",
      "Cost function =  4.65238194261e+15\n",
      "8 iteration complete, error is 11283129050828\n",
      "Iteration = 9\n",
      "Cost function =  4.54925876401e+15\n",
      "10 iteration complete, error is 6996052842740\n",
      "Iteration = 11\n",
      "Cost function =  4.50961239088e+15\n",
      "12 iteration complete, error is 4337874887446\n",
      "Iteration = 13\n",
      "Cost function =  4.49437005028e+15\n",
      "14 iteration complete, error is 2689688849546\n",
      "Iteration = 15\n",
      "Cost function =  4.48850998403e+15\n",
      "16 iteration complete, error is 1667745861148\n",
      "Iteration = 17\n",
      "Cost function =  4.48625698853e+15\n",
      "18 iteration complete, error is 1034105873979\n",
      "Iteration = 19\n",
      "Cost function =  4.48539075267e+15\n",
      "20 iteration complete, error is 641237829718\n",
      "Iteration = 21\n",
      "Cost function =  4.48505766475e+15\n",
      "22 iteration complete, error is 397669846242\n",
      "Iteration = 23\n",
      "Cost function =  4.48492954869e+15\n",
      "24 iteration complete, error is 246691706857\n",
      "Iteration = 25\n",
      "Cost function =  4.48488023527e+15\n",
      "26 iteration complete, error is 153150888884\n",
      "Iteration = 27\n",
      "Cost function =  4.484861218e+15\n",
      "28 iteration complete, error is 95267662663\n",
      "Iteration = 29\n",
      "Cost function =  4.48485384826e+15\n",
      "30 iteration complete, error is 59562852455\n",
      "Iteration = 31\n",
      "Cost function =  4.48485095648e+15\n",
      "32 iteration complete, error is 37714539857\n",
      "Iteration = 33\n",
      "Cost function =  4.48484978628e+15\n",
      "34 iteration complete, error is 24602527571\n",
      "Iteration = 35\n",
      "Cost function =  4.48484927795e+15\n",
      "36 iteration complete, error is 17062960309\n",
      "Iteration = 37\n",
      "Cost function =  4.48484902408e+15\n",
      "38 iteration complete, error is 13052652283\n",
      "Iteration = 39\n",
      "Cost function =  4.48484886803e+15\n",
      "40 iteration complete, error is 11132828997\n",
      "Iteration = 41\n",
      "Cost function =  4.4848487496e+15\n",
      "42 iteration complete, error is 10299945639\n",
      "Iteration = 43\n",
      "Cost function =  4.48484864563e+15\n",
      "44 iteration complete, error is 9961222560\n",
      "Iteration = 45\n",
      "Cost function =  4.48484854722e+15\n",
      "46 iteration complete, error is 9827891956\n",
      "Iteration = 47\n",
      "Cost function =  4.48484845095e+15\n",
      "48 iteration complete, error is 9776148170\n",
      "Iteration = 49\n",
      "Cost function =  4.48484835549e+15\n",
      "50 iteration complete, error is 9756181805\n",
      "Iteration = 51\n",
      "Cost function =  4.48484826036e+15\n",
      "52 iteration complete, error is 9748494609\n",
      "Iteration = 53\n",
      "Cost function =  4.48484816534e+15\n",
      "54 iteration complete, error is 9745537481\n",
      "Iteration = 55\n",
      "Cost function =  4.48484807037e+15\n",
      "56 iteration complete, error is 9744400231\n",
      "Iteration = 57\n",
      "Cost function =  4.48484797542e+15\n",
      "58 iteration complete, error is 9743962848\n",
      "Iteration = 59\n",
      "Cost function =  4.48484788048e+15\n",
      "60 iteration complete, error is 9743794562\n",
      "Iteration = 61\n",
      "Cost function =  4.48484778554e+15\n",
      "62 iteration complete, error is 9743729736\n",
      "Iteration = 63\n",
      "Cost function =  4.4848476906e+15\n",
      "64 iteration complete, error is 9743704688\n",
      "Iteration = 65\n",
      "Cost function =  4.48484759566e+15\n",
      "66 iteration complete, error is 9743694932\n",
      "Iteration = 67\n",
      "Cost function =  4.48484750072e+15\n",
      "68 iteration complete, error is 9743691055\n",
      "Iteration = 69\n",
      "Cost function =  4.48484740578e+15\n",
      "70 iteration complete, error is 9743689439\n",
      "Iteration = 71\n",
      "Cost function =  4.48484731084e+15\n",
      "72 iteration complete, error is 9743688691\n",
      "Iteration = 73\n",
      "Cost function =  4.4848472159e+15\n",
      "74 iteration complete, error is 9743688278\n",
      "Iteration = 75\n",
      "Cost function =  4.48484712096e+15\n",
      "76 iteration complete, error is 9743687993\n",
      "Iteration = 77\n",
      "Cost function =  4.48484702602e+15\n",
      "78 iteration complete, error is 9743687758\n",
      "Iteration = 79\n",
      "Cost function =  4.48484693108e+15\n",
      "80 iteration complete, error is 9743687541\n",
      "Iteration = 81\n",
      "Cost function =  4.48484683614e+15\n",
      "82 iteration complete, error is 9743687332\n",
      "Iteration = 83\n",
      "Cost function =  4.4848467412e+15\n",
      "84 iteration complete, error is 9743687126\n",
      "Iteration = 85\n",
      "Cost function =  4.48484664626e+15\n",
      "86 iteration complete, error is 9743686920\n",
      "Iteration = 87\n",
      "Cost function =  4.48484655132e+15\n",
      "88 iteration complete, error is 9743686715\n",
      "Iteration = 89\n",
      "Cost function =  4.48484645638e+15\n",
      "90 iteration complete, error is 9743686511\n",
      "Iteration = 91\n",
      "Cost function =  4.48484636145e+15\n",
      "92 iteration complete, error is 9743686306\n",
      "Iteration = 93\n",
      "Cost function =  4.48484626651e+15\n",
      "94 iteration complete, error is 9743686101\n",
      "Iteration = 95\n",
      "Cost function =  4.48484617157e+15\n",
      "96 iteration complete, error is 9743685897\n",
      "Iteration = 97\n",
      "Cost function =  4.48484607663e+15\n",
      "98 iteration complete, error is 9743685692\n",
      "Iteration = 99\n",
      "Cost function =  4.48484598169e+15\n",
      "100 iteration complete, error is 9743685487\n",
      "Done with gradient descent at iteration  100\n",
      "Learned weights =  [   0.51089523  124.57393745]\n"
     ]
    }
   ],
   "source": [
    "simple_weights_high_penalty = ridge_regression_gradient_descent(simple_feature_matrix,output, initial_weights, step_size, 1e11)"
   ]
  },
  {
   "cell_type": "markdown",
   "metadata": {},
   "source": [
    "This code will plot the two learned models.  (The blue line is for the model with no regularization and the red line is for the one with high regularization.)"
   ]
  },
  {
   "cell_type": "code",
   "execution_count": 49,
   "metadata": {
    "collapsed": false
   },
   "outputs": [
    {
     "data": {
      "text/plain": [
       "[<matplotlib.lines.Line2D at 0x7f4e4b38d550>,\n",
       " <matplotlib.lines.Line2D at 0x7f4e4b38d650>,\n",
       " <matplotlib.lines.Line2D at 0x7f4e4b38d7d0>,\n",
       " <matplotlib.lines.Line2D at 0x7f4e4b31a3d0>,\n",
       " <matplotlib.lines.Line2D at 0x7f4e4b31a510>,\n",
       " <matplotlib.lines.Line2D at 0x7f4e4b326090>]"
      ]
     },
     "execution_count": 49,
     "metadata": {},
     "output_type": "execute_result"
    },
    {
     "data": {
      "image/png": "[encoded data removed]",
      "text/plain": [
       "<matplotlib.figure.Figure at 0x7f4e4b775e10>"
      ]
     },
     "metadata": {},
     "output_type": "display_data"
    }
   ],
   "source": [
    "import matplotlib.pyplot as plt\n",
    "%matplotlib inline\n",
    "plt.plot(simple_feature_matrix,output,'k.',\n",
    "         simple_feature_matrix,predict_output(simple_feature_matrix, simple_weights_0_penalty),'b-',\n",
    "        simple_feature_matrix,predict_output(simple_feature_matrix, simple_weights_high_penalty),'r-')"
   ]
  },
  {
   "cell_type": "markdown",
   "metadata": {},
   "source": [
    "Compute the RSS on the TEST data for the following three sets of weights:\n",
    "1. The initial weights (all zeros)\n",
    "2. The weights learned with no regularization\n",
    "3. The weights learned with high regularization\n",
    "\n",
    "Which weights perform best?"
   ]
  },
  {
   "cell_type": "code",
   "execution_count": 70,
   "metadata": {
    "collapsed": false
   },
   "outputs": [
    {
     "name": "stdout",
     "output_type": "stream",
     "text": [
      "rss: 1.784273e+15\n"
     ]
    }
   ],
   "source": [
    "model_pred = predict_output(simple_test_feature_matrix, initial_weights)\n",
    "model_error = model_pred - test_output\n",
    "model_rss1 = np.sum(model_error ** 2)\n",
    "print \"rss: %e\" %(model_rss1)"
   ]
  },
  {
   "cell_type": "code",
   "execution_count": 71,
   "metadata": {
    "collapsed": false
   },
   "outputs": [
    {
     "name": "stdout",
     "output_type": "stream",
     "text": [
      "rss: 2.757238e+14\n"
     ]
    }
   ],
   "source": [
    "model_pred = predict_output(simple_test_feature_matrix, simple_weights_0_penalty)\n",
    "model_error = model_pred - test_output\n",
    "model_rss2 = np.sum(model_error ** 2)\n",
    "print \"rss: %e\" %(model_rss2)"
   ]
  },
  {
   "cell_type": "code",
   "execution_count": 72,
   "metadata": {
    "collapsed": false
   },
   "outputs": [
    {
     "name": "stdout",
     "output_type": "stream",
     "text": [
      "rss: 6.946537e+14\n"
     ]
    }
   ],
   "source": [
    "model_pred = predict_output(simple_test_feature_matrix, simple_weights_high_penalty)\n",
    "model_error = model_pred - test_output\n",
    "model_rss3 = np.sum(model_error ** 2)\n",
    "print \"rss: %e\" %(model_rss3)"
   ]
  },
  {
   "cell_type": "code",
   "execution_count": 73,
   "metadata": {
    "collapsed": false
   },
   "outputs": [
    {
     "data": {
      "text/plain": [
       "False"
      ]
     },
     "execution_count": 73,
     "metadata": {},
     "output_type": "execute_result"
    }
   ],
   "source": [
    "model_rss3 < model_rss2"
   ]
  },
  {
   "cell_type": "markdown",
   "metadata": {
    "collapsed": false
   },
   "source": [
    "***QUIZ QUESTIONS***\n",
    "1. What is the value of the coefficient for `sqft_living` that you learned with no regularization, rounded to 1 decimal place?  What about the one with high regularization?\n",
    "2. Comparing the lines you fit with the with no regularization versus high regularization, which one is steeper?\n",
    "3. What are the RSS on the test data for each of the set of weights above (initial, no regularization, high regularization)? \n"
   ]
  },
  {
   "cell_type": "markdown",
   "metadata": {},
   "source": [
    "# Running a multiple regression with L2 penalty"
   ]
  },
  {
   "cell_type": "markdown",
   "metadata": {},
   "source": [
    "Let us now consider a model with 2 features: `['sqft_living', 'sqft_living15']`."
   ]
  },
  {
   "cell_type": "markdown",
   "metadata": {},
   "source": [
    "First, create Numpy versions of your training and test data with these two features. "
   ]
  },
  {
   "cell_type": "code",
   "execution_count": 74,
   "metadata": {
    "collapsed": true
   },
   "outputs": [],
   "source": [
    "model_features = ['sqft_living', 'sqft_living15'] # sqft_living15 is the average squarefeet for the nearest 15 neighbors. \n",
    "my_output = 'price'\n",
    "(feature_matrix, output) = get_numpy_data(train_data, model_features, my_output)\n",
    "(test_feature_matrix, test_output) = get_numpy_data(test_data, model_features, my_output)"
   ]
  },
  {
   "cell_type": "markdown",
   "metadata": {},
   "source": [
    "We need to re-inialize the weights, since we have one extra parameter. Let us also set the step size and maximum number of iterations."
   ]
  },
  {
   "cell_type": "code",
   "execution_count": 75,
   "metadata": {
    "collapsed": true
   },
   "outputs": [],
   "source": [
    "initial_weights = np.array([0.0,0.0,0.0])\n",
    "step_size = 1e-12\n",
    "max_iterations = 1000"
   ]
  },
  {
   "cell_type": "markdown",
   "metadata": {},
   "source": [
    "First, let's consider no regularization.  Set the `l2_penalty` to `0.0` and run your ridge regression algorithm to learn the weights of your model.  Call your weights:\n",
    "\n",
    "`multiple_weights_0_penalty`"
   ]
  },
  {
   "cell_type": "code",
   "execution_count": 76,
   "metadata": {
    "collapsed": false
   },
   "outputs": [
    {
     "name": "stdout",
     "output_type": "stream",
     "text": [
      "Starting gradient descent with l2_penalty = 0.0\n",
      "Iteration = 1\n",
      "Cost function =  7.43305185103e+15\n",
      "2 iteration complete, error is 63540341040262\n",
      "Iteration = 3\n",
      "Cost function =  4.0567523315e+15\n",
      "4 iteration complete, error is 42733226573906\n",
      "Iteration = 5\n",
      "Cost function =  2.52956511433e+15\n",
      "6 iteration complete, error is 28743552581062\n",
      "Iteration = 7\n",
      "Cost function =  1.83855669428e+15\n",
      "8 iteration complete, error is 19339406488066\n",
      "Iteration = 9\n",
      "Cost function =  1.52567557521e+15\n",
      "10 iteration complete, error is 13020411594173\n",
      "Iteration = 11\n",
      "Cost function =  1.38378949867e+15\n",
      "12 iteration complete, error is 8778339038992\n",
      "Iteration = 13\n",
      "Cost function =  1.31923260628e+15\n",
      "14 iteration complete, error is 5936201889556\n",
      "Iteration = 15\n",
      "Cost function =  1.28964887203e+15\n",
      "16 iteration complete, error is 4040098404167\n",
      "Iteration = 17\n",
      "Cost function =  1.27588472408e+15\n",
      "18 iteration complete, error is 2786377344785\n",
      "Iteration = 19\n",
      "Cost function =  1.26927880758e+15\n",
      "20 iteration complete, error is 1972103840999\n",
      "Iteration = 21\n",
      "Cost function =  1.26591437896e+15\n",
      "22 iteration complete, error is 1460330724391\n",
      "Iteration = 23\n",
      "Cost function =  1.26402022214e+15\n",
      "24 iteration complete, error is 1154899001527\n",
      "Iteration = 25\n",
      "Cost function =  1.26279533535e+15\n",
      "26 iteration complete, error is 983978678427\n",
      "Iteration = 27\n",
      "Cost function =  1.26187745114e+15\n",
      "28 iteration complete, error is 893633449050\n",
      "Iteration = 29\n",
      "Cost function =  1.26110269961e+15\n",
      "30 iteration complete, error is 847115765980\n",
      "Iteration = 31\n",
      "Cost function =  1.26039692738e+15\n",
      "32 iteration complete, error is 822661064192\n",
      "Iteration = 33\n",
      "Cost function =  1.25972655178e+15\n",
      "34 iteration complete, error is 808788852662\n",
      "Iteration = 35\n",
      "Cost function =  1.25907633688e+15\n",
      "36 iteration complete, error is 799867428672\n",
      "Iteration = 37\n",
      "Cost function =  1.25843934384e+15\n",
      "38 iteration complete, error is 793239862804\n",
      "Iteration = 39\n",
      "Cost function =  1.25781238632e+15\n",
      "40 iteration complete, error is 787676597521\n",
      "Iteration = 41\n",
      "Cost function =  1.25719397547e+15\n",
      "42 iteration complete, error is 782613773295\n",
      "Iteration = 43\n",
      "Cost function =  1.25658339063e+15\n",
      "44 iteration complete, error is 777793864972\n",
      "Iteration = 45\n",
      "Cost function =  1.25598025905e+15\n",
      "46 iteration complete, error is 773099439297\n",
      "Iteration = 47\n",
      "Cost function =  1.25538436588e+15\n",
      "48 iteration complete, error is 768476946365\n",
      "Iteration = 49\n",
      "Cost function =  1.2547955682e+15\n",
      "50 iteration complete, error is 763901929730\n",
      "Iteration = 51\n",
      "Cost function =  1.25421375619e+15\n",
      "52 iteration complete, error is 759363174855\n",
      "Iteration = 53\n",
      "Cost function =  1.25363883549e+15\n",
      "54 iteration complete, error is 754855492881\n",
      "Iteration = 55\n",
      "Cost function =  1.25307071931e+15\n",
      "56 iteration complete, error is 750376436848\n",
      "Iteration = 57\n",
      "Cost function =  1.25250932477e+15\n",
      "58 iteration complete, error is 745924807661\n",
      "Iteration = 59\n",
      "Cost function =  1.25195457127e+15\n",
      "60 iteration complete, error is 741499974403\n",
      "Iteration = 61\n",
      "Cost function =  1.25140637978e+15\n",
      "62 iteration complete, error is 737101565134\n",
      "Iteration = 63\n",
      "Cost function =  1.25086467246e+15\n",
      "64 iteration complete, error is 732729326223\n",
      "Iteration = 65\n",
      "Cost function =  1.25032937251e+15\n",
      "66 iteration complete, error is 728383058361\n",
      "Iteration = 67\n",
      "Cost function =  1.24980040411e+15\n",
      "68 iteration complete, error is 724062587449\n",
      "Iteration = 69\n",
      "Cost function =  1.24927769235e+15\n",
      "70 iteration complete, error is 719767751349\n",
      "Iteration = 71\n",
      "Cost function =  1.2487611632e+15\n",
      "72 iteration complete, error is 715498393857\n",
      "Iteration = 73\n",
      "Cost function =  1.24825074355e+15\n",
      "74 iteration complete, error is 711254361957\n",
      "Iteration = 75\n",
      "Cost function =  1.24774636112e+15\n",
      "76 iteration complete, error is 707035504570\n",
      "Iteration = 77\n",
      "Cost function =  1.24724794451e+15\n",
      "78 iteration complete, error is 702841671981\n",
      "Iteration = 79\n",
      "Cost function =  1.24675542316e+15\n",
      "80 iteration complete, error is 698672715576\n",
      "Iteration = 81\n",
      "Cost function =  1.24626872732e+15\n",
      "82 iteration complete, error is 694528487719\n",
      "Iteration = 83\n",
      "Cost function =  1.24578778811e+15\n",
      "84 iteration complete, error is 690408841694\n",
      "Iteration = 85\n",
      "Cost function =  1.24531253742e+15\n",
      "86 iteration complete, error is 686313631676\n",
      "Iteration = 87\n",
      "Cost function =  1.24484290799e+15\n",
      "88 iteration complete, error is 682242712713\n",
      "Iteration = 89\n",
      "Cost function =  1.24437883331e+15\n",
      "90 iteration complete, error is 678195940718\n",
      "Iteration = 91\n",
      "Cost function =  1.24392024769e+15\n",
      "92 iteration complete, error is 674173172459\n",
      "Iteration = 93\n",
      "Cost function =  1.2434670862e+15\n",
      "94 iteration complete, error is 670174265556\n",
      "Iteration = 95\n",
      "Cost function =  1.24301928468e+15\n",
      "96 iteration complete, error is 666199078473\n",
      "Iteration = 97\n",
      "Cost function =  1.24257677975e+15\n",
      "98 iteration complete, error is 662247470514\n",
      "Iteration = 99\n",
      "Cost function =  1.24213950875e+15\n",
      "100 iteration complete, error is 658319301818\n",
      "Done with gradient descent at iteration  100\n",
      "Learned weights =  [  2.90098939e-02   1.68578818e+02   1.03286151e+02]\n"
     ]
    }
   ],
   "source": [
    "multiple_weights_0_penalty = ridge_regression_gradient_descent(feature_matrix,output, initial_weights, step_size, 0.0)"
   ]
  },
  {
   "cell_type": "markdown",
   "metadata": {},
   "source": [
    "Next, let's consider high regularization.  Set the `l2_penalty` to `1e11` and run your ridge regression algorithm to learn the weights of your model.  Call your weights:\n",
    "\n",
    "`multiple_weights_high_penalty`"
   ]
  },
  {
   "cell_type": "code",
   "execution_count": 77,
   "metadata": {
    "collapsed": false
   },
   "outputs": [
    {
     "name": "stdout",
     "output_type": "stream",
     "text": [
      "Starting gradient descent with l2_penalty = 1e+11\n",
      "Iteration = 1\n",
      "Cost function =  7.43305185103e+15\n",
      "2 iteration complete, error is 63540341040262\n",
      "Iteration = 3\n",
      "Cost function =  4.46048979029e+15\n",
      "4 iteration complete, error is 30025557282901\n",
      "Iteration = 5\n",
      "Cost function =  3.79667446884e+15\n",
      "6 iteration complete, error is 14192912251893\n",
      "Iteration = 7\n",
      "Cost function =  3.64831953044e+15\n",
      "8 iteration complete, error is 6714959248649\n",
      "Iteration = 9\n",
      "Cost function =  3.61509110322e+15\n",
      "10 iteration complete, error is 3185027581395\n",
      "Iteration = 11\n",
      "Cost function =  3.60760274251e+15\n",
      "12 iteration complete, error is 1521330192091\n",
      "Iteration = 13\n",
      "Cost function =  3.60588632216e+15\n",
      "14 iteration complete, error is 740394249539\n",
      "Iteration = 15\n",
      "Cost function =  3.60547487453e+15\n",
      "16 iteration complete, error is 377193970234\n",
      "Iteration = 17\n",
      "Cost function =  3.60536516777e+15\n",
      "18 iteration complete, error is 210537130299\n",
      "Iteration = 19\n",
      "Cost function =  3.60532940218e+15\n",
      "20 iteration complete, error is 133535078401\n",
      "Iteration = 21\n",
      "Cost function =  3.60531429504e+15\n",
      "22 iteration complete, error is 94858325496\n",
      "Iteration = 23\n",
      "Cost function =  3.60530641814e+15\n",
      "24 iteration complete, error is 72009871952\n",
      "Iteration = 25\n",
      "Cost function =  3.60530180648e+15\n",
      "26 iteration complete, error is 56334773017\n",
      "Iteration = 27\n",
      "Cost function =  3.60529896493e+15\n",
      "28 iteration complete, error is 44638828708\n",
      "Iteration = 29\n",
      "Cost function =  3.60529717505e+15\n",
      "30 iteration complete, error is 35602076681\n",
      "Iteration = 31\n",
      "Cost function =  3.6052960339e+15\n",
      "32 iteration complete, error is 28542105773\n",
      "Iteration = 33\n",
      "Cost function =  3.60529529859e+15\n",
      "34 iteration complete, error is 23023458978\n",
      "Iteration = 35\n",
      "Cost function =  3.60529481846e+15\n",
      "36 iteration complete, error is 18731299933\n",
      "Iteration = 37\n",
      "Cost function =  3.60529449908e+15\n",
      "38 iteration complete, error is 15424173364\n",
      "Iteration = 39\n",
      "Cost function =  3.60529428102e+15\n",
      "40 iteration complete, error is 12910919914\n",
      "Iteration = 41\n",
      "Cost function =  3.60529412684e+15\n",
      "42 iteration complete, error is 11035901509\n",
      "Iteration = 43\n",
      "Cost function =  3.60529401294e+15\n",
      "44 iteration complete, error is 9668492380\n",
      "Iteration = 45\n",
      "Cost function =  3.60529392444e+15\n",
      "46 iteration complete, error is 8696451975\n",
      "Iteration = 47\n",
      "Cost function =  3.60529385195e+15\n",
      "48 iteration complete, error is 8023225998\n",
      "Iteration = 49\n",
      "Cost function =  3.60529378955e+15\n",
      "50 iteration complete, error is 7568003270\n",
      "Iteration = 51\n",
      "Cost function =  3.60529373353e+15\n",
      "52 iteration complete, error is 7266319216\n",
      "Iteration = 53\n",
      "Cost function =  3.60529368151e+15\n",
      "54 iteration complete, error is 7069478885\n",
      "Iteration = 55\n",
      "Cost function =  3.60529363203e+15\n",
      "56 iteration complete, error is 6942493819\n",
      "Iteration = 57\n",
      "Cost function =  3.60529358415e+15\n",
      "58 iteration complete, error is 6861215977\n",
      "Iteration = 59\n",
      "Cost function =  3.60529353727e+15\n",
      "60 iteration complete, error is 6809467934\n",
      "Iteration = 61\n",
      "Cost function =  3.60529349102e+15\n",
      "62 iteration complete, error is 6776635308\n",
      "Iteration = 63\n",
      "Cost function =  3.60529344518e+15\n",
      "64 iteration complete, error is 6755850807\n",
      "Iteration = 65\n",
      "Cost function =  3.60529339959e+15\n",
      "66 iteration complete, error is 6742712276\n",
      "Iteration = 67\n",
      "Cost function =  3.60529335415e+15\n",
      "68 iteration complete, error is 6734414629\n",
      "Iteration = 69\n",
      "Cost function =  3.60529330882e+15\n",
      "70 iteration complete, error is 6729177293\n",
      "Iteration = 71\n",
      "Cost function =  3.60529326355e+15\n",
      "72 iteration complete, error is 6725872783\n",
      "Iteration = 73\n",
      "Cost function =  3.60529321832e+15\n",
      "74 iteration complete, error is 6723788268\n",
      "Iteration = 75\n",
      "Cost function =  3.60529317312e+15\n",
      "76 iteration complete, error is 6722473517\n",
      "Iteration = 77\n",
      "Cost function =  3.60529312793e+15\n",
      "78 iteration complete, error is 6721644336\n",
      "Iteration = 79\n",
      "Cost function =  3.60529308275e+15\n",
      "80 iteration complete, error is 6721121408\n",
      "Iteration = 81\n",
      "Cost function =  3.60529303758e+15\n",
      "82 iteration complete, error is 6720791619\n",
      "Iteration = 83\n",
      "Cost function =  3.60529299241e+15\n",
      "84 iteration complete, error is 6720583625\n",
      "Iteration = 85\n",
      "Cost function =  3.60529294724e+15\n",
      "86 iteration complete, error is 6720452432\n",
      "Iteration = 87\n",
      "Cost function =  3.60529290208e+15\n",
      "88 iteration complete, error is 6720369669\n",
      "Iteration = 89\n",
      "Cost function =  3.60529285692e+15\n",
      "90 iteration complete, error is 6720317444\n",
      "Iteration = 91\n",
      "Cost function =  3.60529281175e+15\n",
      "92 iteration complete, error is 6720284474\n",
      "Iteration = 93\n",
      "Cost function =  3.60529276659e+15\n",
      "94 iteration complete, error is 6720263645\n",
      "Iteration = 95\n",
      "Cost function =  3.60529272143e+15\n",
      "96 iteration complete, error is 6720250473\n",
      "Iteration = 97\n",
      "Cost function =  3.60529267627e+15\n",
      "98 iteration complete, error is 6720242127\n",
      "Iteration = 99\n",
      "Cost function =  3.60529263111e+15\n",
      "100 iteration complete, error is 6720236826\n",
      "Done with gradient descent at iteration  100\n",
      "Learned weights =  [  0.35879734  91.4900972   78.43747932]\n"
     ]
    }
   ],
   "source": [
    "multiple_weights_high_penalty = ridge_regression_gradient_descent(feature_matrix,output, initial_weights, step_size, 1e11)"
   ]
  },
  {
   "cell_type": "markdown",
   "metadata": {},
   "source": [
    "Compute the RSS on the TEST data for the following three sets of weights:\n",
    "1. The initial weights (all zeros)\n",
    "2. The weights learned with no regularization\n",
    "3. The weights learned with high regularization\n",
    "\n",
    "Which weights perform best?"
   ]
  },
  {
   "cell_type": "code",
   "execution_count": 78,
   "metadata": {
    "collapsed": false
   },
   "outputs": [
    {
     "name": "stdout",
     "output_type": "stream",
     "text": [
      "rss: 1.784273e+15\n"
     ]
    }
   ],
   "source": [
    "model_pred = predict_output(test_feature_matrix, initial_weights)\n",
    "model_error = model_pred - test_output\n",
    "model_rss1 = np.sum(model_error ** 2)\n",
    "print \"rss: %e\" %(model_rss1)"
   ]
  },
  {
   "cell_type": "code",
   "execution_count": 79,
   "metadata": {
    "collapsed": false
   },
   "outputs": [
    {
     "name": "stdout",
     "output_type": "stream",
     "text": [
      "rss: 2.788507e+14\n"
     ]
    }
   ],
   "source": [
    "model_pred = predict_output(test_feature_matrix, multiple_weights_0_penalty)\n",
    "model_error = model_pred - test_output\n",
    "model_rss2 = np.sum(model_error ** 2)\n",
    "print \"rss: %e\" %(model_rss2)"
   ]
  },
  {
   "cell_type": "code",
   "execution_count": 80,
   "metadata": {
    "collapsed": false
   },
   "outputs": [
    {
     "name": "stdout",
     "output_type": "stream",
     "text": [
      "rss: 5.004083e+14\n"
     ]
    }
   ],
   "source": [
    "model_pred = predict_output(test_feature_matrix, multiple_weights_high_penalty)\n",
    "model_error = model_pred - test_output\n",
    "model_rss3 = np.sum(model_error ** 2)\n",
    "print \"rss: %e\" %(model_rss3)"
   ]
  },
  {
   "cell_type": "markdown",
   "metadata": {},
   "source": [
    "Predict the house price for the 1st house in the test set using the no regularization and high regularization models. (Remember that python starts indexing from 0.) How far is the prediction from the actual price?  Which weights perform best for the 1st house?"
   ]
  },
  {
   "cell_type": "code",
   "execution_count": 59,
   "metadata": {
    "collapsed": false
   },
   "outputs": [
    {
     "name": "stdout",
     "output_type": "stream",
     "text": [
      "221900.0\n"
     ]
    },
    {
     "data": {
      "text/plain": [
       "424917.08688517928"
      ]
     },
     "execution_count": 59,
     "metadata": {},
     "output_type": "execute_result"
    }
   ],
   "source": [
    "print(output[0])\n",
    "predict_output(test_feature_matrix[0,:], multiple_weights_0_penalty)"
   ]
  },
  {
   "cell_type": "code",
   "execution_count": 60,
   "metadata": {
    "collapsed": false
   },
   "outputs": [
    {
     "name": "stdout",
     "output_type": "stream",
     "text": [
      "221900.0\n"
     ]
    },
    {
     "data": {
      "text/plain": [
       "270449.91098830948"
      ]
     },
     "execution_count": 60,
     "metadata": {},
     "output_type": "execute_result"
    }
   ],
   "source": [
    "print(output[0])\n",
    "\n",
    "predict_output(test_feature_matrix[0,:], multiple_weights_high_penalty)"
   ]
  },
  {
   "cell_type": "markdown",
   "metadata": {
    "collapsed": true
   },
   "source": [
    "***QUIZ QUESTIONS***\n",
    "1. What is the value of the coefficient for `sqft_living` that you learned with no regularization, rounded to 1 decimal place?  What about the one with high regularization?\n",
    "2. What are the RSS on the test data for each of the set of weights above (initial, no regularization, high regularization)? \n",
    "3. We make prediction for the first house in the test set using two sets of weights (no regularization vs high regularization). Which weights make better prediction <u>for that particular house</u>?"
   ]
  },
  {
   "cell_type": "code",
   "execution_count": null,
   "metadata": {
    "collapsed": true
   },
   "outputs": [],
   "source": []
  }
 ],
 "metadata": {
  "kernelspec": {
   "display_name": "Python 2",
   "language": "python",
   "name": "python2"
  },
  "language_info": {
   "codemirror_mode": {
    "name": "ipython",
    "version": 2
   },
   "file_extension": ".py",
   "mimetype": "text/x-python",
   "name": "python",
   "nbconvert_exporter": "python",
   "pygments_lexer": "ipython2",
   "version": "2.7.6"
  }
 },
 "nbformat": 4,
 "nbformat_minor": 0
}
