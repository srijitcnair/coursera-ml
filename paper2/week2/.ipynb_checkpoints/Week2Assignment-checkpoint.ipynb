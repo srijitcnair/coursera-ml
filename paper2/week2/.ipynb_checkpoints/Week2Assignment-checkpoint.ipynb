{
 "cells": [
  {
   "cell_type": "code",
   "execution_count": 2,
   "metadata": {
    "collapsed": false
   },
   "outputs": [
    {
     "name": "stderr",
     "output_type": "stream",
     "text": [
      "/usr/local/lib/python2.7/dist-packages/requests/packages/urllib3/util/ssl_.py:315: SNIMissingWarning: An HTTPS request has been made, but the SNI (Subject Name Indication) extension to TLS is not available on this platform. This may cause the server to present an incorrect TLS certificate, which can cause validation failures. For more information, see https://urllib3.readthedocs.org/en/latest/security.html#snimissingwarning.\n",
      "  SNIMissingWarning\n",
      "/usr/local/lib/python2.7/dist-packages/requests/packages/urllib3/util/ssl_.py:120: InsecurePlatformWarning: A true SSLContext object is not available. This prevents urllib3 from configuring SSL appropriately and may cause certain SSL connections to fail. For more information, see https://urllib3.readthedocs.org/en/latest/security.html#insecureplatformwarning.\n",
      "  InsecurePlatformWarning\n",
      "[WARNING] graphlab.product_key: Unable to write current GraphLab Create license to /home/srijit/.graphlab/config. Ensure that this user account                         has write permission to /home/srijit/.graphlab/config to save the license for offline use.\n",
      "[INFO] graphlab.cython.cy_server: GraphLab Create v2.1 started. Logging: /tmp/graphlab_server_1477819119.log\n"
     ]
    },
    {
     "name": "stdout",
     "output_type": "stream",
     "text": [
      "This non-commercial license of GraphLab Create for academic use is assigned to srijitcnair@hotmail.com and will expire on September 03, 2017.\n"
     ]
    },
    {
     "name": "stderr",
     "output_type": "stream",
     "text": [
      "[WARNING] graphlab.deploy._session: Unable to create session in specified location: '/home/srijit/.graphlab/artifacts'. Using: '/var/tmp/graphlab-srijit/11597/tmp_session_b8b06ecb-43ae-4eea-8600-3f66c05994a3'\n"
     ]
    }
   ],
   "source": [
    "import graphlab\n",
    "import numpy as np\n",
    "from sklearn import linear_model as lm"
   ]
  },
  {
   "cell_type": "code",
   "execution_count": 3,
   "metadata": {
    "collapsed": false
   },
   "outputs": [
    {
     "data": {
      "text/html": [
       "<pre>Finished parsing file /home/srijit/coursera/ml/paper2/week2/kc_house_train_data.csv</pre>"
      ],
      "text/plain": [
       "Finished parsing file /home/srijit/coursera/ml/paper2/week2/kc_house_train_data.csv"
      ]
     },
     "metadata": {},
     "output_type": "display_data"
    },
    {
     "data": {
      "text/html": [
       "<pre>Parsing completed. Parsed 100 lines in 0.09822 secs.</pre>"
      ],
      "text/plain": [
       "Parsing completed. Parsed 100 lines in 0.09822 secs."
      ]
     },
     "metadata": {},
     "output_type": "display_data"
    },
    {
     "data": {
      "text/html": [
       "<pre>Finished parsing file /home/srijit/coursera/ml/paper2/week2/kc_house_train_data.csv</pre>"
      ],
      "text/plain": [
       "Finished parsing file /home/srijit/coursera/ml/paper2/week2/kc_house_train_data.csv"
      ]
     },
     "metadata": {},
     "output_type": "display_data"
    },
    {
     "data": {
      "text/html": [
       "<pre>Parsing completed. Parsed 17384 lines in 0.063055 secs.</pre>"
      ],
      "text/plain": [
       "Parsing completed. Parsed 17384 lines in 0.063055 secs."
      ]
     },
     "metadata": {},
     "output_type": "display_data"
    },
    {
     "data": {
      "text/html": [
       "<pre>Finished parsing file /home/srijit/coursera/ml/paper2/week2/kc_house_test_data.csv</pre>"
      ],
      "text/plain": [
       "Finished parsing file /home/srijit/coursera/ml/paper2/week2/kc_house_test_data.csv"
      ]
     },
     "metadata": {},
     "output_type": "display_data"
    },
    {
     "data": {
      "text/html": [
       "<pre>Parsing completed. Parsed 100 lines in 0.018194 secs.</pre>"
      ],
      "text/plain": [
       "Parsing completed. Parsed 100 lines in 0.018194 secs."
      ]
     },
     "metadata": {},
     "output_type": "display_data"
    },
    {
     "data": {
      "text/html": [
       "<pre>Finished parsing file /home/srijit/coursera/ml/paper2/week2/kc_house_test_data.csv</pre>"
      ],
      "text/plain": [
       "Finished parsing file /home/srijit/coursera/ml/paper2/week2/kc_house_test_data.csv"
      ]
     },
     "metadata": {},
     "output_type": "display_data"
    },
    {
     "data": {
      "text/html": [
       "<pre>Parsing completed. Parsed 4229 lines in 0.022754 secs.</pre>"
      ],
      "text/plain": [
       "Parsing completed. Parsed 4229 lines in 0.022754 secs."
      ]
     },
     "metadata": {},
     "output_type": "display_data"
    }
   ],
   "source": [
    "dtype_dict = {'bathrooms':float, 'waterfront':int, 'sqft_above':int, 'sqft_living15':float, 'grade':int, 'yr_renovated':int, 'price':float, 'bedrooms':float, 'zipcode':str, 'long':float, 'sqft_lot15':float, 'sqft_living':float, 'floors':str, 'condition':int, 'lat':float, 'date':str, 'sqft_basement':int, 'yr_built':int, 'id':str, 'sqft_lot':int, 'view':int}\n",
    "\n",
    "train_data = graphlab.SFrame.read_csv('kc_house_train_data.csv/',column_type_hints=dtype_dict)\n",
    "test_data = graphlab.SFrame.read_csv('kc_house_test_data.csv/',column_type_hints=dtype_dict)"
   ]
  },
  {
   "cell_type": "code",
   "execution_count": 27,
   "metadata": {
    "collapsed": true
   },
   "outputs": [],
   "source": [
    "def get_numpy_data(data_sframe, features, output):\n",
    "    data_sframe['constant'] = 1 # add a constant column to an SFrame\n",
    "    # prepend variable 'constant' to the features list\n",
    "    features = ['constant'] + features\n",
    "    # select the columns of data_SFrame given by the ‘features’ list into the SFrame ‘features_sframe’\n",
    "    features_sframe = data_sframe[features]\n",
    "    # this will convert the features_sframe into a numpy matrix with GraphLab Create >= 1.7!!\n",
    "    features_matrix = features_sframe.to_numpy()\n",
    "    # assign the column of data_sframe associated with the target to the variable ‘output_sarray’\n",
    "    output_sarray = data_sframe[output]\n",
    "    # this will convert the SArray into a numpy array:\n",
    "    output_array = output_sarray.to_numpy() # GraphLab Create>= 1.7!!\n",
    "    return(features_matrix, output_array)"
   ]
  },
  {
   "cell_type": "code",
   "execution_count": 20,
   "metadata": {
    "collapsed": true
   },
   "outputs": [],
   "source": [
    "def predict_outcome(feature_matrix, weights):\n",
    "    predictions = np.dot(feature_matrix,weights)\n",
    "    return(predictions)"
   ]
  },
  {
   "cell_type": "code",
   "execution_count": 21,
   "metadata": {
    "collapsed": true
   },
   "outputs": [],
   "source": [
    "def feature_derivative(feature,errors):\n",
    "    derivative = 2 * np.dot(feature , errors)    \n",
    "    return(derivative)"
   ]
  },
  {
   "cell_type": "code",
   "execution_count": 22,
   "metadata": {
    "collapsed": false
   },
   "outputs": [
    {
     "data": {
      "text/plain": [
       "9"
      ]
     },
     "execution_count": 22,
     "metadata": {},
     "output_type": "execute_result"
    }
   ],
   "source": [
    "t1=[[1,1],[2,2]]\n",
    "t2=[4,5]\n",
    "np.dot(t1[0],t2)"
   ]
  },
  {
   "cell_type": "code",
   "execution_count": 23,
   "metadata": {
    "collapsed": false
   },
   "outputs": [
    {
     "data": {
      "text/plain": [
       "array([18, 36])"
      ]
     },
     "execution_count": 23,
     "metadata": {},
     "output_type": "execute_result"
    }
   ],
   "source": [
    "feature_derivative(t1,t2)"
   ]
  },
  {
   "cell_type": "code",
   "execution_count": 42,
   "metadata": {
    "collapsed": false
   },
   "outputs": [],
   "source": [
    "def regression_gradient_descent(feature_matrix, output, initial_weights, step_size, tolerance):\n",
    "    converged = False\n",
    "    iters = 0\n",
    "    maxiters = 100\n",
    "    weights = np.array(initial_weights)\n",
    "    while (not converged) and (iters < maxiters):\n",
    "        # compute the predictions based on feature_matrix and weights:\n",
    "        pred_output = predict_outcome(feature_matrix, weights)\n",
    "        # compute the errors as predictions - output:\n",
    "        errors = pred_output - output\n",
    "        \n",
    "        gradient_sum_squares = 0 # initialize the gradient\n",
    "        # while not converged, update each weight individually:\n",
    "        for i in range(len(weights)):            \n",
    "            # Recall that feature_matrix[:, i] is the feature column associated with weights[i]            \n",
    "            # compute the derivative for weight[i]:\n",
    "            d_wt = feature_derivative(feature_matrix[:,i],errors)\n",
    "            # update the weight based on step size and derivative:            \n",
    "            weights[i] =  weights[i] - (step_size * d_wt)\n",
    "            # add the squared derivative to the gradient magnitude\n",
    "            gradient_sum_squares += ( d_wt ** 2)            \n",
    "            iters = iters + 1\n",
    "            \n",
    "        gradient_magnitude = np.sqrt(gradient_sum_squares)\n",
    "        print \"%i iteration complete, error is %d\" %(iters,gradient_magnitude)\n",
    "        if gradient_magnitude < tolerance:\n",
    "            converged = True\n",
    "    \n",
    "    print(\"Gradient descent completed\")\n",
    "    return(weights)"
   ]
  },
  {
   "cell_type": "code",
   "execution_count": 43,
   "metadata": {
    "collapsed": false
   },
   "outputs": [],
   "source": [
    "simple_features = ['sqft_living']\n",
    "my_output= 'price'\n",
    "(simple_feature_matrix, output) = get_numpy_data(train_data, simple_features, my_output)\n",
    "initial_weights = np.array([-47000., 1.])\n",
    "step_size = 7e-12\n",
    "tolerance = 2.5e7"
   ]
  },
  {
   "cell_type": "code",
   "execution_count": 44,
   "metadata": {
    "collapsed": false
   },
   "outputs": [
    {
     "name": "stdout",
     "output_type": "stream",
     "text": [
      "2 iteration complete, error is 50551530784973\n",
      "4 iteration complete, error is 114230512596244\n",
      "6 iteration complete, error is 258124923328322\n",
      "8 iteration complete, error is 583280898675076\n",
      "10 iteration complete, error is 1318030829306894\n",
      "12 iteration complete, error is 2978333888439479\n",
      "14 iteration complete, error is 6730095043142224\n",
      "16 iteration complete, error is 15207891722798156\n",
      "18 iteration complete, error is 34365037814439264\n",
      "20 iteration complete, error is 77654144671314304\n",
      "22 iteration complete, error is 175473870193140160\n",
      "24 iteration complete, error is 396515591677542720\n",
      "26 iteration complete, error is 896000152446256768\n",
      "28 iteration complete, error is 2024677692464119808\n",
      "30 iteration complete, error is 4575132880468639232\n",
      "32 iteration complete, error is 10338357039174162432\n",
      "34 iteration complete, error is 23361425572079747072\n",
      "36 iteration complete, error is 52789452201334611968\n",
      "38 iteration complete, error is 119287509022888509440\n",
      "40 iteration complete, error is 269552139973257166848\n",
      "42 iteration complete, error is 609102803464700821504\n",
      "44 iteration complete, error is 1376380188357492211712\n",
      "46 iteration complete, error is 3110185033014386884608\n",
      "48 iteration complete, error is 7028037036140664979456\n",
      "50 iteration complete, error is 15881146638241334558720\n",
      "52 iteration complete, error is 35886381538452871053312\n",
      "54 iteration complete, error is 81091901564737451720704\n",
      "56 iteration complete, error is 183242116298039208443904\n",
      "58 iteration complete, error is 414069377304939573805056\n",
      "60 iteration complete, error is 935666170449786149273600\n",
      "62 iteration complete, error is 2114310380116391483146240\n",
      "64 iteration complete, error is 4777674479049516202852352\n",
      "66 iteration complete, error is 10796037158226763947442176\n",
      "68 iteration complete, error is 24395638261441265972281344\n",
      "70 iteration complete, error is 55126446626722792674951168\n",
      "72 iteration complete, error is 124568379196380830857428992\n",
      "74 iteration complete, error is 281485240662886483310411776\n",
      "76 iteration complete, error is 636067846609237089030504448\n",
      "78 iteration complete, error is 1437312679475979369471541248\n",
      "80 iteration complete, error is 3247873241188245866115235840\n",
      "82 iteration complete, error is 7339168951513487789464223744\n",
      "84 iteration complete, error is 16584206617359645729288617984\n",
      "86 iteration complete, error is 37475075304072514963987496960\n",
      "88 iteration complete, error is 84681848305956025801505767424\n",
      "90 iteration complete, error is 191354263449174754823227047936\n",
      "92 iteration complete, error is 432400270809864763147141775360\n",
      "94 iteration complete, error is 977088207110198054678660382720\n",
      "96 iteration complete, error is 2207911115979854400111192834048\n",
      "98 iteration complete, error is 4989182614827861363080942321664\n",
      "100 iteration complete, error is 11273978822762941909906051039232\n",
      "Gradient descent completed\n"
     ]
    }
   ],
   "source": [
    "simple_weights = regression_gradient_descent(simple_feature_matrix, output,initial_weights, step_size,tolerance)"
   ]
  },
  {
   "cell_type": "code",
   "execution_count": null,
   "metadata": {
    "collapsed": true
   },
   "outputs": [],
   "source": []
  }
 ],
 "metadata": {
  "kernelspec": {
   "display_name": "Python 2",
   "language": "python",
   "name": "python2"
  },
  "language_info": {
   "codemirror_mode": {
    "name": "ipython",
    "version": 2
   },
   "file_extension": ".py",
   "mimetype": "text/x-python",
   "name": "python",
   "nbconvert_exporter": "python",
   "pygments_lexer": "ipython2",
   "version": "2.7.6"
  }
 },
 "nbformat": 4,
 "nbformat_minor": 1
}
