{
 "cells": [
  {
   "cell_type": "code",
   "execution_count": 2,
   "metadata": {
    "collapsed": false
   },
   "outputs": [
    {
     "name": "stderr",
     "output_type": "stream",
     "text": [
      "/usr/local/lib/python2.7/dist-packages/requests/packages/urllib3/util/ssl_.py:315: SNIMissingWarning: An HTTPS request has been made, but the SNI (Subject Name Indication) extension to TLS is not available on this platform. This may cause the server to present an incorrect TLS certificate, which can cause validation failures. For more information, see https://urllib3.readthedocs.org/en/latest/security.html#snimissingwarning.\n",
      "  SNIMissingWarning\n",
      "/usr/local/lib/python2.7/dist-packages/requests/packages/urllib3/util/ssl_.py:120: InsecurePlatformWarning: A true SSLContext object is not available. This prevents urllib3 from configuring SSL appropriately and may cause certain SSL connections to fail. For more information, see https://urllib3.readthedocs.org/en/latest/security.html#insecureplatformwarning.\n",
      "  InsecurePlatformWarning\n",
      "[WARNING] graphlab.product_key: Unable to write current GraphLab Create license to /home/srijit/.graphlab/config. Ensure that this user account                         has write permission to /home/srijit/.graphlab/config to save the license for offline use.\n",
      "[INFO] graphlab.cython.cy_server: GraphLab Create v2.1 started. Logging: /tmp/graphlab_server_1477819119.log\n"
     ]
    },
    {
     "name": "stdout",
     "output_type": "stream",
     "text": [
      "This non-commercial license of GraphLab Create for academic use is assigned to srijitcnair@hotmail.com and will expire on September 03, 2017.\n"
     ]
    },
    {
     "name": "stderr",
     "output_type": "stream",
     "text": [
      "[WARNING] graphlab.deploy._session: Unable to create session in specified location: '/home/srijit/.graphlab/artifacts'. Using: '/var/tmp/graphlab-srijit/11597/tmp_session_b8b06ecb-43ae-4eea-8600-3f66c05994a3'\n"
     ]
    }
   ],
   "source": [
    "import graphlab\n",
    "import numpy as np\n",
    "from sklearn import linear_model as lm"
   ]
  },
  {
   "cell_type": "code",
   "execution_count": 3,
   "metadata": {
    "collapsed": false
   },
   "outputs": [
    {
     "data": {
      "text/html": [
       "<pre>Finished parsing file /home/srijit/coursera/ml/paper2/week2/kc_house_train_data.csv</pre>"
      ],
      "text/plain": [
       "Finished parsing file /home/srijit/coursera/ml/paper2/week2/kc_house_train_data.csv"
      ]
     },
     "metadata": {},
     "output_type": "display_data"
    },
    {
     "data": {
      "text/html": [
       "<pre>Parsing completed. Parsed 100 lines in 0.09822 secs.</pre>"
      ],
      "text/plain": [
       "Parsing completed. Parsed 100 lines in 0.09822 secs."
      ]
     },
     "metadata": {},
     "output_type": "display_data"
    },
    {
     "data": {
      "text/html": [
       "<pre>Finished parsing file /home/srijit/coursera/ml/paper2/week2/kc_house_train_data.csv</pre>"
      ],
      "text/plain": [
       "Finished parsing file /home/srijit/coursera/ml/paper2/week2/kc_house_train_data.csv"
      ]
     },
     "metadata": {},
     "output_type": "display_data"
    },
    {
     "data": {
      "text/html": [
       "<pre>Parsing completed. Parsed 17384 lines in 0.063055 secs.</pre>"
      ],
      "text/plain": [
       "Parsing completed. Parsed 17384 lines in 0.063055 secs."
      ]
     },
     "metadata": {},
     "output_type": "display_data"
    },
    {
     "data": {
      "text/html": [
       "<pre>Finished parsing file /home/srijit/coursera/ml/paper2/week2/kc_house_test_data.csv</pre>"
      ],
      "text/plain": [
       "Finished parsing file /home/srijit/coursera/ml/paper2/week2/kc_house_test_data.csv"
      ]
     },
     "metadata": {},
     "output_type": "display_data"
    },
    {
     "data": {
      "text/html": [
       "<pre>Parsing completed. Parsed 100 lines in 0.018194 secs.</pre>"
      ],
      "text/plain": [
       "Parsing completed. Parsed 100 lines in 0.018194 secs."
      ]
     },
     "metadata": {},
     "output_type": "display_data"
    },
    {
     "data": {
      "text/html": [
       "<pre>Finished parsing file /home/srijit/coursera/ml/paper2/week2/kc_house_test_data.csv</pre>"
      ],
      "text/plain": [
       "Finished parsing file /home/srijit/coursera/ml/paper2/week2/kc_house_test_data.csv"
      ]
     },
     "metadata": {},
     "output_type": "display_data"
    },
    {
     "data": {
      "text/html": [
       "<pre>Parsing completed. Parsed 4229 lines in 0.022754 secs.</pre>"
      ],
      "text/plain": [
       "Parsing completed. Parsed 4229 lines in 0.022754 secs."
      ]
     },
     "metadata": {},
     "output_type": "display_data"
    }
   ],
   "source": [
    "dtype_dict = {'bathrooms':float, 'waterfront':int, 'sqft_above':int, 'sqft_living15':float, 'grade':int, 'yr_renovated':int, 'price':float, 'bedrooms':float, 'zipcode':str, 'long':float, 'sqft_lot15':float, 'sqft_living':float, 'floors':str, 'condition':int, 'lat':float, 'date':str, 'sqft_basement':int, 'yr_built':int, 'id':str, 'sqft_lot':int, 'view':int}\n",
    "\n",
    "train_data = graphlab.SFrame.read_csv('kc_house_train_data.csv/',column_type_hints=dtype_dict)\n",
    "test_data = graphlab.SFrame.read_csv('kc_house_test_data.csv/',column_type_hints=dtype_dict)"
   ]
  },
  {
   "cell_type": "code",
   "execution_count": 27,
   "metadata": {
    "collapsed": true
   },
   "outputs": [],
   "source": [
    "def get_numpy_data(data_sframe, features, output):\n",
    "    data_sframe['constant'] = 1 # add a constant column to an SFrame\n",
    "    # prepend variable 'constant' to the features list\n",
    "    features = ['constant'] + features\n",
    "    # select the columns of data_SFrame given by the ‘features’ list into the SFrame ‘features_sframe’\n",
    "    features_sframe = data_sframe[features]\n",
    "    # this will convert the features_sframe into a numpy matrix with GraphLab Create >= 1.7!!\n",
    "    features_matrix = features_sframe.to_numpy()\n",
    "    # assign the column of data_sframe associated with the target to the variable ‘output_sarray’\n",
    "    output_sarray = data_sframe[output]\n",
    "    # this will convert the SArray into a numpy array:\n",
    "    output_array = output_sarray.to_numpy() # GraphLab Create>= 1.7!!\n",
    "    return(features_matrix, output_array)"
   ]
  },
  {
   "cell_type": "code",
   "execution_count": 20,
   "metadata": {
    "collapsed": true
   },
   "outputs": [],
   "source": [
    "def predict_outcome(feature_matrix, weights):\n",
    "    predictions = np.dot(feature_matrix,weights)\n",
    "    return(predictions)"
   ]
  },
  {
   "cell_type": "code",
   "execution_count": 21,
   "metadata": {
    "collapsed": true
   },
   "outputs": [],
   "source": [
    "def feature_derivative(feature,errors):\n",
    "    derivative = 2 * np.dot(feature , errors)    \n",
    "    return(derivative)"
   ]
  },
  {
   "cell_type": "code",
   "execution_count": 56,
   "metadata": {
    "collapsed": false
   },
   "outputs": [
    {
     "data": {
      "text/plain": [
       "array([ 9, 18])"
      ]
     },
     "execution_count": 56,
     "metadata": {},
     "output_type": "execute_result"
    }
   ],
   "source": [
    "t1=[[1,1],[2,2]]\n",
    "t2=[4,5]\n",
    "np.dot(t1,t2)"
   ]
  },
  {
   "cell_type": "code",
   "execution_count": 23,
   "metadata": {
    "collapsed": false
   },
   "outputs": [
    {
     "data": {
      "text/plain": [
       "array([18, 36])"
      ]
     },
     "execution_count": 23,
     "metadata": {},
     "output_type": "execute_result"
    }
   ],
   "source": [
    "feature_derivative(t1,t2)"
   ]
  },
  {
   "cell_type": "code",
   "execution_count": 64,
   "metadata": {
    "collapsed": false
   },
   "outputs": [],
   "source": [
    "def regression_gradient_descent(feature_matrix, output, initial_weights, step_size, tolerance):\n",
    "    converged = False\n",
    "    iters = 0\n",
    "    maxiters = 500\n",
    "    weights = np.array(initial_weights)\n",
    "    while (not converged) and (iters < maxiters):\n",
    "        # compute the predictions based on feature_matrix and weights:\n",
    "        pred_output = predict_outcome(feature_matrix, weights)\n",
    "        # compute the errors as predictions - output:\n",
    "        errors = pred_output - output\n",
    "        \n",
    "        gradient_sum_squares = 0 # initialize the gradient\n",
    "        # while not converged, update each weight individually:\n",
    "        for i in range(len(weights)):            \n",
    "            # Recall that feature_matrix[:, i] is the feature column associated with weights[i]            \n",
    "            # compute the derivative for weight[i]:\n",
    "            d_wt = feature_derivative(feature_matrix[:,i],errors)\n",
    "            # update the weight based on step size and derivative:            \n",
    "            weights[i] =  weights[i] - (step_size * d_wt)\n",
    "            # add the squared derivative to the gradient magnitude\n",
    "            gradient_sum_squares += ( d_wt ** 2)                        \n",
    "            \n",
    "        iters = iters + 1\n",
    "        gradient_magnitude = np.sqrt(gradient_sum_squares)\n",
    "        print \"%i iteration complete, error is %d\" %(iters,gradient_magnitude)\n",
    "        if gradient_magnitude < tolerance:\n",
    "            converged = True\n",
    "    \n",
    "    print(\"Gradient descent completed\")\n",
    "    return(weights)"
   ]
  },
  {
   "cell_type": "code",
   "execution_count": 51,
   "metadata": {
    "collapsed": false
   },
   "outputs": [],
   "source": [
    "simple_features = ['sqft_living']\n",
    "my_output= 'price'\n",
    "(simple_feature_matrix, output) = get_numpy_data(train_data, simple_features, my_output)\n",
    "initial_weights = np.array([-47000., 1.])\n",
    "step_size = 7e-12\n",
    "tolerance = 2.5e7"
   ]
  },
  {
   "cell_type": "code",
   "execution_count": 52,
   "metadata": {
    "collapsed": false
   },
   "outputs": [
    {
     "name": "stdout",
     "output_type": "stream",
     "text": [
      "2 iteration complete, error is 50551530784973\n",
      "4 iteration complete, error is 13127451026296\n",
      "6 iteration complete, error is 3408996083241\n",
      "8 iteration complete, error is 885263580285\n",
      "10 iteration complete, error is 229889265767\n",
      "12 iteration complete, error is 59698688272\n",
      "14 iteration complete, error is 15502826425\n",
      "16 iteration complete, error is 4025844402\n",
      "18 iteration complete, error is 1045449748\n",
      "20 iteration complete, error is 271487891\n",
      "22 iteration complete, error is 70504114\n",
      "24 iteration complete, error is 18320017\n",
      "Gradient descent completed\n"
     ]
    }
   ],
   "source": [
    "simple_weights = regression_gradient_descent(simple_feature_matrix, output,initial_weights, step_size,tolerance)"
   ]
  },
  {
   "cell_type": "code",
   "execution_count": 53,
   "metadata": {
    "collapsed": false
   },
   "outputs": [
    {
     "data": {
      "text/plain": [
       "array([-46999.88716555,    281.91211918])"
      ]
     },
     "execution_count": 53,
     "metadata": {},
     "output_type": "execute_result"
    }
   ],
   "source": [
    "simple_weights"
   ]
  },
  {
   "cell_type": "code",
   "execution_count": 66,
   "metadata": {
    "collapsed": true
   },
   "outputs": [],
   "source": [
    "(test_simple_feature_matrix, output_test) = get_numpy_data(test_data, simple_features, my_output)"
   ]
  },
  {
   "cell_type": "code",
   "execution_count": 67,
   "metadata": {
    "collapsed": false
   },
   "outputs": [
    {
     "data": {
      "text/plain": [
       "array([[  1.00000000e+00,   1.43000000e+03],\n",
       "       [  1.00000000e+00,   2.95000000e+03],\n",
       "       [  1.00000000e+00,   1.71000000e+03],\n",
       "       ..., \n",
       "       [  1.00000000e+00,   2.52000000e+03],\n",
       "       [  1.00000000e+00,   2.31000000e+03],\n",
       "       [  1.00000000e+00,   1.02000000e+03]])"
      ]
     },
     "execution_count": 67,
     "metadata": {},
     "output_type": "execute_result"
    }
   ],
   "source": [
    "test_simple_feature_matrix"
   ]
  },
  {
   "cell_type": "code",
   "execution_count": 68,
   "metadata": {
    "collapsed": true
   },
   "outputs": [],
   "source": [
    "test_simple_pred = np.dot(test_simple_feature_matrix, simple_weights)"
   ]
  },
  {
   "cell_type": "code",
   "execution_count": 69,
   "metadata": {
    "collapsed": false
   },
   "outputs": [
    {
     "data": {
      "text/plain": [
       "array([ 356134.443255  ,  784640.86440132,  435069.83662406, ...,\n",
       "        663418.65315598,  604217.10812919,  240550.47439317])"
      ]
     },
     "execution_count": 69,
     "metadata": {},
     "output_type": "execute_result"
    }
   ],
   "source": [
    "test_simple_pred"
   ]
  },
  {
   "cell_type": "code",
   "execution_count": 70,
   "metadata": {
    "collapsed": false
   },
   "outputs": [
    {
     "data": {
      "text/plain": [
       "275400044902128.31"
      ]
     },
     "execution_count": 70,
     "metadata": {},
     "output_type": "execute_result"
    }
   ],
   "source": [
    "test_simple_error = test_simple_pred - output_test\n",
    "test_simple_rss = np.sum(test_simple_error ** 2)\n",
    "test_simple_rss"
   ]
  },
  {
   "cell_type": "code",
   "execution_count": 88,
   "metadata": {
    "collapsed": true
   },
   "outputs": [],
   "source": [
    "model_features = ['sqft_living', 'sqft_living15']\n",
    "my_output = 'price'\n",
    "(feature_matrix, output) = get_numpy_data(train_data, model_features,my_output)\n",
    "initial_weights = np.array([-100000., 1., 1.])\n",
    "step_size = 4e-12\n",
    "tolerance = 1e9"
   ]
  },
  {
   "cell_type": "code",
   "execution_count": 89,
   "metadata": {
    "collapsed": false
   },
   "outputs": [
    {
     "name": "stdout",
     "output_type": "stream",
     "text": [
      "1 iteration complete, error is 73072020556001\n",
      "2 iteration complete, error is 22673220967534\n",
      "3 iteration complete, error is 7060794583490\n",
      "4 iteration complete, error is 2275682396587\n",
      "5 iteration complete, error is 928984110636\n",
      "6 iteration complete, error is 656307431862\n",
      "7 iteration complete, error is 610615358663\n",
      "8 iteration complete, error is 593078772020\n",
      "9 iteration complete, error is 578705926685\n",
      "10 iteration complete, error is 564945682565\n",
      "11 iteration complete, error is 551538687674\n",
      "12 iteration complete, error is 538452428981\n",
      "13 iteration complete, error is 525676918665\n",
      "14 iteration complete, error is 513204549505\n",
      "15 iteration complete, error is 501028105997\n",
      "16 iteration complete, error is 489140564644\n",
      "17 iteration complete, error is 477535070644\n",
      "18 iteration complete, error is 466204932037\n",
      "19 iteration complete, error is 455143615657\n",
      "20 iteration complete, error is 444344743347\n",
      "21 iteration complete, error is 433802088282\n",
      "22 iteration complete, error is 423509571375\n",
      "23 iteration complete, error is 413461257775\n",
      "24 iteration complete, error is 403651353441\n",
      "25 iteration complete, error is 394074201805\n",
      "26 iteration complete, error is 384724280507\n",
      "27 iteration complete, error is 375596198212\n",
      "28 iteration complete, error is 366684691503\n",
      "29 iteration complete, error is 357984621843\n",
      "30 iteration complete, error is 349490972614\n",
      "31 iteration complete, error is 341198846224\n",
      "32 iteration complete, error is 333103461282\n",
      "33 iteration complete, error is 325200149842\n",
      "34 iteration complete, error is 317484354712\n",
      "35 iteration complete, error is 309951626823\n",
      "36 iteration complete, error is 302597622669\n",
      "37 iteration complete, error is 295418101797\n",
      "38 iteration complete, error is 288408924365\n",
      "39 iteration complete, error is 281566048754\n",
      "40 iteration complete, error is 274885529237\n",
      "41 iteration complete, error is 268363513706\n",
      "42 iteration complete, error is 261996241449\n",
      "43 iteration complete, error is 255780040980\n",
      "44 iteration complete, error is 249711327926\n",
      "45 iteration complete, error is 243786602956\n",
      "46 iteration complete, error is 238002449767\n",
      "47 iteration complete, error is 232355533110\n",
      "48 iteration complete, error is 226842596871\n",
      "49 iteration complete, error is 221460462192\n",
      "50 iteration complete, error is 216206025635\n",
      "51 iteration complete, error is 211076257397\n",
      "52 iteration complete, error is 206068199560\n",
      "53 iteration complete, error is 201178964388\n",
      "54 iteration complete, error is 196405732658\n",
      "55 iteration complete, error is 191745752039\n",
      "56 iteration complete, error is 187196335501\n",
      "57 iteration complete, error is 182754859768\n",
      "58 iteration complete, error is 178418763805\n",
      "59 iteration complete, error is 174185547339\n",
      "60 iteration complete, error is 170052769422\n",
      "61 iteration complete, error is 166018047019\n",
      "62 iteration complete, error is 162079053635\n",
      "63 iteration complete, error is 158233517975\n",
      "64 iteration complete, error is 154479222634\n",
      "65 iteration complete, error is 150814002817\n",
      "66 iteration complete, error is 147235745092\n",
      "67 iteration complete, error is 143742386170\n",
      "68 iteration complete, error is 140331911717\n",
      "69 iteration complete, error is 137002355191\n",
      "70 iteration complete, error is 133751796710\n",
      "71 iteration complete, error is 130578361944\n",
      "72 iteration complete, error is 127480221031\n",
      "73 iteration complete, error is 124455587527\n",
      "74 iteration complete, error is 121502717374\n",
      "75 iteration complete, error is 118619907894\n",
      "76 iteration complete, error is 115805496806\n",
      "77 iteration complete, error is 113057861269\n",
      "78 iteration complete, error is 110375416947\n",
      "79 iteration complete, error is 107756617094\n",
      "80 iteration complete, error is 105199951663\n",
      "81 iteration complete, error is 102703946433\n",
      "82 iteration complete, error is 100267162164\n",
      "83 iteration complete, error is 97888193759\n",
      "84 iteration complete, error is 95565669465\n",
      "85 iteration complete, error is 93298250070\n",
      "86 iteration complete, error is 91084628139\n",
      "87 iteration complete, error is 88923527259\n",
      "88 iteration complete, error is 86813701298\n",
      "89 iteration complete, error is 84753933694\n",
      "90 iteration complete, error is 82743036746\n",
      "91 iteration complete, error is 80779850935\n",
      "92 iteration complete, error is 78863244252\n",
      "93 iteration complete, error is 76992111548\n",
      "94 iteration complete, error is 75165373892\n",
      "95 iteration complete, error is 73381977956\n",
      "96 iteration complete, error is 71640895400\n",
      "97 iteration complete, error is 69941122285\n",
      "98 iteration complete, error is 68281678490\n",
      "99 iteration complete, error is 66661607151\n",
      "100 iteration complete, error is 65079974104\n",
      "101 iteration complete, error is 63535867352\n",
      "102 iteration complete, error is 62028396534\n",
      "103 iteration complete, error is 60556692416\n",
      "104 iteration complete, error is 59119906386\n",
      "105 iteration complete, error is 57717209967\n",
      "106 iteration complete, error is 56347794339\n",
      "107 iteration complete, error is 55010869871\n",
      "108 iteration complete, error is 53705665670\n",
      "109 iteration complete, error is 52431429131\n",
      "110 iteration complete, error is 51187425506\n",
      "111 iteration complete, error is 49972937479\n",
      "112 iteration complete, error is 48787264755\n",
      "113 iteration complete, error is 47629723653\n",
      "114 iteration complete, error is 46499646715\n",
      "115 iteration complete, error is 45396382317\n",
      "116 iteration complete, error is 44319294297\n",
      "117 iteration complete, error is 43267761587\n",
      "118 iteration complete, error is 42241177853\n",
      "119 iteration complete, error is 41238951150\n",
      "120 iteration complete, error is 40260503574\n",
      "121 iteration complete, error is 39305270935\n",
      "122 iteration complete, error is 38372702429\n",
      "123 iteration complete, error is 37462260320\n",
      "124 iteration complete, error is 36573419630\n",
      "125 iteration complete, error is 35705667838\n",
      "126 iteration complete, error is 34858504581\n",
      "127 iteration complete, error is 34031441372\n",
      "128 iteration complete, error is 33224001309\n",
      "129 iteration complete, error is 32435718808\n",
      "130 iteration complete, error is 31666139332\n",
      "131 iteration complete, error is 30914819127\n",
      "132 iteration complete, error is 30181324967\n",
      "133 iteration complete, error is 29465233907\n",
      "134 iteration complete, error is 28766133036\n",
      "135 iteration complete, error is 28083619239\n",
      "136 iteration complete, error is 27417298967\n",
      "137 iteration complete, error is 26766788007\n",
      "138 iteration complete, error is 26131711264\n",
      "139 iteration complete, error is 25511702539\n",
      "140 iteration complete, error is 24906404325\n",
      "141 iteration complete, error is 24315467595\n",
      "142 iteration complete, error is 23738551606\n",
      "143 iteration complete, error is 23175323696\n",
      "144 iteration complete, error is 22625459099\n",
      "145 iteration complete, error is 22088640752\n",
      "146 iteration complete, error is 21564559117\n",
      "147 iteration complete, error is 21052911997\n",
      "148 iteration complete, error is 20553404369\n",
      "149 iteration complete, error is 20065748207\n",
      "150 iteration complete, error is 19589662320\n",
      "151 iteration complete, error is 19124872187\n",
      "152 iteration complete, error is 18671109803\n",
      "153 iteration complete, error is 18228113520\n",
      "154 iteration complete, error is 17795627898\n",
      "155 iteration complete, error is 17373403558\n",
      "156 iteration complete, error is 16961197037\n",
      "157 iteration complete, error is 16558770651\n",
      "158 iteration complete, error is 16165892353\n",
      "159 iteration complete, error is 15782335601\n",
      "160 iteration complete, error is 15407879231\n",
      "161 iteration complete, error is 15042307324\n",
      "162 iteration complete, error is 14685409084\n",
      "163 iteration complete, error is 14336978717\n",
      "164 iteration complete, error is 13996815313\n",
      "165 iteration complete, error is 13664722726\n",
      "166 iteration complete, error is 13340509467\n",
      "167 iteration complete, error is 13023988587\n",
      "168 iteration complete, error is 12714977576\n",
      "169 iteration complete, error is 12413298252\n",
      "170 iteration complete, error is 12118776661\n",
      "171 iteration complete, error is 11831242976\n",
      "172 iteration complete, error is 11550531401\n",
      "173 iteration complete, error is 11276480072\n",
      "174 iteration complete, error is 11008930966\n",
      "175 iteration complete, error is 10747729809\n",
      "176 iteration complete, error is 10492725988\n",
      "177 iteration complete, error is 10243772464\n",
      "178 iteration complete, error is 10000725685\n",
      "179 iteration complete, error is 9763445506\n",
      "180 iteration complete, error is 9531795107\n",
      "181 iteration complete, error is 9305640914\n",
      "182 iteration complete, error is 9084852522\n",
      "183 iteration complete, error is 8869302621\n",
      "184 iteration complete, error is 8658866921\n",
      "185 iteration complete, error is 8453424081\n",
      "186 iteration complete, error is 8252855639\n",
      "187 iteration complete, error is 8057045943\n",
      "188 iteration complete, error is 7865882086\n",
      "189 iteration complete, error is 7679253839\n",
      "190 iteration complete, error is 7497053590\n",
      "191 iteration complete, error is 7319176278\n",
      "192 iteration complete, error is 7145519335\n",
      "193 iteration complete, error is 6975982629\n",
      "194 iteration complete, error is 6810468401\n",
      "195 iteration complete, error is 6648881213\n",
      "196 iteration complete, error is 6491127890\n",
      "197 iteration complete, error is 6337117470\n",
      "198 iteration complete, error is 6186761146\n",
      "199 iteration complete, error is 6039972221\n",
      "200 iteration complete, error is 5896666054\n",
      "201 iteration complete, error is 5756760012\n",
      "202 iteration complete, error is 5620173421\n",
      "203 iteration complete, error is 5486827525\n",
      "204 iteration complete, error is 5356645433\n",
      "205 iteration complete, error is 5229552081\n",
      "206 iteration complete, error is 5105474182\n",
      "207 iteration complete, error is 4984340193\n",
      "208 iteration complete, error is 4866080265\n",
      "209 iteration complete, error is 4750626208\n",
      "210 iteration complete, error is 4637911447\n",
      "211 iteration complete, error is 4527870990\n",
      "212 iteration complete, error is 4420441386\n",
      "213 iteration complete, error is 4315560689\n",
      "214 iteration complete, error is 4213168423\n",
      "215 iteration complete, error is 4113205545\n",
      "216 iteration complete, error is 4015614417\n",
      "217 iteration complete, error is 3920338765\n",
      "218 iteration complete, error is 3827323651\n",
      "219 iteration complete, error is 3736515442\n",
      "220 iteration complete, error is 3647861776\n",
      "221 iteration complete, error is 3561311532\n",
      "222 iteration complete, error is 3476814806\n",
      "223 iteration complete, error is 3394322874\n",
      "224 iteration complete, error is 3313788170\n",
      "225 iteration complete, error is 3235164257\n",
      "226 iteration complete, error is 3158405798\n",
      "227 iteration complete, error is 3083468533\n",
      "228 iteration complete, error is 3010309252\n",
      "229 iteration complete, error is 2938885770\n",
      "230 iteration complete, error is 2869156903\n",
      "231 iteration complete, error is 2801082444\n",
      "232 iteration complete, error is 2734623140\n",
      "233 iteration complete, error is 2669740669\n",
      "234 iteration complete, error is 2606397619\n",
      "235 iteration complete, error is 2544557466\n",
      "236 iteration complete, error is 2484184550\n",
      "237 iteration complete, error is 2425244060\n",
      "238 iteration complete, error is 2367702010\n",
      "239 iteration complete, error is 2311525220\n",
      "240 iteration complete, error is 2256681298\n",
      "241 iteration complete, error is 2203138619\n",
      "242 iteration complete, error is 2150866309\n",
      "243 iteration complete, error is 2099834228\n",
      "244 iteration complete, error is 2050012950\n",
      "245 iteration complete, error is 2001373746\n",
      "246 iteration complete, error is 1953888571\n",
      "247 iteration complete, error is 1907530043\n",
      "248 iteration complete, error is 1862271432\n",
      "249 iteration complete, error is 1818086640\n",
      "250 iteration complete, error is 1774950190\n",
      "251 iteration complete, error is 1732837209\n",
      "252 iteration complete, error is 1691723413\n",
      "253 iteration complete, error is 1651585095\n",
      "254 iteration complete, error is 1612399111\n",
      "255 iteration complete, error is 1574142866\n",
      "256 iteration complete, error is 1536794300\n",
      "257 iteration complete, error is 1500331878\n",
      "258 iteration complete, error is 1464734574\n",
      "259 iteration complete, error is 1429981863\n",
      "260 iteration complete, error is 1396053706\n",
      "261 iteration complete, error is 1362930538\n",
      "262 iteration complete, error is 1330593261\n",
      "263 iteration complete, error is 1299023228\n",
      "264 iteration complete, error is 1268202235\n",
      "265 iteration complete, error is 1238112511\n",
      "266 iteration complete, error is 1208736705\n",
      "267 iteration complete, error is 1180057878\n",
      "268 iteration complete, error is 1152059495\n",
      "269 iteration complete, error is 1124725409\n",
      "270 iteration complete, error is 1098039861\n",
      "271 iteration complete, error is 1071987463\n",
      "272 iteration complete, error is 1046553191\n",
      "273 iteration complete, error is 1021722382\n",
      "274 iteration complete, error is 997480716\n",
      "Gradient descent completed\n"
     ]
    }
   ],
   "source": [
    "model_weights = regression_gradient_descent(feature_matrix, output,initial_weights, step_size,tolerance)"
   ]
  },
  {
   "cell_type": "code",
   "execution_count": 90,
   "metadata": {
    "collapsed": true
   },
   "outputs": [],
   "source": [
    "(test_feature_matrix, test_output) = get_numpy_data(test_data, model_features, my_output)"
   ]
  },
  {
   "cell_type": "code",
   "execution_count": 94,
   "metadata": {
    "collapsed": false
   },
   "outputs": [
    {
     "name": "stdout",
     "output_type": "stream",
     "text": [
      "(4229, 3)\n",
      "(3,)\n",
      "(4229,)\n",
      "(4229,)\n"
     ]
    }
   ],
   "source": [
    "model_pred = np.dot(test_feature_matrix, model_weights)\n",
    "print test_feature_matrix.shape\n",
    "print model_weights.shape\n",
    "print model_pred.shape\n",
    "print test_output.shape"
   ]
  },
  {
   "cell_type": "code",
   "execution_count": 97,
   "metadata": {
    "collapsed": false
   },
   "outputs": [
    {
     "name": "stdout",
     "output_type": "stream",
     "text": [
      "366651.411629\n",
      "310000.0\n"
     ]
    },
    {
     "data": {
      "text/plain": [
       "270263443629803.56"
      ]
     },
     "execution_count": 97,
     "metadata": {},
     "output_type": "execute_result"
    }
   ],
   "source": [
    "print model_pred[0]\n",
    "print test_output[0]\n",
    "model_error = model_pred - test_output\n",
    "model_rss = np.sum(model_error ** 2)\n",
    "model_rss"
   ]
  },
  {
   "cell_type": "code",
   "execution_count": 98,
   "metadata": {
    "collapsed": false
   },
   "outputs": [
    {
     "data": {
      "text/plain": [
       "True"
      ]
     },
     "execution_count": 98,
     "metadata": {},
     "output_type": "execute_result"
    }
   ],
   "source": [
    "test_simple_rss > model_rss"
   ]
  },
  {
   "cell_type": "code",
   "execution_count": null,
   "metadata": {
    "collapsed": true
   },
   "outputs": [],
   "source": []
  }
 ],
 "metadata": {
  "kernelspec": {
   "display_name": "Python 2",
   "language": "python",
   "name": "python2"
  },
  "language_info": {
   "codemirror_mode": {
    "name": "ipython",
    "version": 2
   },
   "file_extension": ".py",
   "mimetype": "text/x-python",
   "name": "python",
   "nbconvert_exporter": "python",
   "pygments_lexer": "ipython2",
   "version": "2.7.6"
  }
 },
 "nbformat": 4,
 "nbformat_minor": 1
}
