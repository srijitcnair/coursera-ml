{
 "cells": [
  {
   "cell_type": "markdown",
   "metadata": {},
   "source": [
    "# Latent Dirichlet Allocation for Text Data\n",
    "\n",
    "In this assignment you will\n",
    "\n",
    "* apply standard preprocessing techniques on Wikipedia text data\n",
    "* use GraphLab Create to fit a Latent Dirichlet allocation (LDA) model\n",
    "* explore and interpret the results, including topic keywords and topic assignments for documents\n",
    "\n",
    "Recall that a major feature distinguishing the LDA model from our previously explored methods is the notion of *mixed membership*. Throughout the course so far, our models have assumed that each data point belongs to a single cluster. k-means determines membership simply by shortest distance to the cluster center, and Gaussian mixture models suppose that each data point is drawn from one of their component mixture distributions. In many cases, though, it is more realistic to think of data as genuinely belonging to more than one cluster or category - for example, if we have a model for text data that includes both \"Politics\" and \"World News\" categories, then an article about a recent meeting of the United Nations should have membership in both categories rather than being forced into just one.\n",
    "\n",
    "With this in mind, we will use GraphLab Create tools to fit an LDA model to a corpus of Wikipedia articles and examine the results to analyze the impact of a mixed membership approach. In particular, we want to identify the topics discovered by the model in terms of their most important words, and we want to use the model to predict the topic membership distribution for a given document. "
   ]
  },
  {
   "cell_type": "markdown",
   "metadata": {},
   "source": [
    "**Note to Amazon EC2 users**: To conserve memory, make sure to stop all the other notebooks before running this notebook."
   ]
  },
  {
   "cell_type": "markdown",
   "metadata": {},
   "source": [
    "## Text Data Preprocessing\n",
    "We'll start by importing our familiar Wikipedia dataset.\n",
    "\n",
    "The following code block will check if you have the correct version of GraphLab Create. Any version later than 1.8.5 will do. To upgrade, read [this page](https://turi.com/download/upgrade-graphlab-create.html)."
   ]
  },
  {
   "cell_type": "code",
   "execution_count": 1,
   "metadata": {
    "collapsed": false
   },
   "outputs": [
    {
     "name": "stderr",
     "output_type": "stream",
     "text": [
      "/usr/local/lib/python2.7/dist-packages/requests/packages/urllib3/util/ssl_.py:315: SNIMissingWarning: An HTTPS request has been made, but the SNI (Subject Name Indication) extension to TLS is not available on this platform. This may cause the server to present an incorrect TLS certificate, which can cause validation failures. For more information, see https://urllib3.readthedocs.org/en/latest/security.html#snimissingwarning.\n",
      "  SNIMissingWarning\n",
      "/usr/local/lib/python2.7/dist-packages/requests/packages/urllib3/util/ssl_.py:120: InsecurePlatformWarning: A true SSLContext object is not available. This prevents urllib3 from configuring SSL appropriately and may cause certain SSL connections to fail. For more information, see https://urllib3.readthedocs.org/en/latest/security.html#insecureplatformwarning.\n",
      "  InsecurePlatformWarning\n",
      "[WARNING] graphlab.product_key: Unable to write current GraphLab Create license to /home/srijit/.graphlab/config. Ensure that this user account                         has write permission to /home/srijit/.graphlab/config to save the license for offline use.\n",
      "[INFO] graphlab.cython.cy_server: GraphLab Create v2.1 started. Logging: /tmp/graphlab_server_1492875975.log\n"
     ]
    },
    {
     "name": "stdout",
     "output_type": "stream",
     "text": [
      "This non-commercial license of GraphLab Create for academic use is assigned to srijitcnair@hotmail.com and will expire on September 03, 2017.\n"
     ]
    },
    {
     "name": "stderr",
     "output_type": "stream",
     "text": [
      "[WARNING] graphlab.deploy._session: Unable to create session in specified location: '/home/srijit/.graphlab/artifacts'. Using: '/var/tmp/graphlab-srijit/3925/tmp_session_17f33fc4-e803-4eba-9f9c-37195b462a7b'\n"
     ]
    }
   ],
   "source": [
    "import graphlab as gl\n",
    "import numpy as np\n",
    "import matplotlib.pyplot as plt \n",
    "\n",
    "%matplotlib inline\n",
    "\n",
    "'''Check GraphLab Create version'''\n",
    "from distutils.version import StrictVersion\n",
    "assert (StrictVersion(gl.version) >= StrictVersion('1.8.5')), 'GraphLab Create must be version 1.8.5 or later.'"
   ]
  },
  {
   "cell_type": "code",
   "execution_count": 2,
   "metadata": {
    "collapsed": false
   },
   "outputs": [
    {
     "data": {
      "text/html": [
       "<div style=\"max-height:1000px;max-width:1500px;overflow:auto;\"><table frame=\"box\" rules=\"cols\">\n",
       "    <tr>\n",
       "        <th style=\"padding-left: 1em; padding-right: 1em; text-align: center\">URI</th>\n",
       "        <th style=\"padding-left: 1em; padding-right: 1em; text-align: center\">name</th>\n",
       "        <th style=\"padding-left: 1em; padding-right: 1em; text-align: center\">text</th>\n",
       "    </tr>\n",
       "    <tr>\n",
       "        <td style=\"padding-left: 1em; padding-right: 1em; text-align: center; vertical-align: top\">&lt;http://dbpedia.org/resou<br>rce/Digby_Morrell&gt; ...</td>\n",
       "        <td style=\"padding-left: 1em; padding-right: 1em; text-align: center; vertical-align: top\">Digby Morrell</td>\n",
       "        <td style=\"padding-left: 1em; padding-right: 1em; text-align: center; vertical-align: top\">digby morrell born 10<br>october 1979 is a former ...</td>\n",
       "    </tr>\n",
       "    <tr>\n",
       "        <td style=\"padding-left: 1em; padding-right: 1em; text-align: center; vertical-align: top\">&lt;http://dbpedia.org/resou<br>rce/Alfred_J._Lewy&gt; ...</td>\n",
       "        <td style=\"padding-left: 1em; padding-right: 1em; text-align: center; vertical-align: top\">Alfred J. Lewy</td>\n",
       "        <td style=\"padding-left: 1em; padding-right: 1em; text-align: center; vertical-align: top\">alfred j lewy aka sandy<br>lewy graduated from ...</td>\n",
       "    </tr>\n",
       "    <tr>\n",
       "        <td style=\"padding-left: 1em; padding-right: 1em; text-align: center; vertical-align: top\">&lt;http://dbpedia.org/resou<br>rce/Harpdog_Brown&gt; ...</td>\n",
       "        <td style=\"padding-left: 1em; padding-right: 1em; text-align: center; vertical-align: top\">Harpdog Brown</td>\n",
       "        <td style=\"padding-left: 1em; padding-right: 1em; text-align: center; vertical-align: top\">harpdog brown is a singer<br>and harmonica player who ...</td>\n",
       "    </tr>\n",
       "    <tr>\n",
       "        <td style=\"padding-left: 1em; padding-right: 1em; text-align: center; vertical-align: top\">&lt;http://dbpedia.org/resou<br>rce/Franz_Rottensteiner&gt; ...</td>\n",
       "        <td style=\"padding-left: 1em; padding-right: 1em; text-align: center; vertical-align: top\">Franz Rottensteiner</td>\n",
       "        <td style=\"padding-left: 1em; padding-right: 1em; text-align: center; vertical-align: top\">franz rottensteiner born<br>in waidmannsfeld lower ...</td>\n",
       "    </tr>\n",
       "    <tr>\n",
       "        <td style=\"padding-left: 1em; padding-right: 1em; text-align: center; vertical-align: top\">&lt;http://dbpedia.org/resou<br>rce/G-Enka&gt; ...</td>\n",
       "        <td style=\"padding-left: 1em; padding-right: 1em; text-align: center; vertical-align: top\">G-Enka</td>\n",
       "        <td style=\"padding-left: 1em; padding-right: 1em; text-align: center; vertical-align: top\">henry krvits born 30<br>december 1974 in tallinn ...</td>\n",
       "    </tr>\n",
       "    <tr>\n",
       "        <td style=\"padding-left: 1em; padding-right: 1em; text-align: center; vertical-align: top\">&lt;http://dbpedia.org/resou<br>rce/Sam_Henderson&gt; ...</td>\n",
       "        <td style=\"padding-left: 1em; padding-right: 1em; text-align: center; vertical-align: top\">Sam Henderson</td>\n",
       "        <td style=\"padding-left: 1em; padding-right: 1em; text-align: center; vertical-align: top\">sam henderson born<br>october 18 1969 is an ...</td>\n",
       "    </tr>\n",
       "    <tr>\n",
       "        <td style=\"padding-left: 1em; padding-right: 1em; text-align: center; vertical-align: top\">&lt;http://dbpedia.org/resou<br>rce/Aaron_LaCrate&gt; ...</td>\n",
       "        <td style=\"padding-left: 1em; padding-right: 1em; text-align: center; vertical-align: top\">Aaron LaCrate</td>\n",
       "        <td style=\"padding-left: 1em; padding-right: 1em; text-align: center; vertical-align: top\">aaron lacrate is an<br>american music producer ...</td>\n",
       "    </tr>\n",
       "    <tr>\n",
       "        <td style=\"padding-left: 1em; padding-right: 1em; text-align: center; vertical-align: top\">&lt;http://dbpedia.org/resou<br>rce/Trevor_Ferguson&gt; ...</td>\n",
       "        <td style=\"padding-left: 1em; padding-right: 1em; text-align: center; vertical-align: top\">Trevor Ferguson</td>\n",
       "        <td style=\"padding-left: 1em; padding-right: 1em; text-align: center; vertical-align: top\">trevor ferguson aka john<br>farrow born 11 november ...</td>\n",
       "    </tr>\n",
       "    <tr>\n",
       "        <td style=\"padding-left: 1em; padding-right: 1em; text-align: center; vertical-align: top\">&lt;http://dbpedia.org/resou<br>rce/Grant_Nelson&gt; ...</td>\n",
       "        <td style=\"padding-left: 1em; padding-right: 1em; text-align: center; vertical-align: top\">Grant Nelson</td>\n",
       "        <td style=\"padding-left: 1em; padding-right: 1em; text-align: center; vertical-align: top\">grant nelson born 27<br>april 1971 in london  ...</td>\n",
       "    </tr>\n",
       "    <tr>\n",
       "        <td style=\"padding-left: 1em; padding-right: 1em; text-align: center; vertical-align: top\">&lt;http://dbpedia.org/resou<br>rce/Cathy_Caruth&gt; ...</td>\n",
       "        <td style=\"padding-left: 1em; padding-right: 1em; text-align: center; vertical-align: top\">Cathy Caruth</td>\n",
       "        <td style=\"padding-left: 1em; padding-right: 1em; text-align: center; vertical-align: top\">cathy caruth born 1955 is<br>frank h t rhodes ...</td>\n",
       "    </tr>\n",
       "</table>\n",
       "[59071 rows x 3 columns]<br/>Note: Only the head of the SFrame is printed.<br/>You can use print_rows(num_rows=m, num_columns=n) to print more rows and columns.\n",
       "</div>"
      ],
      "text/plain": [
       "Columns:\n",
       "\tURI\tstr\n",
       "\tname\tstr\n",
       "\ttext\tstr\n",
       "\n",
       "Rows: 59071\n",
       "\n",
       "Data:\n",
       "+-------------------------------+---------------------+\n",
       "|              URI              |         name        |\n",
       "+-------------------------------+---------------------+\n",
       "| <http://dbpedia.org/resour... |    Digby Morrell    |\n",
       "| <http://dbpedia.org/resour... |    Alfred J. Lewy   |\n",
       "| <http://dbpedia.org/resour... |    Harpdog Brown    |\n",
       "| <http://dbpedia.org/resour... | Franz Rottensteiner |\n",
       "| <http://dbpedia.org/resour... |        G-Enka       |\n",
       "| <http://dbpedia.org/resour... |    Sam Henderson    |\n",
       "| <http://dbpedia.org/resour... |    Aaron LaCrate    |\n",
       "| <http://dbpedia.org/resour... |   Trevor Ferguson   |\n",
       "| <http://dbpedia.org/resour... |     Grant Nelson    |\n",
       "| <http://dbpedia.org/resour... |     Cathy Caruth    |\n",
       "+-------------------------------+---------------------+\n",
       "+-------------------------------+\n",
       "|              text             |\n",
       "+-------------------------------+\n",
       "| digby morrell born 10 octo... |\n",
       "| alfred j lewy aka sandy le... |\n",
       "| harpdog brown is a singer ... |\n",
       "| franz rottensteiner born i... |\n",
       "| henry krvits born 30 decem... |\n",
       "| sam henderson born october... |\n",
       "| aaron lacrate is an americ... |\n",
       "| trevor ferguson aka john f... |\n",
       "| grant nelson born 27 april... |\n",
       "| cathy caruth born 1955 is ... |\n",
       "+-------------------------------+\n",
       "[59071 rows x 3 columns]\n",
       "Note: Only the head of the SFrame is printed.\n",
       "You can use print_rows(num_rows=m, num_columns=n) to print more rows and columns."
      ]
     },
     "execution_count": 2,
     "metadata": {},
     "output_type": "execute_result"
    }
   ],
   "source": [
    "# import wiki data\n",
    "wiki = gl.SFrame('people_wiki.gl/')\n",
    "wiki"
   ]
  },
  {
   "cell_type": "markdown",
   "metadata": {},
   "source": [
    "In the original data, each Wikipedia article is represented by a URI, a name, and a string containing the entire text of the article. Recall from the video lectures that LDA requires documents to be represented as a _bag of words_, which ignores word ordering in the document but retains information on how many times each word appears. As we have seen in our previous encounters with text data, words such as 'the', 'a', or 'and' are by far the most frequent, but they appear so commonly in the English language that they tell us almost nothing about how similar or dissimilar two documents might be. \n",
    "\n",
    "Therefore, before we train our LDA model, we will preprocess the Wikipedia data in two steps: first, we will create a bag of words representation for each article, and then we will remove the common words that don't help us to distinguish between documents. For both of these tasks we can use pre-implemented tools from GraphLab Create:"
   ]
  },
  {
   "cell_type": "code",
   "execution_count": 3,
   "metadata": {
    "collapsed": true
   },
   "outputs": [],
   "source": [
    "wiki_docs = gl.text_analytics.count_words(wiki['text'])\n",
    "wiki_docs = wiki_docs.dict_trim_by_keys(gl.text_analytics.stopwords(), exclude=True)"
   ]
  },
  {
   "cell_type": "markdown",
   "metadata": {},
   "source": [
    "## Model fitting and interpretation\n",
    "In the video lectures we saw that Gibbs sampling can be used to perform inference in the LDA model. In this assignment we will use a GraphLab Create method to learn the topic model for our Wikipedia data, and our main emphasis will be on interpreting the results. We'll begin by creating the topic model using create() from GraphLab Create's topic_model module.\n",
    "\n",
    "Note: This may take several minutes to run."
   ]
  },
  {
   "cell_type": "code",
   "execution_count": 4,
   "metadata": {
    "collapsed": false
   },
   "outputs": [
    {
     "data": {
      "text/html": [
       "<pre>Learning a topic model</pre>"
      ],
      "text/plain": [
       "Learning a topic model"
      ]
     },
     "metadata": {},
     "output_type": "display_data"
    },
    {
     "data": {
      "text/html": [
       "<pre>       Number of documents     59071</pre>"
      ],
      "text/plain": [
       "       Number of documents     59071"
      ]
     },
     "metadata": {},
     "output_type": "display_data"
    },
    {
     "data": {
      "text/html": [
       "<pre>           Vocabulary size    547462</pre>"
      ],
      "text/plain": [
       "           Vocabulary size    547462"
      ]
     },
     "metadata": {},
     "output_type": "display_data"
    },
    {
     "data": {
      "text/html": [
       "<pre>   Running collapsed Gibbs sampling</pre>"
      ],
      "text/plain": [
       "   Running collapsed Gibbs sampling"
      ]
     },
     "metadata": {},
     "output_type": "display_data"
    },
    {
     "data": {
      "text/html": [
       "<pre>+-----------+---------------+----------------+-----------------+</pre>"
      ],
      "text/plain": [
       "+-----------+---------------+----------------+-----------------+"
      ]
     },
     "metadata": {},
     "output_type": "display_data"
    },
    {
     "data": {
      "text/html": [
       "<pre>| Iteration | Elapsed Time  | Tokens/Second  | Est. Perplexity |</pre>"
      ],
      "text/plain": [
       "| Iteration | Elapsed Time  | Tokens/Second  | Est. Perplexity |"
      ]
     },
     "metadata": {},
     "output_type": "display_data"
    },
    {
     "data": {
      "text/html": [
       "<pre>+-----------+---------------+----------------+-----------------+</pre>"
      ],
      "text/plain": [
       "+-----------+---------------+----------------+-----------------+"
      ]
     },
     "metadata": {},
     "output_type": "display_data"
    },
    {
     "data": {
      "text/html": [
       "<pre>| 10        | 11.28s        | 1.12603e+07    | 0               |</pre>"
      ],
      "text/plain": [
       "| 10        | 11.28s        | 1.12603e+07    | 0               |"
      ]
     },
     "metadata": {},
     "output_type": "display_data"
    },
    {
     "data": {
      "text/html": [
       "<pre>| 20        | 22.62s        | 6.5393e+06     | 0               |</pre>"
      ],
      "text/plain": [
       "| 20        | 22.62s        | 6.5393e+06     | 0               |"
      ]
     },
     "metadata": {},
     "output_type": "display_data"
    },
    {
     "data": {
      "text/html": [
       "<pre>| 30        | 33.74s        | 9.17442e+06    | 0               |</pre>"
      ],
      "text/plain": [
       "| 30        | 33.74s        | 9.17442e+06    | 0               |"
      ]
     },
     "metadata": {},
     "output_type": "display_data"
    },
    {
     "data": {
      "text/html": [
       "<pre>| 40        | 46.35s        | 5.70914e+06    | 0               |</pre>"
      ],
      "text/plain": [
       "| 40        | 46.35s        | 5.70914e+06    | 0               |"
      ]
     },
     "metadata": {},
     "output_type": "display_data"
    },
    {
     "data": {
      "text/html": [
       "<pre>| 50        | 58.61s        | 8.34929e+06    | 0               |</pre>"
      ],
      "text/plain": [
       "| 50        | 58.61s        | 8.34929e+06    | 0               |"
      ]
     },
     "metadata": {},
     "output_type": "display_data"
    },
    {
     "data": {
      "text/html": [
       "<pre>| 60        | 1m 10s        | 6.84974e+06    | 0               |</pre>"
      ],
      "text/plain": [
       "| 60        | 1m 10s        | 6.84974e+06    | 0               |"
      ]
     },
     "metadata": {},
     "output_type": "display_data"
    },
    {
     "data": {
      "text/html": [
       "<pre>| 70        | 1m 21s        | 4.56473e+06    | 0               |</pre>"
      ],
      "text/plain": [
       "| 70        | 1m 21s        | 4.56473e+06    | 0               |"
      ]
     },
     "metadata": {},
     "output_type": "display_data"
    },
    {
     "data": {
      "text/html": [
       "<pre>| 80        | 1m 32s        | 6.85689e+06    | 0               |</pre>"
      ],
      "text/plain": [
       "| 80        | 1m 32s        | 6.85689e+06    | 0               |"
      ]
     },
     "metadata": {},
     "output_type": "display_data"
    },
    {
     "data": {
      "text/html": [
       "<pre>| 90        | 1m 43s        | 9.97321e+06    | 0               |</pre>"
      ],
      "text/plain": [
       "| 90        | 1m 43s        | 9.97321e+06    | 0               |"
      ]
     },
     "metadata": {},
     "output_type": "display_data"
    },
    {
     "data": {
      "text/html": [
       "<pre>| 100       | 1m 55s        | 9.18808e+06    | 0               |</pre>"
      ],
      "text/plain": [
       "| 100       | 1m 55s        | 9.18808e+06    | 0               |"
      ]
     },
     "metadata": {},
     "output_type": "display_data"
    },
    {
     "data": {
      "text/html": [
       "<pre>| 110       | 2m 6s         | 7.10855e+06    | 0               |</pre>"
      ],
      "text/plain": [
       "| 110       | 2m 6s         | 7.10855e+06    | 0               |"
      ]
     },
     "metadata": {},
     "output_type": "display_data"
    },
    {
     "data": {
      "text/html": [
       "<pre>| 120       | 2m 18s        | 8.54275e+06    | 0               |</pre>"
      ],
      "text/plain": [
       "| 120       | 2m 18s        | 8.54275e+06    | 0               |"
      ]
     },
     "metadata": {},
     "output_type": "display_data"
    },
    {
     "data": {
      "text/html": [
       "<pre>| 130       | 2m 29s        | 9.28615e+06    | 0               |</pre>"
      ],
      "text/plain": [
       "| 130       | 2m 29s        | 9.28615e+06    | 0               |"
      ]
     },
     "metadata": {},
     "output_type": "display_data"
    },
    {
     "data": {
      "text/html": [
       "<pre>| 140       | 2m 40s        | 6.68625e+06    | 0               |</pre>"
      ],
      "text/plain": [
       "| 140       | 2m 40s        | 6.68625e+06    | 0               |"
      ]
     },
     "metadata": {},
     "output_type": "display_data"
    },
    {
     "data": {
      "text/html": [
       "<pre>| 150       | 2m 51s        | 1.00517e+07    | 0               |</pre>"
      ],
      "text/plain": [
       "| 150       | 2m 51s        | 1.00517e+07    | 0               |"
      ]
     },
     "metadata": {},
     "output_type": "display_data"
    },
    {
     "data": {
      "text/html": [
       "<pre>| 160       | 3m 4s         | 3.728e+06      | 0               |</pre>"
      ],
      "text/plain": [
       "| 160       | 3m 4s         | 3.728e+06      | 0               |"
      ]
     },
     "metadata": {},
     "output_type": "display_data"
    },
    {
     "data": {
      "text/html": [
       "<pre>| 170       | 3m 16s        | 1.01922e+07    | 0               |</pre>"
      ],
      "text/plain": [
       "| 170       | 3m 16s        | 1.01922e+07    | 0               |"
      ]
     },
     "metadata": {},
     "output_type": "display_data"
    },
    {
     "data": {
      "text/html": [
       "<pre>| 180       | 3m 29s        | 4.69199e+06    | 0               |</pre>"
      ],
      "text/plain": [
       "| 180       | 3m 29s        | 4.69199e+06    | 0               |"
      ]
     },
     "metadata": {},
     "output_type": "display_data"
    },
    {
     "data": {
      "text/html": [
       "<pre>| 190       | 3m 42s        | 4.56797e+06    | 0               |</pre>"
      ],
      "text/plain": [
       "| 190       | 3m 42s        | 4.56797e+06    | 0               |"
      ]
     },
     "metadata": {},
     "output_type": "display_data"
    },
    {
     "data": {
      "text/html": [
       "<pre>| 200       | 3m 55s        | 6.54296e+06    | 0               |</pre>"
      ],
      "text/plain": [
       "| 200       | 3m 55s        | 6.54296e+06    | 0               |"
      ]
     },
     "metadata": {},
     "output_type": "display_data"
    },
    {
     "data": {
      "text/html": [
       "<pre>+-----------+---------------+----------------+-----------------+</pre>"
      ],
      "text/plain": [
       "+-----------+---------------+----------------+-----------------+"
      ]
     },
     "metadata": {},
     "output_type": "display_data"
    }
   ],
   "source": [
    "topic_model = gl.topic_model.create(wiki_docs, num_topics=10, num_iterations=200)"
   ]
  },
  {
   "cell_type": "markdown",
   "metadata": {},
   "source": [
    "GraphLab provides a useful summary of the model we have fitted, including the hyperparameter settings for alpha, gamma (note that GraphLab Create calls this parameter beta), and K (the number of topics); the structure of the output data; and some useful methods for understanding the results."
   ]
  },
  {
   "cell_type": "code",
   "execution_count": 6,
   "metadata": {
    "collapsed": false
   },
   "outputs": [
    {
     "data": {
      "text/plain": [
       "Class                          : TopicModel\n",
       "\n",
       "Schema\n",
       "------\n",
       "Vocabulary Size                : 547462\n",
       "\n",
       "Settings\n",
       "--------\n",
       "Number of Topics               : 10\n",
       "alpha                          : 5.0\n",
       "beta                           : 0.1\n",
       "Iterations                     : 200\n",
       "Training time                  : 236.75\n",
       "Verbose                        : False\n",
       "\n",
       "Accessible fields             : \n",
       "m['topics']                   : An SFrame containing the topics.\n",
       "m['vocabulary']               : An SArray containing the words in the vocabulary.\n",
       "Useful methods                : \n",
       "m.get_topics()                : Get the most probable words per topic.\n",
       "m.predict(new_docs)           : Make predictions for new documents."
      ]
     },
     "execution_count": 6,
     "metadata": {},
     "output_type": "execute_result"
    }
   ],
   "source": [
    "topic_model"
   ]
  },
  {
   "cell_type": "markdown",
   "metadata": {},
   "source": [
    "It is certainly useful to have pre-implemented methods available for LDA, but as with our previous methods for clustering and retrieval, implementing and fitting the model gets us only halfway towards our objective. We now need to analyze the fitted model to understand what it has done with our data and whether it will be useful as a document classification system. This can be a challenging task in itself, particularly when the model that we use is complex. We will begin by outlining a sequence of objectives that will help us understand our model in detail. In particular, we will\n",
    "\n",
    "* get the top words in each topic and use these to identify topic themes\n",
    "* predict topic distributions for some example documents\n",
    "* compare the quality of LDA \"nearest neighbors\" to the NN output from the first assignment\n",
    "* understand the role of model hyperparameters alpha and gamma"
   ]
  },
  {
   "cell_type": "markdown",
   "metadata": {},
   "source": [
    "## Load a fitted topic model\n",
    "The method used to fit the LDA model is a _randomized algorithm_, which means that it involves steps that are random; in this case, the randomness comes from Gibbs sampling, as discussed in the LDA video lectures. Because of these random steps, the algorithm will be expected to yield slighty different output for different runs on the same data - note that this is different from previously seen algorithms such as k-means or EM, which will always produce the same results given the same input and initialization.\n",
    "\n",
    "It is important to understand that variation in the results is a fundamental feature of randomized methods. However, in the context of this assignment this variation makes it difficult to evaluate the correctness of your analysis, so we will load and analyze a pre-trained model. \n",
    "\n",
    "We recommend that you spend some time exploring your own fitted topic model and compare our analysis of the pre-trained model to the same analysis applied to the model you trained above."
   ]
  },
  {
   "cell_type": "code",
   "execution_count": 8,
   "metadata": {
    "collapsed": false,
    "scrolled": true
   },
   "outputs": [],
   "source": [
    "topic_model = gl.load_model('lda_assignment_topic_model')"
   ]
  },
  {
   "cell_type": "markdown",
   "metadata": {},
   "source": [
    "# Identifying topic themes by top words\n",
    "\n",
    "We'll start by trying to identify the topics learned by our model with some major themes. As a preliminary check on the results of applying this method, it is reasonable to hope that the model has been able to learn topics that correspond to recognizable categories. In order to do this, we must first recall what exactly a 'topic' is in the context of LDA. \n",
    "\n",
    "In the video lectures on LDA we learned that a topic is a probability distribution over words in the vocabulary; that is, each topic assigns a particular probability to every one of the unique words that appears in our data. Different topics will assign different probabilities to the same word: for instance, a topic that ends up describing science and technology articles might place more probability on the word 'university' than a topic that describes sports or politics. Looking at the highest probability words in each topic will thus give us a sense of its major themes. Ideally we would find that each topic is identifiable with some clear theme _and_ that all the topics are relatively distinct.\n",
    "\n",
    "We can use the GraphLab Create function get_topics() to view the top words (along with their associated probabilities) from each topic.\n",
    "\n",
    "__Quiz Question:__ Identify the top 3 most probable words for the first topic. "
   ]
  },
  {
   "cell_type": "markdown",
   "metadata": {},
   "source": [
    "__ Quiz Question:__ What is the sum of the probabilities assigned to the top 50 words in the 3rd topic?"
   ]
  },
  {
   "cell_type": "markdown",
   "metadata": {},
   "source": [
    "Let's look at the top 10 words for each topic to see if we can identify any themes:"
   ]
  },
  {
   "cell_type": "code",
   "execution_count": 11,
   "metadata": {
    "collapsed": false
   },
   "outputs": [
    {
     "name": "stdout",
     "output_type": "stream",
     "text": [
      "+-------+---------------+------------------+\n",
      "| topic |      word     |      score       |\n",
      "+-------+---------------+------------------+\n",
      "|   0   |   university  | 0.0337723780773  |\n",
      "|   0   |    research   | 0.0120334992502  |\n",
      "|   0   |   professor   | 0.0118011432268  |\n",
      "|   0   | international | 0.00881383389898 |\n",
      "|   0   |   institute   | 0.00851045584573 |\n",
      "|   1   |     played    | 0.0189511138484  |\n",
      "|   1   |     season    | 0.0180754216578  |\n",
      "|   1   |     league    |  0.017415688373  |\n",
      "|   1   |      team     | 0.0125104570691  |\n",
      "|   1   |     career    | 0.0108564659198  |\n",
      "|   2   |      film     | 0.0161482004927  |\n",
      "|   2   |     music     | 0.0114820618908  |\n",
      "|   2   |     album     | 0.00996964339687 |\n",
      "|   2   |    released   | 0.00890297536304 |\n",
      "|   2   |      band     | 0.00790751347298 |\n",
      "|   3   |   university  | 0.0194153737573  |\n",
      "|   3   |     school    | 0.0185257867872  |\n",
      "|   3   |     served    | 0.0122811809442  |\n",
      "|   3   |    college    | 0.0118686188711  |\n",
      "|   3   |     state     | 0.0109016765123  |\n",
      "|   4   |     member    |  0.011017911633  |\n",
      "|   4   |     party     | 0.0100170097928  |\n",
      "|   4   |    election   | 0.00766311020798 |\n",
      "|   4   |    minister   | 0.00753651392779 |\n",
      "|   4   |   government  | 0.0074083351941  |\n",
      "|   5   |      work     | 0.0125794636817  |\n",
      "|   5   |      art      |  0.012232269742  |\n",
      "|   5   |      book     | 0.0113399901514  |\n",
      "|   5   |   published   | 0.00921707148188 |\n",
      "|   5   |      york     | 0.00898119162971 |\n",
      "|   6   |    company    | 0.0077863641754  |\n",
      "|   6   |    business   | 0.00756178877066 |\n",
      "|   6   |     years     | 0.00709687828366 |\n",
      "|   6   |     group     | 0.00500872101154 |\n",
      "|   6   |      time     | 0.00490726808747 |\n",
      "|   7   |     world     | 0.0212653136675  |\n",
      "|   7   |      won      | 0.0191686861873  |\n",
      "|   7   |      born     | 0.00797684395947 |\n",
      "|   7   |      time     | 0.00742269169144 |\n",
      "|   7   |      year     | 0.00736676806806 |\n",
      "|   8   |      born     | 0.0142147385999  |\n",
      "|   8   |    british    | 0.0102082452893  |\n",
      "|   8   |     london    | 0.00832917529659 |\n",
      "|   8   |   australian  | 0.00821526116814 |\n",
      "|   8   |     south     | 0.00766313683385 |\n",
      "|   9   |     music     | 0.0144161088896  |\n",
      "|   9   |       de      | 0.0127172743404  |\n",
      "|   9   |      born     | 0.00923057877049 |\n",
      "|   9   | international | 0.00819054010996 |\n",
      "|   9   |       la      | 0.00607171008957 |\n",
      "+-------+---------------+------------------+\n",
      "[50 rows x 3 columns]\n",
      "\n"
     ]
    }
   ],
   "source": [
    "topic_model.get_topics().print_rows(num_rows=100)"
   ]
  },
  {
   "cell_type": "code",
   "execution_count": 28,
   "metadata": {
    "collapsed": false
   },
   "outputs": [
    {
     "data": {
      "text/plain": [
       "0.21034366078939654"
      ]
     },
     "execution_count": 28,
     "metadata": {},
     "output_type": "execute_result"
    }
   ],
   "source": [
    "tops = topic_model.get_topics(topic_ids=[2], num_words=50)\n",
    "#sum(tops[tops['topic']==3]['score'])\n",
    "sum(tops['score'])"
   ]
  },
  {
   "cell_type": "code",
   "execution_count": 9,
   "metadata": {
    "collapsed": false
   },
   "outputs": [
    {
     "data": {
      "text/plain": [
       "[['university',\n",
       "  'research',\n",
       "  'professor',\n",
       "  'international',\n",
       "  'institute',\n",
       "  'science',\n",
       "  'society',\n",
       "  'studies',\n",
       "  'director',\n",
       "  'national'],\n",
       " ['played',\n",
       "  'season',\n",
       "  'league',\n",
       "  'team',\n",
       "  'career',\n",
       "  'football',\n",
       "  'games',\n",
       "  'player',\n",
       "  'coach',\n",
       "  'game'],\n",
       " ['film',\n",
       "  'music',\n",
       "  'album',\n",
       "  'released',\n",
       "  'band',\n",
       "  'television',\n",
       "  'series',\n",
       "  'show',\n",
       "  'award',\n",
       "  'appeared'],\n",
       " ['university',\n",
       "  'school',\n",
       "  'served',\n",
       "  'college',\n",
       "  'state',\n",
       "  'american',\n",
       "  'states',\n",
       "  'united',\n",
       "  'born',\n",
       "  'law'],\n",
       " ['member',\n",
       "  'party',\n",
       "  'election',\n",
       "  'minister',\n",
       "  'government',\n",
       "  'elected',\n",
       "  'served',\n",
       "  'president',\n",
       "  'general',\n",
       "  'committee'],\n",
       " ['work',\n",
       "  'art',\n",
       "  'book',\n",
       "  'published',\n",
       "  'york',\n",
       "  'magazine',\n",
       "  'radio',\n",
       "  'books',\n",
       "  'award',\n",
       "  'arts'],\n",
       " ['company',\n",
       "  'business',\n",
       "  'years',\n",
       "  'group',\n",
       "  'time',\n",
       "  'family',\n",
       "  'people',\n",
       "  'india',\n",
       "  'million',\n",
       "  'indian'],\n",
       " ['world',\n",
       "  'won',\n",
       "  'born',\n",
       "  'time',\n",
       "  'year',\n",
       "  'team',\n",
       "  'championship',\n",
       "  'tour',\n",
       "  'championships',\n",
       "  'title'],\n",
       " ['born',\n",
       "  'british',\n",
       "  'london',\n",
       "  'australian',\n",
       "  'south',\n",
       "  'joined',\n",
       "  'years',\n",
       "  'made',\n",
       "  'england',\n",
       "  'australia'],\n",
       " ['music',\n",
       "  'de',\n",
       "  'born',\n",
       "  'international',\n",
       "  'la',\n",
       "  'orchestra',\n",
       "  'opera',\n",
       "  'studied',\n",
       "  'french',\n",
       "  'festival']]"
      ]
     },
     "execution_count": 9,
     "metadata": {},
     "output_type": "execute_result"
    }
   ],
   "source": [
    "[x['words'] for x in topic_model.get_topics(output_type='topic_words', num_words=10)]"
   ]
  },
  {
   "cell_type": "markdown",
   "metadata": {},
   "source": [
    "We propose the following themes for each topic:\n",
    "\n",
    "- topic 0: Science and research\n",
    "- topic 1: Team sports\n",
    "- topic 2: Music, TV, and film\n",
    "- topic 3: American college and politics\n",
    "- topic 4: General politics\n",
    "- topic 5: Art and publishing\n",
    "- topic 6: Business\n",
    "- topic 7: International athletics\n",
    "- topic 8: Great Britain and Australia\n",
    "- topic 9: International music\n",
    "\n",
    "We'll save these themes for later:"
   ]
  },
  {
   "cell_type": "code",
   "execution_count": 26,
   "metadata": {
    "collapsed": true
   },
   "outputs": [],
   "source": [
    "themes = ['science and research','team sports','music, TV, and film','American college and politics','general politics', \\\n",
    "         'art and publishing','Business','international athletics','Great Britain and Australia','international music']"
   ]
  },
  {
   "cell_type": "markdown",
   "metadata": {},
   "source": [
    "### Measuring the importance of top words\n",
    "\n",
    "We can learn more about topics by exploring how they place probability mass (which we can think of as a weight) on each of their top words.\n",
    "\n",
    "We'll do this with two visualizations of the weights for the top words in each topic:\n",
    " - the weights of the top 100 words, sorted by the size\n",
    " - the total weight of the top 10 words\n"
   ]
  },
  {
   "cell_type": "markdown",
   "metadata": {},
   "source": [
    "Here's a plot for the top 100 words by weight in each topic:"
   ]
  },
  {
   "cell_type": "code",
   "execution_count": 29,
   "metadata": {
    "collapsed": false
   },
   "outputs": [
    {
     "data": {
      "text/plain": [
       "<matplotlib.text.Text at 0x7efcb406a490>"
      ]
     },
     "execution_count": 29,
     "metadata": {},
     "output_type": "execute_result"
    },
    {
     "data": {
      "image/png": "[encoded data removed]",
      "text/plain": [
       "<matplotlib.figure.Figure at 0x7efcc012d890>"
      ]
     },
     "metadata": {},
     "output_type": "display_data"
    }
   ],
   "source": [
    "for i in range(10):\n",
    "    plt.plot(range(100), topic_model.get_topics(topic_ids=[i], num_words=100)['score'])\n",
    "plt.xlabel('Word rank')\n",
    "plt.ylabel('Probability')\n",
    "plt.title('Probabilities of Top 100 Words in each Topic')"
   ]
  },
  {
   "cell_type": "markdown",
   "metadata": {},
   "source": [
    "In the above plot, each line corresponds to one of our ten topics. Notice how for each topic, the weights drop off sharply as we move down the ranked list of most important words. This shows that the top 10-20 words in each topic are assigned a much greater weight than the remaining words - and remember from the summary of our topic model that our vocabulary has 547462 words in total!\n",
    "\n",
    "\n",
    "Next we plot the total weight assigned by each topic to its top 10 words: "
   ]
  },
  {
   "cell_type": "code",
   "execution_count": 30,
   "metadata": {
    "collapsed": false
   },
   "outputs": [
    {
     "data": {
      "image/png": "[encoded data removed]",
      "text/plain": [
       "<matplotlib.figure.Figure at 0x7efcc00a1290>"
      ]
     },
     "metadata": {},
     "output_type": "display_data"
    }
   ],
   "source": [
    "top_probs = [sum(topic_model.get_topics(topic_ids=[i], num_words=10)['score']) for i in range(10)]\n",
    "\n",
    "ind = np.arange(10)\n",
    "width = 0.5\n",
    "\n",
    "fig, ax = plt.subplots()\n",
    "\n",
    "ax.bar(ind-(width/2),top_probs,width)\n",
    "ax.set_xticks(ind)\n",
    "\n",
    "plt.xlabel('Topic')\n",
    "plt.ylabel('Probability')\n",
    "plt.title('Total Probability of Top 10 Words in each Topic')\n",
    "plt.xlim(-0.5,9.5)\n",
    "plt.ylim(0,0.15)\n",
    "plt.show()"
   ]
  },
  {
   "cell_type": "markdown",
   "metadata": {},
   "source": [
    "Here we see that, for our topic model, the top 10 words only account for a small fraction (in this case, between 5% and 13%) of their topic's total probability mass. So while we can use the top words to identify broad themes for each topic, we should keep in mind that in reality these topics are more complex than a simple 10-word summary.\n",
    "\n",
    "Finally, we observe that some 'junk' words appear highly rated in some topics despite our efforts to remove unhelpful words before fitting the model; for example, the word 'born' appears as a top 10 word in three different topics, but it doesn't help us describe these topics at all."
   ]
  },
  {
   "cell_type": "markdown",
   "metadata": {},
   "source": [
    "# Topic distributions for some example documents\n",
    "\n",
    "As we noted in the introduction to this assignment, LDA allows for mixed membership, which means that each document can partially belong to several different topics. For each document, topic membership is expressed as a vector of weights that sum to one; the magnitude of each weight indicates the degree to which the document represents that particular topic.\n",
    "\n",
    "We'll explore this in our fitted model by looking at the topic distributions for a few example Wikipedia articles from our data set. We should find that these articles have the highest weights on the topics whose themes are most relevant to the subject of the article - for example, we'd expect an article on a politician to place relatively high weight on topics related to government, while an article about an athlete should place higher weight on topics related to sports or competition."
   ]
  },
  {
   "cell_type": "markdown",
   "metadata": {},
   "source": [
    "Topic distributions for documents can be obtained using GraphLab Create's predict() function. GraphLab Create uses a collapsed Gibbs sampler similar to the one described in the video lectures, where only the word assignments variables are sampled.  To get a document-specific topic proportion vector post-facto, predict() draws this vector from the conditional distribution given the sampled word assignments in the document.  Notice that, since these are draws from a _distribution_ over topics that the model has learned, we will get slightly different predictions each time we call this function on a document - we can see this below, where we predict the topic distribution for the article on Barack Obama:"
   ]
  },
  {
   "cell_type": "code",
   "execution_count": 31,
   "metadata": {
    "collapsed": false
   },
   "outputs": [
    {
     "name": "stdout",
     "output_type": "stream",
     "text": [
      "+--------------------------+---------------------------+\n",
      "| predictions (first draw) | predictions (second draw) |\n",
      "+--------------------------+---------------------------+\n",
      "|     0.0215053763441      |      0.0403225806452      |\n",
      "|     0.0483870967742      |      0.0537634408602      |\n",
      "|     0.0241935483871      |      0.0241935483871      |\n",
      "|      0.155913978495      |      0.0994623655914      |\n",
      "|      0.545698924731      |       0.594086021505      |\n",
      "|     0.0215053763441      |      0.0161290322581      |\n",
      "|     0.0645161290323      |      0.0887096774194      |\n",
      "|     0.0618279569892      |      0.0403225806452      |\n",
      "|     0.0322580645161      |      0.0215053763441      |\n",
      "|     0.0241935483871      |      0.0215053763441      |\n",
      "+--------------------------+---------------------------+\n",
      "+-------------------------------+\n",
      "|             topics            |\n",
      "+-------------------------------+\n",
      "|      science and research     |\n",
      "|          team sports          |\n",
      "|      music, TV, and film      |\n",
      "| American college and politics |\n",
      "|        general politics       |\n",
      "|       art and publishing      |\n",
      "|            Business           |\n",
      "|    international athletics    |\n",
      "|  Great Britain and Australia  |\n",
      "|      international music      |\n",
      "+-------------------------------+\n",
      "[10 rows x 3 columns]\n",
      "\n"
     ]
    }
   ],
   "source": [
    "obama = gl.SArray([wiki_docs[int(np.where(wiki['name']=='Barack Obama')[0])]])\n",
    "pred1 = topic_model.predict(obama, output_type='probability')\n",
    "pred2 = topic_model.predict(obama, output_type='probability')\n",
    "print(gl.SFrame({'topics':themes, 'predictions (first draw)':pred1[0], 'predictions (second draw)':pred2[0]}))"
   ]
  },
  {
   "cell_type": "markdown",
   "metadata": {},
   "source": [
    "To get a more robust estimate of the topics for each document, we can average a large number of predictions for the same document:"
   ]
  },
  {
   "cell_type": "code",
   "execution_count": 32,
   "metadata": {
    "collapsed": false
   },
   "outputs": [],
   "source": [
    "def average_predictions(model, test_document, num_trials=100):\n",
    "    avg_preds = np.zeros((model.num_topics))\n",
    "    for i in range(num_trials):\n",
    "        avg_preds += model.predict(test_document, output_type='probability')[0]\n",
    "    avg_preds = avg_preds/num_trials\n",
    "    result = gl.SFrame({'topics':themes, 'average predictions':avg_preds})\n",
    "    result = result.sort('average predictions', ascending=False)\n",
    "    return result"
   ]
  },
  {
   "cell_type": "code",
   "execution_count": 33,
   "metadata": {
    "collapsed": false
   },
   "outputs": [
    {
     "name": "stdout",
     "output_type": "stream",
     "text": [
      "+---------------------+-------------------------------+\n",
      "| average predictions |             topics            |\n",
      "+---------------------+-------------------------------+\n",
      "|    0.592338709677   |        general politics       |\n",
      "|    0.137607526882   | American college and politics |\n",
      "|   0.0516666666667   |            Business           |\n",
      "|    0.049623655914   |          team sports          |\n",
      "|   0.0414784946237   |      science and research     |\n",
      "|   0.0348655913978   |    international athletics    |\n",
      "|   0.0252956989247   |  Great Britain and Australia  |\n",
      "|   0.0238172043011   |      international music      |\n",
      "|   0.0226612903226   |       art and publishing      |\n",
      "|   0.0206451612903   |      music, TV, and film      |\n",
      "+---------------------+-------------------------------+\n",
      "[10 rows x 2 columns]\n",
      "\n"
     ]
    }
   ],
   "source": [
    "print average_predictions(topic_model, obama, 100)"
   ]
  },
  {
   "cell_type": "code",
   "execution_count": 34,
   "metadata": {
    "collapsed": false
   },
   "outputs": [
    {
     "name": "stdout",
     "output_type": "stream",
     "text": [
      "+---------------------+-------------------------------+\n",
      "| average predictions |             topics            |\n",
      "+---------------------+-------------------------------+\n",
      "|    0.427280701754   |        general politics       |\n",
      "|    0.191257309942   | American college and politics |\n",
      "|    0.101608187135   |            Business           |\n",
      "|   0.0595029239766   |      science and research     |\n",
      "|   0.0479532163743   |       art and publishing      |\n",
      "|   0.0457602339181   |          team sports          |\n",
      "|   0.0387134502924   |  Great Britain and Australia  |\n",
      "|   0.0367251461988   |    international athletics    |\n",
      "|   0.0297368421053   |      music, TV, and film      |\n",
      "|   0.0214619883041   |      international music      |\n",
      "+---------------------+-------------------------------+\n",
      "[10 rows x 2 columns]\n",
      "\n"
     ]
    }
   ],
   "source": [
    "gwb = gl.SArray([wiki_docs[int(np.where(wiki['name']=='George W. Bush')[0])]])\n",
    "print average_predictions(topic_model, gwb, 100)"
   ]
  },
  {
   "cell_type": "code",
   "execution_count": 35,
   "metadata": {
    "collapsed": false
   },
   "outputs": [
    {
     "name": "stdout",
     "output_type": "stream",
     "text": [
      "+---------------------+-------------------------------+\n",
      "| average predictions |             topics            |\n",
      "+---------------------+-------------------------------+\n",
      "|       0.48644       |          team sports          |\n",
      "|        0.1742       |  Great Britain and Australia  |\n",
      "|       0.13132       |    international athletics    |\n",
      "|       0.03704       |      international music      |\n",
      "|       0.03188       |        general politics       |\n",
      "|       0.03188       |      music, TV, and film      |\n",
      "|       0.02892       |            Business           |\n",
      "|       0.02732       |       art and publishing      |\n",
      "|       0.02612       | American college and politics |\n",
      "|       0.02488       |      science and research     |\n",
      "+---------------------+-------------------------------+\n",
      "[10 rows x 2 columns]\n",
      "\n"
     ]
    }
   ],
   "source": [
    "steveg = gl.SArray([wiki_docs[int(np.where(wiki['name']=='Steven Gerrard')[0])]])\n",
    "print average_predictions(topic_model, steveg, 100)"
   ]
  },
  {
   "cell_type": "markdown",
   "metadata": {},
   "source": [
    "__Quiz Question:__ What is the topic most closely associated with the article about former US President George W. Bush? Use the average results from 100 topic predictions."
   ]
  },
  {
   "cell_type": "markdown",
   "metadata": {},
   "source": [
    "__Quiz Question:__ What are the top 3 topics corresponding to the article about English football (soccer) player Steven Gerrard? Use the average results from 100 topic predictions."
   ]
  },
  {
   "cell_type": "markdown",
   "metadata": {},
   "source": [
    "# Comparing LDA to nearest neighbors for document retrieval\n",
    "\n",
    "So far we have found that our topic model has learned some coherent topics, we have explored these topics as probability distributions over a vocabulary, and we have seen how individual documents in our Wikipedia data set are assigned to these topics in a way that corresponds with our expectations. \n",
    "\n",
    "In this section, we will use the predicted topic distribution as a representation of each document, similar to how we have previously represented documents by word count or TF-IDF. This gives us a way of computing distances between documents, so that we can run a nearest neighbors search for a given document based on its membership in the topics that we learned from LDA. We can contrast the results with those obtained by running nearest neighbors under the usual TF-IDF representation, an approach that we explored in a previous assignment. \n",
    "\n",
    "We'll start by creating the LDA topic distribution representation for each document:"
   ]
  },
  {
   "cell_type": "code",
   "execution_count": 36,
   "metadata": {
    "collapsed": false
   },
   "outputs": [],
   "source": [
    "wiki['lda'] = topic_model.predict(wiki_docs, output_type='probability')"
   ]
  },
  {
   "cell_type": "markdown",
   "metadata": {},
   "source": [
    "Next we add the TF-IDF document representations:"
   ]
  },
  {
   "cell_type": "code",
   "execution_count": 37,
   "metadata": {
    "collapsed": false
   },
   "outputs": [],
   "source": [
    "wiki['word_count'] = gl.text_analytics.count_words(wiki['text'])\n",
    "wiki['tf_idf'] = gl.text_analytics.tf_idf(wiki['word_count'])"
   ]
  },
  {
   "cell_type": "markdown",
   "metadata": {},
   "source": [
    "For each of our two different document representations, we can use GraphLab Create to compute a brute-force nearest neighbors model:"
   ]
  },
  {
   "cell_type": "code",
   "execution_count": 38,
   "metadata": {
    "collapsed": false
   },
   "outputs": [
    {
     "data": {
      "text/html": [
       "<pre>Starting brute force nearest neighbors model training.</pre>"
      ],
      "text/plain": [
       "Starting brute force nearest neighbors model training."
      ]
     },
     "metadata": {},
     "output_type": "display_data"
    },
    {
     "data": {
      "text/html": [
       "<pre>Starting brute force nearest neighbors model training.</pre>"
      ],
      "text/plain": [
       "Starting brute force nearest neighbors model training."
      ]
     },
     "metadata": {},
     "output_type": "display_data"
    }
   ],
   "source": [
    "model_tf_idf = gl.nearest_neighbors.create(wiki, label='name', features=['tf_idf'],\n",
    "                                           method='brute_force', distance='cosine')\n",
    "model_lda_rep = gl.nearest_neighbors.create(wiki, label='name', features=['lda'],\n",
    "                                            method='brute_force', distance='cosine')"
   ]
  },
  {
   "cell_type": "markdown",
   "metadata": {},
   "source": [
    "Let's compare these nearest neighbor models by finding the nearest neighbors under each representation on an example document. For this example we'll use Paul Krugman, an American economist:"
   ]
  },
  {
   "cell_type": "code",
   "execution_count": 39,
   "metadata": {
    "collapsed": false
   },
   "outputs": [
    {
     "data": {
      "text/html": [
       "<pre>Starting pairwise querying.</pre>"
      ],
      "text/plain": [
       "Starting pairwise querying."
      ]
     },
     "metadata": {},
     "output_type": "display_data"
    },
    {
     "data": {
      "text/html": [
       "<pre>+--------------+---------+-------------+--------------+</pre>"
      ],
      "text/plain": [
       "+--------------+---------+-------------+--------------+"
      ]
     },
     "metadata": {},
     "output_type": "display_data"
    },
    {
     "data": {
      "text/html": [
       "<pre>| Query points | # Pairs | % Complete. | Elapsed Time |</pre>"
      ],
      "text/plain": [
       "| Query points | # Pairs | % Complete. | Elapsed Time |"
      ]
     },
     "metadata": {},
     "output_type": "display_data"
    },
    {
     "data": {
      "text/html": [
       "<pre>+--------------+---------+-------------+--------------+</pre>"
      ],
      "text/plain": [
       "+--------------+---------+-------------+--------------+"
      ]
     },
     "metadata": {},
     "output_type": "display_data"
    },
    {
     "data": {
      "text/html": [
       "<pre>| 0            | 1       | 0.00169288  | 79.486ms     |</pre>"
      ],
      "text/plain": [
       "| 0            | 1       | 0.00169288  | 79.486ms     |"
      ]
     },
     "metadata": {},
     "output_type": "display_data"
    },
    {
     "data": {
      "text/html": [
       "<pre>| 0            | 57077   | 96.6244     | 1.08s        |</pre>"
      ],
      "text/plain": [
       "| 0            | 57077   | 96.6244     | 1.08s        |"
      ]
     },
     "metadata": {},
     "output_type": "display_data"
    },
    {
     "data": {
      "text/html": [
       "<pre>| Done         |         | 100         | 1.14s        |</pre>"
      ],
      "text/plain": [
       "| Done         |         | 100         | 1.14s        |"
      ]
     },
     "metadata": {},
     "output_type": "display_data"
    },
    {
     "data": {
      "text/html": [
       "<pre>+--------------+---------+-------------+--------------+</pre>"
      ],
      "text/plain": [
       "+--------------+---------+-------------+--------------+"
      ]
     },
     "metadata": {},
     "output_type": "display_data"
    },
    {
     "data": {
      "text/html": [
       "<div style=\"max-height:1000px;max-width:1500px;overflow:auto;\"><table frame=\"box\" rules=\"cols\">\n",
       "    <tr>\n",
       "        <th style=\"padding-left: 1em; padding-right: 1em; text-align: center\">query_label</th>\n",
       "        <th style=\"padding-left: 1em; padding-right: 1em; text-align: center\">reference_label</th>\n",
       "        <th style=\"padding-left: 1em; padding-right: 1em; text-align: center\">distance</th>\n",
       "        <th style=\"padding-left: 1em; padding-right: 1em; text-align: center\">rank</th>\n",
       "    </tr>\n",
       "    <tr>\n",
       "        <td style=\"padding-left: 1em; padding-right: 1em; text-align: center; vertical-align: top\">Paul Krugman</td>\n",
       "        <td style=\"padding-left: 1em; padding-right: 1em; text-align: center; vertical-align: top\">Paul Krugman</td>\n",
       "        <td style=\"padding-left: 1em; padding-right: 1em; text-align: center; vertical-align: top\">0.0</td>\n",
       "        <td style=\"padding-left: 1em; padding-right: 1em; text-align: center; vertical-align: top\">1</td>\n",
       "    </tr>\n",
       "    <tr>\n",
       "        <td style=\"padding-left: 1em; padding-right: 1em; text-align: center; vertical-align: top\">Paul Krugman</td>\n",
       "        <td style=\"padding-left: 1em; padding-right: 1em; text-align: center; vertical-align: top\">Elise Brezis</td>\n",
       "        <td style=\"padding-left: 1em; padding-right: 1em; text-align: center; vertical-align: top\">0.744498017262</td>\n",
       "        <td style=\"padding-left: 1em; padding-right: 1em; text-align: center; vertical-align: top\">2</td>\n",
       "    </tr>\n",
       "    <tr>\n",
       "        <td style=\"padding-left: 1em; padding-right: 1em; text-align: center; vertical-align: top\">Paul Krugman</td>\n",
       "        <td style=\"padding-left: 1em; padding-right: 1em; text-align: center; vertical-align: top\">Maitreesh Ghatak</td>\n",
       "        <td style=\"padding-left: 1em; padding-right: 1em; text-align: center; vertical-align: top\">0.81564984831</td>\n",
       "        <td style=\"padding-left: 1em; padding-right: 1em; text-align: center; vertical-align: top\">3</td>\n",
       "    </tr>\n",
       "    <tr>\n",
       "        <td style=\"padding-left: 1em; padding-right: 1em; text-align: center; vertical-align: top\">Paul Krugman</td>\n",
       "        <td style=\"padding-left: 1em; padding-right: 1em; text-align: center; vertical-align: top\">Kai A. Konrad</td>\n",
       "        <td style=\"padding-left: 1em; padding-right: 1em; text-align: center; vertical-align: top\">0.823700564406</td>\n",
       "        <td style=\"padding-left: 1em; padding-right: 1em; text-align: center; vertical-align: top\">4</td>\n",
       "    </tr>\n",
       "    <tr>\n",
       "        <td style=\"padding-left: 1em; padding-right: 1em; text-align: center; vertical-align: top\">Paul Krugman</td>\n",
       "        <td style=\"padding-left: 1em; padding-right: 1em; text-align: center; vertical-align: top\">David Colander</td>\n",
       "        <td style=\"padding-left: 1em; padding-right: 1em; text-align: center; vertical-align: top\">0.834625927759</td>\n",
       "        <td style=\"padding-left: 1em; padding-right: 1em; text-align: center; vertical-align: top\">5</td>\n",
       "    </tr>\n",
       "    <tr>\n",
       "        <td style=\"padding-left: 1em; padding-right: 1em; text-align: center; vertical-align: top\">Paul Krugman</td>\n",
       "        <td style=\"padding-left: 1em; padding-right: 1em; text-align: center; vertical-align: top\">Richard Blundell</td>\n",
       "        <td style=\"padding-left: 1em; padding-right: 1em; text-align: center; vertical-align: top\">0.837934267874</td>\n",
       "        <td style=\"padding-left: 1em; padding-right: 1em; text-align: center; vertical-align: top\">6</td>\n",
       "    </tr>\n",
       "    <tr>\n",
       "        <td style=\"padding-left: 1em; padding-right: 1em; text-align: center; vertical-align: top\">Paul Krugman</td>\n",
       "        <td style=\"padding-left: 1em; padding-right: 1em; text-align: center; vertical-align: top\">Gordon Rausser</td>\n",
       "        <td style=\"padding-left: 1em; padding-right: 1em; text-align: center; vertical-align: top\">0.83941534706</td>\n",
       "        <td style=\"padding-left: 1em; padding-right: 1em; text-align: center; vertical-align: top\">7</td>\n",
       "    </tr>\n",
       "    <tr>\n",
       "        <td style=\"padding-left: 1em; padding-right: 1em; text-align: center; vertical-align: top\">Paul Krugman</td>\n",
       "        <td style=\"padding-left: 1em; padding-right: 1em; text-align: center; vertical-align: top\">Edward J. Nell</td>\n",
       "        <td style=\"padding-left: 1em; padding-right: 1em; text-align: center; vertical-align: top\">0.842178500015</td>\n",
       "        <td style=\"padding-left: 1em; padding-right: 1em; text-align: center; vertical-align: top\">8</td>\n",
       "    </tr>\n",
       "    <tr>\n",
       "        <td style=\"padding-left: 1em; padding-right: 1em; text-align: center; vertical-align: top\">Paul Krugman</td>\n",
       "        <td style=\"padding-left: 1em; padding-right: 1em; text-align: center; vertical-align: top\">Robin Boadway</td>\n",
       "        <td style=\"padding-left: 1em; padding-right: 1em; text-align: center; vertical-align: top\">0.842374260596</td>\n",
       "        <td style=\"padding-left: 1em; padding-right: 1em; text-align: center; vertical-align: top\">9</td>\n",
       "    </tr>\n",
       "    <tr>\n",
       "        <td style=\"padding-left: 1em; padding-right: 1em; text-align: center; vertical-align: top\">Paul Krugman</td>\n",
       "        <td style=\"padding-left: 1em; padding-right: 1em; text-align: center; vertical-align: top\">Tim Besley</td>\n",
       "        <td style=\"padding-left: 1em; padding-right: 1em; text-align: center; vertical-align: top\">0.843088109253</td>\n",
       "        <td style=\"padding-left: 1em; padding-right: 1em; text-align: center; vertical-align: top\">10</td>\n",
       "    </tr>\n",
       "</table>\n",
       "[10 rows x 4 columns]<br/>\n",
       "</div>"
      ],
      "text/plain": [
       "Columns:\n",
       "\tquery_label\tstr\n",
       "\treference_label\tstr\n",
       "\tdistance\tfloat\n",
       "\trank\tint\n",
       "\n",
       "Rows: 10\n",
       "\n",
       "Data:\n",
       "+--------------+------------------+----------------+------+\n",
       "| query_label  | reference_label  |    distance    | rank |\n",
       "+--------------+------------------+----------------+------+\n",
       "| Paul Krugman |   Paul Krugman   |      0.0       |  1   |\n",
       "| Paul Krugman |   Elise Brezis   | 0.744498017262 |  2   |\n",
       "| Paul Krugman | Maitreesh Ghatak | 0.81564984831  |  3   |\n",
       "| Paul Krugman |  Kai A. Konrad   | 0.823700564406 |  4   |\n",
       "| Paul Krugman |  David Colander  | 0.834625927759 |  5   |\n",
       "| Paul Krugman | Richard Blundell | 0.837934267874 |  6   |\n",
       "| Paul Krugman |  Gordon Rausser  | 0.83941534706  |  7   |\n",
       "| Paul Krugman |  Edward J. Nell  | 0.842178500015 |  8   |\n",
       "| Paul Krugman |  Robin Boadway   | 0.842374260596 |  9   |\n",
       "| Paul Krugman |    Tim Besley    | 0.843088109253 |  10  |\n",
       "+--------------+------------------+----------------+------+\n",
       "[10 rows x 4 columns]"
      ]
     },
     "execution_count": 39,
     "metadata": {},
     "output_type": "execute_result"
    }
   ],
   "source": [
    "model_tf_idf.query(wiki[wiki['name'] == 'Paul Krugman'], label='name', k=10)"
   ]
  },
  {
   "cell_type": "code",
   "execution_count": 40,
   "metadata": {
    "collapsed": false
   },
   "outputs": [
    {
     "data": {
      "text/html": [
       "<pre>Starting pairwise querying.</pre>"
      ],
      "text/plain": [
       "Starting pairwise querying."
      ]
     },
     "metadata": {},
     "output_type": "display_data"
    },
    {
     "data": {
      "text/html": [
       "<pre>+--------------+---------+-------------+--------------+</pre>"
      ],
      "text/plain": [
       "+--------------+---------+-------------+--------------+"
      ]
     },
     "metadata": {},
     "output_type": "display_data"
    },
    {
     "data": {
      "text/html": [
       "<pre>| Query points | # Pairs | % Complete. | Elapsed Time |</pre>"
      ],
      "text/plain": [
       "| Query points | # Pairs | % Complete. | Elapsed Time |"
      ]
     },
     "metadata": {},
     "output_type": "display_data"
    },
    {
     "data": {
      "text/html": [
       "<pre>+--------------+---------+-------------+--------------+</pre>"
      ],
      "text/plain": [
       "+--------------+---------+-------------+--------------+"
      ]
     },
     "metadata": {},
     "output_type": "display_data"
    },
    {
     "data": {
      "text/html": [
       "<pre>| 0            | 1       | 0.00169288  | 5.262ms      |</pre>"
      ],
      "text/plain": [
       "| 0            | 1       | 0.00169288  | 5.262ms      |"
      ]
     },
     "metadata": {},
     "output_type": "display_data"
    },
    {
     "data": {
      "text/html": [
       "<pre>| Done         |         | 100         | 40.86ms      |</pre>"
      ],
      "text/plain": [
       "| Done         |         | 100         | 40.86ms      |"
      ]
     },
     "metadata": {},
     "output_type": "display_data"
    },
    {
     "data": {
      "text/html": [
       "<pre>+--------------+---------+-------------+--------------+</pre>"
      ],
      "text/plain": [
       "+--------------+---------+-------------+--------------+"
      ]
     },
     "metadata": {},
     "output_type": "display_data"
    },
    {
     "data": {
      "text/html": [
       "<div style=\"max-height:1000px;max-width:1500px;overflow:auto;\"><table frame=\"box\" rules=\"cols\">\n",
       "    <tr>\n",
       "        <th style=\"padding-left: 1em; padding-right: 1em; text-align: center\">query_label</th>\n",
       "        <th style=\"padding-left: 1em; padding-right: 1em; text-align: center\">reference_label</th>\n",
       "        <th style=\"padding-left: 1em; padding-right: 1em; text-align: center\">distance</th>\n",
       "        <th style=\"padding-left: 1em; padding-right: 1em; text-align: center\">rank</th>\n",
       "    </tr>\n",
       "    <tr>\n",
       "        <td style=\"padding-left: 1em; padding-right: 1em; text-align: center; vertical-align: top\">Paul Krugman</td>\n",
       "        <td style=\"padding-left: 1em; padding-right: 1em; text-align: center; vertical-align: top\">Paul Krugman</td>\n",
       "        <td style=\"padding-left: 1em; padding-right: 1em; text-align: center; vertical-align: top\">-2.22044604925e-16</td>\n",
       "        <td style=\"padding-left: 1em; padding-right: 1em; text-align: center; vertical-align: top\">1</td>\n",
       "    </tr>\n",
       "    <tr>\n",
       "        <td style=\"padding-left: 1em; padding-right: 1em; text-align: center; vertical-align: top\">Paul Krugman</td>\n",
       "        <td style=\"padding-left: 1em; padding-right: 1em; text-align: center; vertical-align: top\">Michael Slote</td>\n",
       "        <td style=\"padding-left: 1em; padding-right: 1em; text-align: center; vertical-align: top\">0.00531366294013</td>\n",
       "        <td style=\"padding-left: 1em; padding-right: 1em; text-align: center; vertical-align: top\">2</td>\n",
       "    </tr>\n",
       "    <tr>\n",
       "        <td style=\"padding-left: 1em; padding-right: 1em; text-align: center; vertical-align: top\">Paul Krugman</td>\n",
       "        <td style=\"padding-left: 1em; padding-right: 1em; text-align: center; vertical-align: top\">Nasser Golzari</td>\n",
       "        <td style=\"padding-left: 1em; padding-right: 1em; text-align: center; vertical-align: top\">0.0054203405274</td>\n",
       "        <td style=\"padding-left: 1em; padding-right: 1em; text-align: center; vertical-align: top\">3</td>\n",
       "    </tr>\n",
       "    <tr>\n",
       "        <td style=\"padding-left: 1em; padding-right: 1em; text-align: center; vertical-align: top\">Paul Krugman</td>\n",
       "        <td style=\"padding-left: 1em; padding-right: 1em; text-align: center; vertical-align: top\">Ian Bremmer</td>\n",
       "        <td style=\"padding-left: 1em; padding-right: 1em; text-align: center; vertical-align: top\">0.00632908703543</td>\n",
       "        <td style=\"padding-left: 1em; padding-right: 1em; text-align: center; vertical-align: top\">4</td>\n",
       "    </tr>\n",
       "    <tr>\n",
       "        <td style=\"padding-left: 1em; padding-right: 1em; text-align: center; vertical-align: top\">Paul Krugman</td>\n",
       "        <td style=\"padding-left: 1em; padding-right: 1em; text-align: center; vertical-align: top\">Wael Hallaq</td>\n",
       "        <td style=\"padding-left: 1em; padding-right: 1em; text-align: center; vertical-align: top\">0.00660796632094</td>\n",
       "        <td style=\"padding-left: 1em; padding-right: 1em; text-align: center; vertical-align: top\">5</td>\n",
       "    </tr>\n",
       "    <tr>\n",
       "        <td style=\"padding-left: 1em; padding-right: 1em; text-align: center; vertical-align: top\">Paul Krugman</td>\n",
       "        <td style=\"padding-left: 1em; padding-right: 1em; text-align: center; vertical-align: top\">Ronald Giere</td>\n",
       "        <td style=\"padding-left: 1em; padding-right: 1em; text-align: center; vertical-align: top\">0.00663044305133</td>\n",
       "        <td style=\"padding-left: 1em; padding-right: 1em; text-align: center; vertical-align: top\">6</td>\n",
       "    </tr>\n",
       "    <tr>\n",
       "        <td style=\"padding-left: 1em; padding-right: 1em; text-align: center; vertical-align: top\">Paul Krugman</td>\n",
       "        <td style=\"padding-left: 1em; padding-right: 1em; text-align: center; vertical-align: top\">Nazenin Ansari</td>\n",
       "        <td style=\"padding-left: 1em; padding-right: 1em; text-align: center; vertical-align: top\">0.00759598231374</td>\n",
       "        <td style=\"padding-left: 1em; padding-right: 1em; text-align: center; vertical-align: top\">7</td>\n",
       "    </tr>\n",
       "    <tr>\n",
       "        <td style=\"padding-left: 1em; padding-right: 1em; text-align: center; vertical-align: top\">Paul Krugman</td>\n",
       "        <td style=\"padding-left: 1em; padding-right: 1em; text-align: center; vertical-align: top\">Devra Davis</td>\n",
       "        <td style=\"padding-left: 1em; padding-right: 1em; text-align: center; vertical-align: top\">0.00776739379057</td>\n",
       "        <td style=\"padding-left: 1em; padding-right: 1em; text-align: center; vertical-align: top\">8</td>\n",
       "    </tr>\n",
       "    <tr>\n",
       "        <td style=\"padding-left: 1em; padding-right: 1em; text-align: center; vertical-align: top\">Paul Krugman</td>\n",
       "        <td style=\"padding-left: 1em; padding-right: 1em; text-align: center; vertical-align: top\">Claire Duncanson</td>\n",
       "        <td style=\"padding-left: 1em; padding-right: 1em; text-align: center; vertical-align: top\">0.0087227441398</td>\n",
       "        <td style=\"padding-left: 1em; padding-right: 1em; text-align: center; vertical-align: top\">9</td>\n",
       "    </tr>\n",
       "    <tr>\n",
       "        <td style=\"padding-left: 1em; padding-right: 1em; text-align: center; vertical-align: top\">Paul Krugman</td>\n",
       "        <td style=\"padding-left: 1em; padding-right: 1em; text-align: center; vertical-align: top\">Lynda Williams</td>\n",
       "        <td style=\"padding-left: 1em; padding-right: 1em; text-align: center; vertical-align: top\">0.00913979855249</td>\n",
       "        <td style=\"padding-left: 1em; padding-right: 1em; text-align: center; vertical-align: top\">10</td>\n",
       "    </tr>\n",
       "</table>\n",
       "[10 rows x 4 columns]<br/>\n",
       "</div>"
      ],
      "text/plain": [
       "Columns:\n",
       "\tquery_label\tstr\n",
       "\treference_label\tstr\n",
       "\tdistance\tfloat\n",
       "\trank\tint\n",
       "\n",
       "Rows: 10\n",
       "\n",
       "Data:\n",
       "+--------------+------------------+--------------------+------+\n",
       "| query_label  | reference_label  |      distance      | rank |\n",
       "+--------------+------------------+--------------------+------+\n",
       "| Paul Krugman |   Paul Krugman   | -2.22044604925e-16 |  1   |\n",
       "| Paul Krugman |  Michael Slote   |  0.00531366294013  |  2   |\n",
       "| Paul Krugman |  Nasser Golzari  |  0.0054203405274   |  3   |\n",
       "| Paul Krugman |   Ian Bremmer    |  0.00632908703543  |  4   |\n",
       "| Paul Krugman |   Wael Hallaq    |  0.00660796632094  |  5   |\n",
       "| Paul Krugman |   Ronald Giere   |  0.00663044305133  |  6   |\n",
       "| Paul Krugman |  Nazenin Ansari  |  0.00759598231374  |  7   |\n",
       "| Paul Krugman |   Devra Davis    |  0.00776739379057  |  8   |\n",
       "| Paul Krugman | Claire Duncanson |  0.0087227441398   |  9   |\n",
       "| Paul Krugman |  Lynda Williams  |  0.00913979855249  |  10  |\n",
       "+--------------+------------------+--------------------+------+\n",
       "[10 rows x 4 columns]"
      ]
     },
     "execution_count": 40,
     "metadata": {},
     "output_type": "execute_result"
    }
   ],
   "source": [
    "model_lda_rep.query(wiki[wiki['name'] == 'Paul Krugman'], label='name', k=10)"
   ]
  },
  {
   "cell_type": "markdown",
   "metadata": {},
   "source": [
    "Notice that that there is no overlap between the two sets of top 10 nearest neighbors. This doesn't necessarily mean that one representation is better or worse than the other, but rather that they are picking out different features of the documents. \n",
    "\n",
    "With TF-IDF, documents are distinguished by the frequency of uncommon words. Since similarity is defined based on the specific words used in the document, documents that are \"close\" under TF-IDF tend to be similar in terms of specific details. This is what we see in the example: the top 10 nearest neighbors are all economists from the US, UK, or Canada. \n",
    "\n",
    "Our LDA representation, on the other hand, defines similarity between documents in terms of their topic distributions. This means that documents can be \"close\" if they share similar themes, even though they may not share many of the same keywords. For the article on Paul Krugman, we expect the most important topics to be 'American college and politics' and 'science and research'. As a result, we see that the top 10 nearest neighbors are academics from a wide variety of fields, including literature, anthropology, and religious studies.\n",
    "\n",
    "\n",
    "__Quiz Question:__ Using the TF-IDF representation, compute the 5000 nearest neighbors for American baseball player Alex Rodriguez. For what value of k is Mariano Rivera the k-th nearest neighbor to Alex Rodriguez? (Hint: Once you have a list of the nearest neighbors, you can use `mylist.index(value)` to find the index of the first instance of `value` in `mylist`.)\n",
    "\n",
    "__Quiz Question:__ Using the LDA representation, compute the 5000 nearest neighbors for American baseball player Alex Rodriguez. For what value of k is Mariano Rivera the k-th nearest neighbor to Alex Rodriguez? (Hint: Once you have a list of the nearest neighbors, you can use `mylist.index(value)` to find the index of the first instance of `value` in `mylist`.)"
   ]
  },
  {
   "cell_type": "code",
   "execution_count": 45,
   "metadata": {
    "collapsed": false
   },
   "outputs": [
    {
     "data": {
      "text/html": [
       "<pre>Starting pairwise querying.</pre>"
      ],
      "text/plain": [
       "Starting pairwise querying."
      ]
     },
     "metadata": {},
     "output_type": "display_data"
    },
    {
     "data": {
      "text/html": [
       "<pre>+--------------+---------+-------------+--------------+</pre>"
      ],
      "text/plain": [
       "+--------------+---------+-------------+--------------+"
      ]
     },
     "metadata": {},
     "output_type": "display_data"
    },
    {
     "data": {
      "text/html": [
       "<pre>| Query points | # Pairs | % Complete. | Elapsed Time |</pre>"
      ],
      "text/plain": [
       "| Query points | # Pairs | % Complete. | Elapsed Time |"
      ]
     },
     "metadata": {},
     "output_type": "display_data"
    },
    {
     "data": {
      "text/html": [
       "<pre>+--------------+---------+-------------+--------------+</pre>"
      ],
      "text/plain": [
       "+--------------+---------+-------------+--------------+"
      ]
     },
     "metadata": {},
     "output_type": "display_data"
    },
    {
     "data": {
      "text/html": [
       "<pre>| 0            | 1       | 0.00169288  | 27.042ms     |</pre>"
      ],
      "text/plain": [
       "| 0            | 1       | 0.00169288  | 27.042ms     |"
      ]
     },
     "metadata": {},
     "output_type": "display_data"
    },
    {
     "data": {
      "text/html": [
       "<pre>| Done         |         | 100         | 354.584ms    |</pre>"
      ],
      "text/plain": [
       "| Done         |         | 100         | 354.584ms    |"
      ]
     },
     "metadata": {},
     "output_type": "display_data"
    },
    {
     "data": {
      "text/html": [
       "<pre>+--------------+---------+-------------+--------------+</pre>"
      ],
      "text/plain": [
       "+--------------+---------+-------------+--------------+"
      ]
     },
     "metadata": {},
     "output_type": "display_data"
    }
   ],
   "source": [
    "pred1 = model_tf_idf.query(wiki[wiki['name'] == 'Alex Rodriguez'], label='name', k=5000)"
   ]
  },
  {
   "cell_type": "code",
   "execution_count": 51,
   "metadata": {
    "collapsed": false
   },
   "outputs": [
    {
     "data": {
      "text/plain": [
       "52"
      ]
     },
     "execution_count": 51,
     "metadata": {},
     "output_type": "execute_result"
    }
   ],
   "source": [
    "list(pred1['reference_label']).index('Mariano Rivera')"
   ]
  },
  {
   "cell_type": "code",
   "execution_count": 52,
   "metadata": {
    "collapsed": false
   },
   "outputs": [
    {
     "data": {
      "text/html": [
       "<pre>Starting pairwise querying.</pre>"
      ],
      "text/plain": [
       "Starting pairwise querying."
      ]
     },
     "metadata": {},
     "output_type": "display_data"
    },
    {
     "data": {
      "text/html": [
       "<pre>+--------------+---------+-------------+--------------+</pre>"
      ],
      "text/plain": [
       "+--------------+---------+-------------+--------------+"
      ]
     },
     "metadata": {},
     "output_type": "display_data"
    },
    {
     "data": {
      "text/html": [
       "<pre>| Query points | # Pairs | % Complete. | Elapsed Time |</pre>"
      ],
      "text/plain": [
       "| Query points | # Pairs | % Complete. | Elapsed Time |"
      ]
     },
     "metadata": {},
     "output_type": "display_data"
    },
    {
     "data": {
      "text/html": [
       "<pre>+--------------+---------+-------------+--------------+</pre>"
      ],
      "text/plain": [
       "+--------------+---------+-------------+--------------+"
      ]
     },
     "metadata": {},
     "output_type": "display_data"
    },
    {
     "data": {
      "text/html": [
       "<pre>| 0            | 1       | 0.00169288  | 12.864ms     |</pre>"
      ],
      "text/plain": [
       "| 0            | 1       | 0.00169288  | 12.864ms     |"
      ]
     },
     "metadata": {},
     "output_type": "display_data"
    },
    {
     "data": {
      "text/html": [
       "<pre>| Done         |         | 100         | 51.118ms     |</pre>"
      ],
      "text/plain": [
       "| Done         |         | 100         | 51.118ms     |"
      ]
     },
     "metadata": {},
     "output_type": "display_data"
    },
    {
     "data": {
      "text/html": [
       "<pre>+--------------+---------+-------------+--------------+</pre>"
      ],
      "text/plain": [
       "+--------------+---------+-------------+--------------+"
      ]
     },
     "metadata": {},
     "output_type": "display_data"
    },
    {
     "data": {
      "text/plain": [
       "191"
      ]
     },
     "execution_count": 52,
     "metadata": {},
     "output_type": "execute_result"
    }
   ],
   "source": [
    "pred2 =model_lda_rep.query(wiki[wiki['name'] == 'Alex Rodriguez'], label='name', k=5000)\n",
    "list(pred2['reference_label']).index('Mariano Rivera')"
   ]
  },
  {
   "cell_type": "markdown",
   "metadata": {},
   "source": [
    "# Understanding the role of LDA model hyperparameters\n",
    "\n",
    "Finally, we'll take a look at the effect of the LDA model hyperparameters alpha and gamma on the characteristics of our fitted model. Recall that alpha is a parameter of the prior distribution over topic weights in each document, while gamma is a parameter of the prior distribution over word weights in each topic. \n",
    "\n",
    "In the video lectures, we saw that alpha and gamma can be thought of as smoothing parameters when we compute how much each document \"likes\" a topic (in the case of alpha) or how much each topic \"likes\" a word (in the case of gamma). In both cases, these parameters serve to reduce the differences across topics or words in terms of these calculated preferences; alpha makes the document preferences \"smoother\" over topics, and gamma makes the topic preferences \"smoother\" over words.\n",
    "\n",
    "Our goal in this section will be to understand how changing these parameter values affects the characteristics of the resulting topic model.\n",
    "\n",
    "__Quiz Question:__ What was the value of alpha used to fit our original topic model? "
   ]
  },
  {
   "cell_type": "code",
   "execution_count": 54,
   "metadata": {
    "collapsed": false
   },
   "outputs": [
    {
     "data": {
      "text/plain": [
       "5"
      ]
     },
     "execution_count": 54,
     "metadata": {},
     "output_type": "execute_result"
    }
   ],
   "source": [
    "5"
   ]
  },
  {
   "cell_type": "markdown",
   "metadata": {},
   "source": [
    "__Quiz Question:__ What was the value of gamma used to fit our original topic model? Remember that GraphLab Create uses \"beta\" instead of \"gamma\" to refer to the hyperparameter that influences topic distributions over words."
   ]
  },
  {
   "cell_type": "code",
   "execution_count": 55,
   "metadata": {
    "collapsed": false
   },
   "outputs": [
    {
     "data": {
      "text/plain": [
       "0.1"
      ]
     },
     "execution_count": 55,
     "metadata": {},
     "output_type": "execute_result"
    }
   ],
   "source": [
    "0.1"
   ]
  },
  {
   "cell_type": "markdown",
   "metadata": {},
   "source": [
    "We'll start by loading some topic models that have been trained using different settings of alpha and gamma. Specifically, we will start by comparing the following two models to our original topic model:\n",
    " - tpm_low_alpha, a model trained with alpha = 1 and default gamma\n",
    " - tpm_high_alpha, a model trained with alpha = 50 and default gamma"
   ]
  },
  {
   "cell_type": "code",
   "execution_count": 57,
   "metadata": {
    "collapsed": false
   },
   "outputs": [],
   "source": [
    "tpm_low_alpha = gl.load_model('lda_low_alpha')\n",
    "tpm_high_alpha = gl.load_model('lda_high_alpha')"
   ]
  },
  {
   "cell_type": "markdown",
   "metadata": {},
   "source": [
    "### Changing the hyperparameter alpha\n",
    "\n",
    "Since alpha is responsible for smoothing document preferences over topics, the impact of changing its value should be visible when we plot the distribution of topic weights for the same document under models fit with different alpha values. In the code below, we plot the (sorted) topic weights for the Wikipedia article on Barack Obama under models fit with high, original, and low settings of alpha."
   ]
  },
  {
   "cell_type": "code",
   "execution_count": 58,
   "metadata": {
    "collapsed": false
   },
   "outputs": [
    {
     "data": {
      "image/png": "[encoded data removed]",
      "text/plain": [
       "<matplotlib.figure.Figure at 0x7efc7441b910>"
      ]
     },
     "metadata": {},
     "output_type": "display_data"
    }
   ],
   "source": [
    "a = np.sort(tpm_low_alpha.predict(obama,output_type='probability')[0])[::-1]\n",
    "b = np.sort(topic_model.predict(obama,output_type='probability')[0])[::-1]\n",
    "c = np.sort(tpm_high_alpha.predict(obama,output_type='probability')[0])[::-1]\n",
    "ind = np.arange(len(a))\n",
    "width = 0.3\n",
    "\n",
    "def param_bar_plot(a,b,c,ind,width,ylim,param,xlab,ylab):\n",
    "    fig = plt.figure()\n",
    "    ax = fig.add_subplot(111)\n",
    "\n",
    "    b1 = ax.bar(ind, a, width, color='lightskyblue')\n",
    "    b2 = ax.bar(ind+width, b, width, color='lightcoral')\n",
    "    b3 = ax.bar(ind+(2*width), c, width, color='gold')\n",
    "\n",
    "    ax.set_xticks(ind+width)\n",
    "    ax.set_xticklabels(range(10))\n",
    "    ax.set_ylabel(ylab)\n",
    "    ax.set_xlabel(xlab)\n",
    "    ax.set_ylim(0,ylim)\n",
    "    ax.legend(handles = [b1,b2,b3],labels=['low '+param,'original model','high '+param])\n",
    "\n",
    "    plt.tight_layout()\n",
    "    \n",
    "param_bar_plot(a,b,c,ind,width,ylim=1.0,param='alpha',\n",
    "               xlab='Topics (sorted by weight of top 100 words)',ylab='Topic Probability for Obama Article')"
   ]
  },
  {
   "cell_type": "markdown",
   "metadata": {},
   "source": [
    "Here we can clearly see the smoothing enforced by the alpha parameter - notice that when alpha is low most of the weight in the topic distribution for this article goes to a single topic, but when alpha is high the weight is much more evenly distributed across the topics.\n",
    "\n",
    "__Quiz Question:__ How many topics are assigned a weight greater than 0.3 or less than 0.05 for the article on Paul Krugman in the **low alpha** model?  Use the average results from 100 topic predictions."
   ]
  },
  {
   "cell_type": "code",
   "execution_count": 59,
   "metadata": {
    "collapsed": false
   },
   "outputs": [
    {
     "name": "stdout",
     "output_type": "stream",
     "text": [
      "+---------------------+-------------------------------+\n",
      "| average predictions |             topics            |\n",
      "+---------------------+-------------------------------+\n",
      "|    0.633765432099   |       art and publishing      |\n",
      "|    0.20962962963    |      music, TV, and film      |\n",
      "|   0.0595679012346   |      international music      |\n",
      "|   0.0171604938272   |  Great Britain and Australia  |\n",
      "|   0.0158024691358   |    international athletics    |\n",
      "|   0.0146296296296   | American college and politics |\n",
      "|   0.0134567901235   |      science and research     |\n",
      "|   0.0130864197531   |          team sports          |\n",
      "|   0.0120987654321   |        general politics       |\n",
      "|   0.0108024691358   |            Business           |\n",
      "+---------------------+-------------------------------+\n",
      "[10 rows x 2 columns]\n",
      "\n"
     ]
    }
   ],
   "source": [
    "gwb = gl.SArray([wiki_docs[int(np.where(wiki['name']=='Paul Krugman')[0])]])\n",
    "print average_predictions(tpm_low_alpha, gwb, 100)"
   ]
  },
  {
   "cell_type": "markdown",
   "metadata": {},
   "source": [
    "__Quiz Question:__ How many topics are assigned a weight greater than 0.3 or less than 0.05 for the article on Paul Krugman in the **high alpha** model? Use the average results from 100 topic predictions."
   ]
  },
  {
   "cell_type": "code",
   "execution_count": 60,
   "metadata": {
    "collapsed": false
   },
   "outputs": [
    {
     "name": "stdout",
     "output_type": "stream",
     "text": [
      "+---------------------+-------------------------------+\n",
      "| average predictions |             topics            |\n",
      "+---------------------+-------------------------------+\n",
      "|    0.325833333333   |  Great Britain and Australia  |\n",
      "|    0.181904761905   |    international athletics    |\n",
      "|   0.0921428571429   |       art and publishing      |\n",
      "|   0.0626984126984   |      music, TV, and film      |\n",
      "|   0.0617857142857   |      international music      |\n",
      "|   0.0603968253968   |            Business           |\n",
      "|   0.0596031746032   | American college and politics |\n",
      "|   0.0581349206349   |          team sports          |\n",
      "|         0.05        |        general politics       |\n",
      "|        0.0475       |      science and research     |\n",
      "+---------------------+-------------------------------+\n",
      "[10 rows x 2 columns]\n",
      "\n"
     ]
    }
   ],
   "source": [
    "gwb = gl.SArray([wiki_docs[int(np.where(wiki['name']=='Paul Krugman')[0])]])\n",
    "print average_predictions(tpm_high_alpha, gwb, 100)"
   ]
  },
  {
   "cell_type": "markdown",
   "metadata": {},
   "source": [
    "### Changing the hyperparameter gamma\n",
    "\n",
    "Just as we were able to see the effect of alpha by plotting topic weights for a document, we expect to be able to visualize the impact of changing gamma by plotting word weights for each topic. In this case, however, there are far too many words in our vocabulary to do this effectively. Instead, we'll plot the total weight of the top 100 words and bottom 1000 words for each topic. Below, we plot the (sorted) total weights of the top 100 words and bottom 1000 from each topic in the high, original, and low gamma models."
   ]
  },
  {
   "cell_type": "markdown",
   "metadata": {},
   "source": [
    "Now we will consider the following two models:\n",
    " - tpm_low_gamma, a model trained with gamma = 0.02 and default alpha\n",
    " - tpm_high_gamma, a model trained with gamma = 0.5 and default alpha"
   ]
  },
  {
   "cell_type": "code",
   "execution_count": 61,
   "metadata": {
    "collapsed": true
   },
   "outputs": [],
   "source": [
    "del tpm_low_alpha\n",
    "del tpm_high_alpha\n",
    "tpm_low_gamma = gl.load_model('lda_low_gamma')\n",
    "tpm_high_gamma = gl.load_model('lda_high_gamma')"
   ]
  },
  {
   "cell_type": "code",
   "execution_count": 62,
   "metadata": {
    "collapsed": false
   },
   "outputs": [
    {
     "data": {
      "image/png": "[encoded data removed]",
      "text/plain": [
       "<matplotlib.figure.Figure at 0x7efc743a5050>"
      ]
     },
     "metadata": {},
     "output_type": "display_data"
    },
    {
     "data": {
      "image/png": "[encoded data removed]",
      "text/plain": [
       "<matplotlib.figure.Figure at 0x7efc7441b750>"
      ]
     },
     "metadata": {},
     "output_type": "display_data"
    }
   ],
   "source": [
    "a_top = np.sort([sum(tpm_low_gamma.get_topics(topic_ids=[i], num_words=100)['score']) for i in range(10)])[::-1]\n",
    "b_top = np.sort([sum(topic_model.get_topics(topic_ids=[i], num_words=100)['score']) for i in range(10)])[::-1]\n",
    "c_top = np.sort([sum(tpm_high_gamma.get_topics(topic_ids=[i], num_words=100)['score']) for i in range(10)])[::-1]\n",
    "\n",
    "a_bot = np.sort([sum(tpm_low_gamma.get_topics(topic_ids=[i], num_words=547462)[-1000:]['score']) for i in range(10)])[::-1]\n",
    "b_bot = np.sort([sum(topic_model.get_topics(topic_ids=[i], num_words=547462)[-1000:]['score']) for i in range(10)])[::-1]\n",
    "c_bot = np.sort([sum(tpm_high_gamma.get_topics(topic_ids=[i], num_words=547462)[-1000:]['score']) for i in range(10)])[::-1]\n",
    "\n",
    "ind = np.arange(len(a))\n",
    "width = 0.3\n",
    "    \n",
    "param_bar_plot(a_top, b_top, c_top, ind, width, ylim=0.6, param='gamma',\n",
    "               xlab='Topics (sorted by weight of top 100 words)', \n",
    "               ylab='Total Probability of Top 100 Words')\n",
    "\n",
    "param_bar_plot(a_bot, b_bot, c_bot, ind, width, ylim=0.0002, param='gamma',\n",
    "               xlab='Topics (sorted by weight of bottom 1000 words)',\n",
    "               ylab='Total Probability of Bottom 1000 Words')"
   ]
  },
  {
   "cell_type": "markdown",
   "metadata": {
    "collapsed": true
   },
   "source": [
    "From these two plots we can see that the low gamma model results in higher weight placed on the top words and lower weight placed on the bottom words for each topic, while the high gamma model places relatively less weight on the top words and more weight on the bottom words. Thus increasing gamma results in topics that have a smoother distribution of weight across all the words in the vocabulary."
   ]
  },
  {
   "cell_type": "markdown",
   "metadata": {},
   "source": [
    "__Quiz Question:__ For each topic of the **low gamma model**, compute the number of words required to make a list with total probability 0.5. What is the average number of words required across all topics? (HINT: use the get\\_topics() function from GraphLab Create with the cdf\\_cutoff argument)."
   ]
  },
  {
   "cell_type": "code",
   "execution_count": 71,
   "metadata": {
    "collapsed": false
   },
   "outputs": [
    {
     "name": "stdout",
     "output_type": "stream",
     "text": [
      "+-------+--------------+-------------------+\n",
      "| topic |     word     |       score       |\n",
      "+-------+--------------+-------------------+\n",
      "|   0   |     born     |  0.0199425183958  |\n",
      "|   0   |    years     |  0.0112323096805  |\n",
      "|   0   |     time     |  0.0107843438708  |\n",
      "|   0   |    south     |  0.00903738412603 |\n",
      "|   0   |     2005     |  0.00892833278333 |\n",
      "|   0   |     2008     |  0.00892084886765 |\n",
      "|   0   |     2007     |  0.00879576056279 |\n",
      "|   0   |     2009     |  0.00865570442658 |\n",
      "|   0   |  australian  |  0.00827723211957 |\n",
      "|   0   |   canadian   |  0.00809654901255 |\n",
      "|   0   |    london    |  0.00770310887419 |\n",
      "|   0   |    joined    |  0.00765072146446 |\n",
      "|   0   |    united    |  0.00718564956178 |\n",
      "|   0   |      st      |  0.00715036824502 |\n",
      "|   0   |    canada    |  0.00685101161801 |\n",
      "|   0   |     made     |  0.00684780422558 |\n",
      "|   0   |     2001     |  0.00658052152289 |\n",
      "|   0   |     john     |  0.00622343183209 |\n",
      "|   0   |  australia   |  0.00614110875966 |\n",
      "|   0   |     2004     |  0.00601708958561 |\n",
      "|   0   |     city     |  0.00587596431859 |\n",
      "|   0   |     2011     |  0.00532856934348 |\n",
      "|   0   |   december   |  0.00514360971322 |\n",
      "|   0   |   october    |  0.00497575617593 |\n",
      "|   0   |   england    |  0.00497147965268 |\n",
      "|   0   |     1997     |  0.00490198614998 |\n",
      "|   0   |    church    |  0.00486242830998 |\n",
      "|   0   |     left     |  0.0048143174235  |\n",
      "|   0   |     2003     |  0.00463042692405 |\n",
      "|   0   |   january    |  0.00442515380838 |\n",
      "|   0   |     race     |  0.00440377119216 |\n",
      "|   0   |     july     |  0.00436421335217 |\n",
      "|   0   |     part     |  0.00435352204406 |\n",
      "|   0   |    early     |  0.00420705112298 |\n",
      "|   0   |  september   |  0.00413862675109 |\n",
      "|   0   |   returned   |  0.00406806411758 |\n",
      "|   0   |     work     |  0.00397504973705 |\n",
      "|   0   |   toronto    |   0.003771914883  |\n",
      "|   0   |    august    |  0.00359764656085 |\n",
      "|   0   |   ireland    |  0.00347683477923 |\n",
      "|   0   |     1984     |  0.00343941520085 |\n",
      "|   0   |    member    |  0.00343834607004 |\n",
      "|   0   |   february   |  0.00343513867761 |\n",
      "|   0   |   english    |  0.00339771909923 |\n",
      "|   0   |     1990     |  0.00336029952086 |\n",
      "|   0   |    april     |  0.00320313729167 |\n",
      "|   0   |    irish     |  0.00310263899546 |\n",
      "|   0   |      1       |  0.00309301681816 |\n",
      "|   0   |     son      |  0.00308018724844 |\n",
      "|   0   |    number    |  0.00305238984736 |\n",
      "|   0   |     1993     |  0.00299144939114 |\n",
      "|   0   |     end      |  0.00296685938249 |\n",
      "|   0   |    peter     |  0.00286529195547 |\n",
      "|   0   |   northern   |  0.00278938366791 |\n",
      "|   0   |    began     |  0.00277013931331 |\n",
      "|   0   |    david     |  0.00269850754899 |\n",
      "|   0   |     1985     |  0.00264398187764 |\n",
      "|   0   |     east     |  0.0025605896744  |\n",
      "|   0   |   ontario    |  0.00253493053494 |\n",
      "|   0   |  announced   |  0.00247292094792 |\n",
      "|   0   |    sydney    |   0.002461160509  |\n",
      "|   0   |    short     |  0.00244512354684 |\n",
      "|   0   |     1992     |  0.00240770396846 |\n",
      "|   0   |    wales     |  0.0023713535209  |\n",
      "|   0   |     1994     |  0.00234676351225 |\n",
      "|   0   |   involved   |  0.00234248698901 |\n",
      "|   0   |  melbourne   |  0.00231148219549 |\n",
      "|   0   |   scottish   |  0.00226550957063 |\n",
      "|   0   |   educated   |  0.00225802565496 |\n",
      "|   0   |    local     |  0.00224947260847 |\n",
      "|   0   |     1982     |  0.00219815432955 |\n",
      "|   0   | subsequently |  0.00213079908847 |\n",
      "|   0   |     age      |  0.00212972995766 |\n",
      "|   0   |      3       |  0.00211048560307 |\n",
      "|   0   |     paul     |  0.00209979429496 |\n",
      "|   0   |     hong     |  0.00205809819334 |\n",
      "|   0   |   started    |  0.00202923166145 |\n",
      "|   0   |    centre    |  0.00201640209172 |\n",
      "|   0   |     1983     |  0.00200998730686 |\n",
      "|   0   |      8       |  0.00199822686794 |\n",
      "|   0   |     park     |  0.00197791338253 |\n",
      "|   0   |     1989     |  0.0019747059901  |\n",
      "|   0   |    bishop    |  0.00195653076632 |\n",
      "|   0   |      10      |  0.0019351481501  |\n",
      "|   0   |     kong     |  0.00192980249605 |\n",
      "|   0   |   scotland   |  0.00191590379551 |\n",
      "|   0   |     1979     |  0.00186779290903 |\n",
      "|   0   |   leaving    |  0.00179936853714 |\n",
      "|   0   |      4       |  0.00173735895011 |\n",
      "|   0   |     1988     |  0.00172346024957 |\n",
      "|   0   |    james     |  0.00171811459552 |\n",
      "|   0   |      12      |  0.00171063067984 |\n",
      "|   0   |    return    |  0.00166786544741 |\n",
      "|   0   |      6       |  0.0016368606539  |\n",
      "|   0   |    career    |  0.00161868543012 |\n",
      "|   0   |   victoria   |  0.0016165471685  |\n",
      "|   0   |   britain    |  0.00161013238363 |\n",
      "|   0   |     1981     |  0.00161013238363 |\n",
      "|   0   |      7       |  0.00159409542147 |\n",
      "|   0   |     sir      |  0.00157912759012 |\n",
      "|   0   |  considered  |  0.00157805845931 |\n",
      "|   0   |  continued   |  0.00153101670363 |\n",
      "|   0   |    dublin    |  0.00150321930255 |\n",
      "|   0   |  appointed   |  0.00150321930255 |\n",
      "|   0   |     1977     |  0.00149038973283 |\n",
      "|   0   |  christian   |  0.00146473059337 |\n",
      "|   0   |    andrew    |  0.00146473059337 |\n",
      "|   0   |    martin    |  0.00143479493067 |\n",
      "|   0   |    queens    |  0.00143158753823 |\n",
      "|   0   |      30      |  0.00140165187553 |\n",
      "|   0   |     held     |  0.00139309882905 |\n",
      "|   0   |      2       |  0.00138668404418 |\n",
      "|   0   |   included   |  0.0013685088204  |\n",
      "|   0   |    county    |  0.00135781751229 |\n",
      "|   0   |  manchester  |  0.00135674838148 |\n",
      "|   0   |    brian     |  0.00132360532635 |\n",
      "|   0   |    moving    |  0.00132146706472 |\n",
      "|   0   |    called    |  0.00131184488743 |\n",
      "|   0   |     form     |  0.0012893931404  |\n",
      "|   0   |   kingdom    |  0.00128832400959 |\n",
      "|   0   |     join     |  0.00128404748635 |\n",
      "|   0   |    period    |  0.00127656357067 |\n",
      "|   0   |     home     |  0.00127014878581 |\n",
      "|   0   |      18      |  0.00126694139337 |\n",
      "|   0   |   children   |  0.00125838834689 |\n",
      "|   0   |    1970s     |  0.00125197356202 |\n",
      "|   0   |     tony     |  0.00124769703878 |\n",
      "|   0   |     1975     |  0.00123807486148 |\n",
      "|   0   |  birmingham  |  0.00123166007662 |\n",
      "|   0   |   montreal   |  0.00122096876851 |\n",
      "|   0   |    quebec    |  0.00121776137608 |\n",
      "|   0   |  vancouver   |  0.00121348485284 |\n",
      "|   0   |      11      |  0.00121241572203 |\n",
      "|   0   |  initially   |  0.00120707006797 |\n",
      "|   0   |  programme   |  0.00120172441392 |\n",
      "|   0   |      25      |   0.001189963975  |\n",
      "|   0   |    riding    |   0.001189963975  |\n",
      "|   0   |      15      |  0.00117499614365 |\n",
      "|   0   |     back     |  0.00117071962041 |\n",
      "|   0   |     1980     |  0.00117071962041 |\n",
      "|   0   |    formed    |  0.00116109744311 |\n",
      "|   0   |   brothers   |  0.00115789005068 |\n",
      "|   0   |    named     |  0.00115789005068 |\n",
      "|   0   |   premier    |  0.00115147526581 |\n",
      "|   0   |   charles    |  0.00114292221933 |\n",
      "|   0   |  queensland  |  0.0011407839577  |\n",
      "|   0   |    place     |  0.00113971482689 |\n",
      "|   0   |    scott     |  0.00113757656527 |\n",
      "|   0   |     man      |  0.00113116178041 |\n",
      "|   0   |      16      |  0.0011300926496  |\n",
      "|   0   |   remained   |  0.00111298655662 |\n",
      "|   0   |    taylor    |  0.00111191742581 |\n",
      "|   0   |     due      |  0.00110871003338 |\n",
      "|   0   |    sunday    |  0.00110764090257 |\n",
      "|   0   |     lord     |  0.00110229524852 |\n",
      "|   0   |    saint     |  0.00110122611771 |\n",
      "|   0   |     full     |  0.0010905348096  |\n",
      "|   0   |    ottawa    |  0.00108839654798 |\n",
      "|   0   |     utah     |  0.00108625828636 |\n",
      "|   0   |     move     |  0.00107984350149 |\n",
      "|   0   |   adelaide   |  0.00107342871663 |\n",
      "|   0   |   francis    |  0.00105953001609 |\n",
      "|   0   |   richard    |  0.00105739175446 |\n",
      "|   0   |      9       |  0.0010413547923  |\n",
      "|   0   |     gary     |  0.00103280174582 |\n",
      "|   0   |      19      |  0.0010306634842  |\n",
      "|   0   |   joining    |  0.00102424869933 |\n",
      "|   0   |     1973     |  0.00102211043771 |\n",
      "|   0   |     1963     |  0.00101569565284 |\n",
      "|   0   |    1980s     |  0.00101462652203 |\n",
      "|   0   |    kevin     |  0.00101248826041 |\n",
      "|   0   |   leading    | 0.000999658690683 |\n",
      "|   0   |    kings     | 0.000983621728522 |\n",
      "|   0   |   anthony    |  0.0009814834669  |\n",
      "|   0   |     alan     | 0.000979345205279 |\n",
      "|   0   |  returning   | 0.000972930420414 |\n",
      "|   0   |     ran      | 0.000969723027982 |\n",
      "|   0   |    kelly     | 0.000969723027982 |\n",
      "|   0   |  victorian   | 0.000960100850685 |\n",
      "|   0   |   alberta    | 0.000959031719874 |\n",
      "|   0   |     hill     | 0.000959031719874 |\n",
      "|   0   |   hamilton   | 0.000957962589063 |\n",
      "|   0   |     ian      |  0.00095368606582 |\n",
      "|   0   |   robinson   | 0.000950478673388 |\n",
      "+-------+--------------+-------------------+\n",
      "[184 rows x 3 columns]\n",
      "\n"
     ]
    }
   ],
   "source": [
    "tpm_low_gamma.get_topics(topic_ids=[0],cdf_cutoff=0.5,num_words=1000).print_rows(1000)"
   ]
  },
  {
   "cell_type": "markdown",
   "metadata": {},
   "source": [
    "__Quiz Question:__ For each topic of the **high gamma model**, compute the number of words required to make a list with total probability 0.5. What is the average number of words required across all topics? (HINT: use the get\\_topics() function from GraphLab Create with the cdf\\_cutoff argument)."
   ]
  },
  {
   "cell_type": "code",
   "execution_count": 72,
   "metadata": {
    "collapsed": false
   },
   "outputs": [
    {
     "name": "stdout",
     "output_type": "stream",
     "text": [
      "+-------+---------------+-------------------+\n",
      "| topic |      word     |       score       |\n",
      "+-------+---------------+-------------------+\n",
      "|   0   |     league    |  0.0153348831959  |\n",
      "|   0   |     season    |  0.0144899511253  |\n",
      "|   0   |     played    |  0.0141521274466  |\n",
      "|   0   |      team     |  0.0104718628672  |\n",
      "|   0   |    football   |  0.00916904174868 |\n",
      "|   0   |     games     |  0.00765442830173 |\n",
      "|   0   |     career    |   0.007435178497  |\n",
      "|   0   |     coach     |  0.00716148911491 |\n",
      "|   0   |      club     |  0.00665139773248 |\n",
      "|   0   |     player    |  0.00663200829397 |\n",
      "|   0   |      game     |  0.00603391869059 |\n",
      "|   0   |      born     |  0.00573114515073 |\n",
      "|   0   |    playing    |  0.00492872069533 |\n",
      "|   0   |      year     |  0.00489367055648 |\n",
      "|   0   |  professional |  0.00453347444871 |\n",
      "|   0   |    baseball   |  0.00453272870108 |\n",
      "|   0   |      cup      |  0.00437313870716 |\n",
      "|   0   |    seasons    |  0.0042381583852  |\n",
      "|   0   |      made     |  0.00420087100345 |\n",
      "|   0   |     signed    |  0.00385484410075 |\n",
      "|   0   |     major     |  0.00383172592406 |\n",
      "|   0   |    national   |  0.00356773126122 |\n",
      "|   0   |      play     |  0.00334997295176 |\n",
      "|   0   |     years     |  0.00333058351325 |\n",
      "|   0   |   basketball  |  0.00321424688217 |\n",
      "|   0   |      won      |  0.00312699440886 |\n",
      "|   0   |     final     |  0.00304048768319 |\n",
      "|   0   |     record    |  0.00271981620008 |\n",
      "|   0   |    manager    |  0.00271012148082 |\n",
      "|   0   |      time     |  0.00270415549974 |\n",
      "|   0   |     debut     |  0.00266463087508 |\n",
      "|   0   |      high     |  0.00263181797913 |\n",
      "|   0   |     goals     |  0.00262659774569 |\n",
      "|   0   |      head     |  0.00257514115886 |\n",
      "|   0   |     named     |  0.00252890480549 |\n",
      "|   0   |     rugby     |  0.00248938018082 |\n",
      "|   0   |     hockey    |  0.00244910980853 |\n",
      "|   0   |    american   |  0.00242897462238 |\n",
      "|   0   |     joined    |  0.0024230086413  |\n",
      "|   0   |     spent     |  0.00242077139839 |\n",
      "|   0   |     school    |  0.00240511069806 |\n",
      "|   0   |     scored    |  0.00233351892508 |\n",
      "|   0   |  championship |  0.00231860397238 |\n",
      "|   0   |      end      |  0.0023148752342  |\n",
      "|   0   |   university  |  0.00227311336664 |\n",
      "|   0   |      home     |  0.00222911425616 |\n",
      "|   0   |     draft     |  0.00221345355583 |\n",
      "|   0   |      city     |  0.00219033537914 |\n",
      "|   0   |     round     |  0.00217542042644 |\n",
      "|   0   |      side     |  0.00216721720245 |\n",
      "|   0   |  appearances  |  0.00216497995954 |\n",
      "|   0   |    college    |  0.00212992982069 |\n",
      "|   0   |     united    |  0.00210606589637 |\n",
      "|   0   |    players    |  0.00207250725279 |\n",
      "|   0   |    division   |  0.00204416884265 |\n",
      "|   0   |     teams     |  0.00201657618015 |\n",
      "|   0   |      2007     |  0.00198450903184 |\n",
      "|   0   |      2006     |  0.00197332281732 |\n",
      "|   0   |      runs     |  0.00194573015482 |\n",
      "|   0   |    retired    |  0.00193603543556 |\n",
      "|   0   |      2008     |  0.00190396828725 |\n",
      "|   0   |   footballer  |  0.00188681609164 |\n",
      "|   0   |   september   |  0.00187264688657 |\n",
      "|   0   |      win      |  0.00186817240076 |\n",
      "|   0   |     minor     |  0.00185847768151 |\n",
      "|   0   |    returned   |  0.00185102020515 |\n",
      "|   0   |      back     |  0.00184207123353 |\n",
      "|   0   |     moved     |  0.00184057973826 |\n",
      "|   0   |     soccer    |  0.00183013927137 |\n",
      "|   0   |     points    |  0.00181522431867 |\n",
      "|   0   |    contract   |  0.00180329235651 |\n",
      "|   0   |     senior    |  0.00178166567509 |\n",
      "|   0   |    scoring    |  0.00172871759299 |\n",
      "|   0   |      july     |  0.00170261642576 |\n",
      "|   0   |      june     |  0.00169963343522 |\n",
      "|   0   |      left     |  0.00166980352982 |\n",
      "|   0   |      2010     |  0.00166383754874 |\n",
      "|   0   |     august    |  0.00164892259603 |\n",
      "|   0   |      led      |  0.00163251614806 |\n",
      "|   0   |    january    |  0.0016228214288  |\n",
      "|   0   |     match     |  0.00160939797137 |\n",
      "|   0   |     world     |  0.00158702554232 |\n",
      "|   0   |    selected   |  0.00157509358016 |\n",
      "|   0   |      2009     |  0.00155794138455 |\n",
      "|   0   |     state     |  0.00151170503117 |\n",
      "|   0   |       10      |  0.00149380708793 |\n",
      "|   0   |       st      |  0.00149007834975 |\n",
      "|   0   |    winning    |  0.00147814638759 |\n",
      "|   0   |    coaching   |  0.0014699431636  |\n",
      "|   0   |     began     |  0.0014423505011  |\n",
      "|   0   |      2011     |  0.00143265578185 |\n",
      "|   0   |      2005     |  0.00142221531495 |\n",
      "|   0   |   assistant   |  0.00142072381968 |\n",
      "|   0   |    started    |  0.00140431737171 |\n",
      "|   0   |      2004     |  0.00140208012881 |\n",
      "|   0   |       2       |   0.001397605643  |\n",
      "|   0   |     clubs     |   0.001397605643  |\n",
      "|   0   |      goal     |  0.00138791092374 |\n",
      "|   0   |     march     |  0.00138269069029 |\n",
      "|   0   |      san      |  0.00137896195212 |\n",
      "|   0   |    october    |  0.00136702998996 |\n",
      "|   0   |      2003     |  0.0013573352707  |\n",
      "|   0   |      nfl      |  0.00134614905617 |\n",
      "|   0   |     april     |  0.0013446575609  |\n",
      "|   0   |    november   |  0.00134391181327 |\n",
      "|   0   |       11      |  0.00134316606563 |\n",
      "|   0   |      era      |   0.001342420318  |\n",
      "|   0   |       1       |  0.00133347134637 |\n",
      "|   0   |     earned    |  0.00131109891732 |\n",
      "|   0   |      hall     |  0.00131109891732 |\n",
      "|   0   |      hit      |  0.00130886167442 |\n",
      "|   0   |     sports    |  0.00130364144097 |\n",
      "|   0   |       fc      |  0.00128425200246 |\n",
      "|   0   |      york     |  0.00128201475955 |\n",
      "|   0   |       3       |  0.00127903176901 |\n",
      "|   0   |    february   |  0.00127232004029 |\n",
      "|   0   |      nba      |  0.00126859130212 |\n",
      "|   0   |   conference  |  0.00126113382577 |\n",
      "|   0   |      part     |  0.00125516784469 |\n",
      "|   0   |    finished   |  0.00125367634942 |\n",
      "|   0   |       6       |  0.00124994761124 |\n",
      "|   0   |       12      |  0.00124025289198 |\n",
      "|   0   |      town     |   0.001232049668  |\n",
      "|   0   |       5       |  0.00122459219165 |\n",
      "|   0   |    december   |  0.00121415172475 |\n",
      "|   0   |     injury    |  0.00120520275313 |\n",
      "|   0   |    released   |  0.00120147401496 |\n",
      "|   0   |    pitcher    |  0.00120072826732 |\n",
      "|   0   |    drafted    |  0.00119923677205 |\n",
      "|   0   |      free     |  0.00119103354806 |\n",
      "|   0   |      nhl      |  0.00118506756698 |\n",
      "|   0   |       20      |   0.001176864343  |\n",
      "|   0   |    average    |  0.00117462710009 |\n",
      "|   0   |      top      |  0.00116493238084 |\n",
      "|   0   |     traded    |  0.00115523766158 |\n",
      "|   0   |    matches    |  0.0011515089234  |\n",
      "|   0   |      2001     |  0.00114554294232 |\n",
      "|   0   |      2002     |  0.00114032270888 |\n",
      "|   0   |     times     |  0.00113883121361 |\n",
      "|   0   |    history    |  0.00113584822307 |\n",
      "|   0   |    leagues    |  0.00112988224198 |\n",
      "|   0   |      2012     |  0.00112839074671 |\n",
      "|   0   |     plays     |  0.00112764499908 |\n",
      "|   0   |      red      |  0.00112689925144 |\n",
      "|   0   |       14      |  0.00112615350381 |\n",
      "|   0   |    starting   |  0.00112317051327 |\n",
      "|   0   |      run      |  0.00110303532712 |\n",
      "|   0   |      2000     |  0.00110154383185 |\n",
      "|   0   |       21      |  0.0010940863555  |\n",
      "|   0   |     north     |  0.0010814086457  |\n",
      "|   0   |    regular    |  0.00107842565516 |\n",
      "|   0   |      afl      |  0.00107618841225 |\n",
      "|   0   |      sox      |  0.00106798518827 |\n",
      "|   0   |       16      |  0.00105307023557 |\n",
      "|   0   |      fame     |  0.00105232448793 |\n",
      "|   0   |       15      |  0.00103740953523 |\n",
      "|   0   |      1999     |  0.00103368079705 |\n",
      "|   0   |     level     |  0.00102771481597 |\n",
      "|   0   |       4       |  0.00102473182543 |\n",
      "|   0   |       18      |  0.00102473182543 |\n",
      "|   0   |      1997     |  0.00101727434908 |\n",
      "|   0   |      1998     |  0.00101652860144 |\n",
      "|   0   |      ncaa     |  0.0010135456109  |\n",
      "|   0   |     south     |   0.001011308368  |\n",
      "|   0   |     total     |  0.00100832537746 |\n",
      "|   0   |      west     |  0.00100534238692 |\n",
      "|   0   |       13      | 0.000996393415296 |\n",
      "|   0   |    chicago    | 0.000992664677121 |\n",
      "|   0   |      1996     | 0.000982224210229 |\n",
      "|   0   |     squad     | 0.000977749724418 |\n",
      "|   0   |     junior    | 0.000968055005161 |\n",
      "|   0   |       17      | 0.000961343276445 |\n",
      "|   0   |    position   | 0.000952394304824 |\n",
      "|   0   |       22      | 0.000946428323742 |\n",
      "|   0   |   including   | 0.000943445333202 |\n",
      "|   0   |     super     | 0.000939716595026 |\n",
      "|   0   |     making    | 0.000938970847391 |\n",
      "|   0   |     yards     | 0.000935242109216 |\n",
      "|   0   |      2013     |  0.00093449636158 |\n",
      "|   0   |    england    |  0.00093002187577 |\n",
      "|   0   |       19      | 0.000916598418337 |\n",
      "|   0   |   tournament  | 0.000914361175432 |\n",
      "|   0   |    attended   | 0.000906903699081 |\n",
      "|   0   |    captain    | 0.000897954727459 |\n",
      "|   0   |      1995     | 0.000893480241648 |\n",
      "|   0   |    athletic   | 0.000892734494013 |\n",
      "|   0   |    premier    | 0.000889005755838 |\n",
      "|   0   |    innings    | 0.000880056784216 |\n",
      "|   0   |      big      | 0.000874090803135 |\n",
      "|   0   |       23      | 0.000863650336243 |\n",
      "|   0   |      2014     | 0.000860667345703 |\n",
      "|   0   |    coached    | 0.000860667345703 |\n",
      "|   0   |    allstar    | 0.000855447112257 |\n",
      "|   0   |     tigers    | 0.000851718374081 |\n",
      "|   0   |       30      |  0.00084724388827 |\n",
      "|   0   |     youth     | 0.000845006645365 |\n",
      "|   0   |     field     | 0.000833074683203 |\n",
      "|   0   |       8       | 0.000833074683203 |\n",
      "|   0   |     start     | 0.000828600197392 |\n",
      "|   0   |    forward    | 0.000823379963946 |\n",
      "|   0   |    appeared   | 0.000821888468676 |\n",
      "|   0   |       7       | 0.000820396973406 |\n",
      "|   0   |    pitched    | 0.000818905478135 |\n",
      "|   0   |      due      | 0.000817413982865 |\n",
      "|   0   |   appearance  |  0.00081517673996 |\n",
      "|   0   |     helped    | 0.000814430992325 |\n",
      "|   0   |      ice      | 0.000814430992325 |\n",
      "|   0   |    joining    | 0.000813685244689 |\n",
      "|   0   |     series    | 0.000803244777798 |\n",
      "|   0   |    rangers    | 0.000800261787257 |\n",
      "|   0   | international | 0.000797278796717 |\n",
      "|   0   |     agent     | 0.000794295806176 |\n",
      "|   0   |      1994     | 0.000793550058541 |\n",
      "|   0   |     giants    |   0.000790567068  |\n",
      "|   0   |      1984     | 0.000788329825095 |\n",
      "|   0   |     batted    | 0.000786838329825 |\n",
      "|   0   |      bowl     | 0.000785346834555 |\n",
      "|   0   |     boston    | 0.000782363844014 |\n",
      "|   0   |   defensive   | 0.000782363844014 |\n",
      "|   0   |      1982     | 0.000781618096379 |\n",
      "|   0   |     award     | 0.000777889358203 |\n",
      "|   0   |      1992     | 0.000777889358203 |\n",
      "|   0   |   australian  | 0.000766703143676 |\n",
      "|   0   |      1989     |  0.00076148291023 |\n",
      "|   0   |     ended     |  0.00076148291023 |\n",
      "|   0   |     member    | 0.000759245667325 |\n",
      "|   0   |      1993     | 0.000751788190974 |\n",
      "|   0   |      1990     | 0.000751042443339 |\n",
      "|   0   |      lost     | 0.000750296695704 |\n",
      "|   0   |      1981     | 0.000748805200433 |\n",
      "|   0   |      1979     | 0.000746567957528 |\n",
      "|   0   |       9       | 0.000746567957528 |\n",
      "|   0   |    victory    | 0.000739110481177 |\n",
      "|   0   |      1980     | 0.000738364733541 |\n",
      "|   0   |      1987     | 0.000737618985906 |\n",
      "|   0   |     rules     | 0.000736127490636 |\n",
      "|   0   |      1983     |  0.00073239875246 |\n",
      "|   0   |      1988     | 0.000731653004825 |\n",
      "|   0   |      1991     | 0.000726432771379 |\n",
      "|   0   |      loan     | 0.000723449780839 |\n",
      "|   0   |      1985     | 0.000723449780839 |\n",
      "|   0   |   retirement  | 0.000719721042663 |\n",
      "|   0   |      make     | 0.000719721042663 |\n",
      "|   0   |      1986     | 0.000716738052123 |\n",
      "|   0   |    leading    | 0.000715992304488 |\n",
      "|   0   |       25      | 0.000715246556852 |\n",
      "|   0   |       24      | 0.000714500809217 |\n",
      "|   0   |    detroit    | 0.000714500809217 |\n",
      "|   0   |      ball     | 0.000711517818677 |\n",
      "|   0   |     rookie    | 0.000710026323407 |\n",
      "|   0   |      hits     | 0.000709280575771 |\n",
      "|   0   |     louis     | 0.000707789080501 |\n",
      "|   0   |     texas     | 0.000704806089961 |\n",
      "|   0   |     number    | 0.000702568847055 |\n",
      "|   0   |      age      | 0.000692128380163 |\n",
      "|   0   |   cleveland   | 0.000686162399082 |\n",
      "|   0   |  association  | 0.000685416651447 |\n",
      "|   0   |     summer    | 0.000680942165636 |\n",
      "|   0   |      los      | 0.000680196418001 |\n",
      "|   0   |   successful  |  0.00067423043692 |\n",
      "|   0   |       26      |  0.00067273894165 |\n",
      "|   0   |      pick     | 0.000668264455839 |\n",
      "|   0   |     return    | 0.000663789970029 |\n",
      "|   0   |      1974     | 0.000663789970029 |\n",
      "|   0   |      fifa     | 0.000658569736583 |\n",
      "|   0   |    amateur    | 0.000653349503137 |\n",
      "|   0   |    angeles    | 0.000651858007866 |\n",
      "|   0   |      1978     | 0.000649620764961 |\n",
      "|   0   |       29      | 0.000646637774421 |\n",
      "|   0   |       28      |  0.00064514627915 |\n",
      "|   0   |  philadelphia | 0.000642909036245 |\n",
      "|   0   |    batting    |  0.00064216328861 |\n",
      "|   0   |     kansas    | 0.000639180298069 |\n",
      "|   0   |  premiership  | 0.000638434550434 |\n",
      "|   0   |   announced   | 0.000633960064623 |\n",
      "|   0   |       31      | 0.000630977074083 |\n",
      "|   0   |   california  | 0.000629485578813 |\n",
      "|   0   |      mlb      | 0.000628739831177 |\n",
      "|   0   |       27      | 0.000623519597732 |\n",
      "|   0   |     called    | 0.000619790859556 |\n",
      "|   0   |     rovers    | 0.000618299364286 |\n",
      "|   0   |      1977     | 0.000616807869015 |\n",
      "|   0   |   promotion   | 0.000616807869015 |\n",
      "|   0   |      1976     | 0.000616807869015 |\n",
      "|   0   |      ten      | 0.000615316373745 |\n",
      "|   0   |    english    |  0.00061307913084 |\n",
      "|   0   |    signing    |  0.00061307913084 |\n",
      "|   0   |   cardinals   | 0.000607858897394 |\n",
      "|   0   |  allamerican  | 0.000604875906853 |\n",
      "|   0   |    florida    | 0.000601892916313 |\n",
      "|   0   |     spell     | 0.000598909925772 |\n",
      "|   0   |     title     | 0.000598909925772 |\n",
      "|   0   |    indians    | 0.000597418430502 |\n",
      "|   0   |    managed    | 0.000595181187597 |\n",
      "|   0   |      1975     | 0.000594435439962 |\n",
      "|   0   |     diego     | 0.000593689692326 |\n",
      "|   0   |      uefa     | 0.000591452449421 |\n",
      "|   0   |    retiring   | 0.000590706701786 |\n",
      "|   0   |    stadium    | 0.000589215206516 |\n",
      "|   0   |     finals    | 0.000587723711245 |\n",
      "|   0   |  consecutive  |  0.00058697796361 |\n",
      "|   0   |      mets     | 0.000583249225435 |\n",
      "|   0   |      half     | 0.000580266234894 |\n",
      "|   0   |     union     | 0.000577283244354 |\n",
      "|   0   |      1970     | 0.000575791749083 |\n",
      "|   0   |      1971     | 0.000575791749083 |\n",
      "|   0   |      mens     | 0.000574300253813 |\n",
      "|   0   |     lions     | 0.000574300253813 |\n",
      "|   0   |    inducted   | 0.000573554506178 |\n",
      "|   0   |      blue     | 0.000572808758543 |\n",
      "|   0   |     grand     | 0.000571317263272 |\n",
      "|   0   |    canadian   | 0.000569825768002 |\n",
      "|   0   |      deal     | 0.000567588525097 |\n",
      "|   0   |      1969     | 0.000566097029827 |\n",
      "|   0   |      mark     | 0.000563114039286 |\n",
      "|   0   |     trophy    | 0.000560876796381 |\n",
      "|   0   |     place     | 0.000558639553475 |\n",
      "|   0   |    houston    |  0.00055789380584 |\n",
      "+-------+---------------+-------------------+\n",
      "[318 rows x 3 columns]\n",
      "\n"
     ]
    }
   ],
   "source": [
    "tpm_high_gamma.get_topics(topic_ids=[0],cdf_cutoff=0.5,num_words=1000).print_rows(1000)"
   ]
  },
  {
   "cell_type": "markdown",
   "metadata": {},
   "source": [
    "We have now seen how the hyperparameters alpha and gamma influence the characteristics of our LDA topic model, but we haven't said anything about what settings of alpha or gamma are best. We know that these parameters are responsible for controlling the smoothness of the topic distributions for documents and word distributions for topics, but there's no simple conversion between smoothness of these distributions and quality of the topic model. In reality, there is no universally \"best\" choice for these parameters. Instead, finding a good topic model requires that we be able to both explore the output (as we did by looking at the topics and checking some topic predictions for documents) and understand the impact of hyperparameter settings (as we have in this section)."
   ]
  }
 ],
 "metadata": {
  "kernelspec": {
   "display_name": "Python 2",
   "language": "python",
   "name": "python2"
  },
  "language_info": {
   "codemirror_mode": {
    "name": "ipython",
    "version": 2
   },
   "file_extension": ".py",
   "mimetype": "text/x-python",
   "name": "python",
   "nbconvert_exporter": "python",
   "pygments_lexer": "ipython2",
   "version": "2.7.6"
  }
 },
 "nbformat": 4,
 "nbformat_minor": 0
}
